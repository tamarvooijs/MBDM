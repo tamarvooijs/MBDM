{
 "cells": [
  {
   "cell_type": "code",
   "execution_count": 1,
   "metadata": {},
   "outputs": [
    {
     "data": {
      "text/plain": [
       "<Logger EMA (DEBUG)>"
      ]
     },
     "execution_count": 1,
     "metadata": {},
     "output_type": "execute_result"
    }
   ],
   "source": [
    "from ema_workbench import save_results, ema_logging\n",
    "from ema_workbench.util.utilities import load_results\n",
    "import numpy as np\n",
    "import pandas as pd\n",
    "ema_logging.log_to_stderr(ema_logging.INFO)"
   ]
  },
  {
   "cell_type": "code",
   "execution_count": 2,
   "metadata": {},
   "outputs": [
    {
     "name": "stderr",
     "output_type": "stream",
     "text": [
      "[MainProcess/INFO] results loaded succesfully from C:\\Users\\archipel-03\\Documents\\GitHub\\MBDM\\final assignment\\results_analysis1.tar.gz\n"
     ]
    }
   ],
   "source": [
    "results = load_results('./results_analysis1.tar.gz')"
   ]
  },
  {
   "cell_type": "code",
   "execution_count": 3,
   "metadata": {},
   "outputs": [
    {
     "name": "stderr",
     "output_type": "stream",
     "text": [
      "[MainProcess/INFO] results saved successfully to C:\\Users\\archipel-03\\Documents\\GitHub\\MBDM\\final assignment\\results_analysis1_copy.tar.gz\n"
     ]
    }
   ],
   "source": [
    "save_results(results, './results_analysis1_copy.tar.gz')"
   ]
  },
  {
   "cell_type": "code",
   "execution_count": 4,
   "metadata": {},
   "outputs": [
    {
     "ename": "TypeError",
     "evalue": "data type 'category' not understood",
     "output_type": "error",
     "traceback": [
      "\u001b[1;31m---------------------------------------------------------------------------\u001b[0m",
      "\u001b[1;31mTypeError\u001b[0m                                 Traceback (most recent call last)",
      "\u001b[1;32m<ipython-input-4-cdba4ccd2a72>\u001b[0m in \u001b[0;36m<module>\u001b[1;34m\u001b[0m\n\u001b[1;32m----> 1\u001b[1;33m \u001b[0mresults\u001b[0m \u001b[1;33m=\u001b[0m \u001b[0mload_results\u001b[0m\u001b[1;33m(\u001b[0m\u001b[1;34m'./results_analysis1_copy.tar.gz'\u001b[0m\u001b[1;33m)\u001b[0m\u001b[1;33m\u001b[0m\u001b[1;33m\u001b[0m\u001b[0m\n\u001b[0m",
      "\u001b[1;32m~\\anaconda3\\lib\\site-packages\\ema_workbench\\util\\utilities.py\u001b[0m in \u001b[0;36mload_results\u001b[1;34m(file_name)\u001b[0m\n\u001b[0;32m     77\u001b[0m             \u001b[0mentry\u001b[0m \u001b[1;33m=\u001b[0m \u001b[0mentry\u001b[0m\u001b[1;33m.\u001b[0m\u001b[0msplit\u001b[0m\u001b[1;33m(\u001b[0m\u001b[1;34m\",\"\u001b[0m\u001b[1;33m)\u001b[0m\u001b[1;33m\u001b[0m\u001b[1;33m\u001b[0m\u001b[0m\n\u001b[0;32m     78\u001b[0m             \u001b[0mname\u001b[0m\u001b[1;33m,\u001b[0m \u001b[0mdtype\u001b[0m \u001b[1;33m=\u001b[0m \u001b[1;33m[\u001b[0m\u001b[0mstr\u001b[0m\u001b[1;33m(\u001b[0m\u001b[0mitem\u001b[0m\u001b[1;33m)\u001b[0m \u001b[1;32mfor\u001b[0m \u001b[0mitem\u001b[0m \u001b[1;32min\u001b[0m \u001b[0mentry\u001b[0m\u001b[1;33m]\u001b[0m\u001b[1;33m\u001b[0m\u001b[1;33m\u001b[0m\u001b[0m\n\u001b[1;32m---> 79\u001b[1;33m             \u001b[1;32mif\u001b[0m \u001b[0mnp\u001b[0m\u001b[1;33m.\u001b[0m\u001b[0mdtype\u001b[0m\u001b[1;33m(\u001b[0m\u001b[0mdtype\u001b[0m\u001b[1;33m)\u001b[0m \u001b[1;33m==\u001b[0m \u001b[0mobject\u001b[0m\u001b[1;33m:\u001b[0m\u001b[1;33m\u001b[0m\u001b[1;33m\u001b[0m\u001b[0m\n\u001b[0m\u001b[0;32m     80\u001b[0m                 \u001b[0mexperiments\u001b[0m\u001b[1;33m[\u001b[0m\u001b[0mname\u001b[0m\u001b[1;33m]\u001b[0m \u001b[1;33m=\u001b[0m \u001b[0mexperiments\u001b[0m\u001b[1;33m[\u001b[0m\u001b[0mname\u001b[0m\u001b[1;33m]\u001b[0m\u001b[1;33m.\u001b[0m\u001b[0mastype\u001b[0m\u001b[1;33m(\u001b[0m\u001b[1;34m'category'\u001b[0m\u001b[1;33m)\u001b[0m\u001b[1;33m\u001b[0m\u001b[1;33m\u001b[0m\u001b[0m\n\u001b[0;32m     81\u001b[0m \u001b[1;33m\u001b[0m\u001b[0m\n",
      "\u001b[1;31mTypeError\u001b[0m: data type 'category' not understood"
     ]
    }
   ],
   "source": [
    "results = load_results('./results_analysis1_copy.tar.gz')"
   ]
  },
  {
   "cell_type": "code",
   "execution_count": 5,
   "metadata": {},
   "outputs": [
    {
     "data": {
      "text/plain": [
       "\u001b[1;31mSignature:\u001b[0m \u001b[0msave_results\u001b[0m\u001b[1;33m(\u001b[0m\u001b[0mresults\u001b[0m\u001b[1;33m,\u001b[0m \u001b[0mfile_name\u001b[0m\u001b[1;33m)\u001b[0m\u001b[1;33m\u001b[0m\u001b[1;33m\u001b[0m\u001b[0m\n",
       "\u001b[1;31mDocstring:\u001b[0m\n",
       "save the results to the specified tar.gz file. The results are\n",
       "stored as csv files. There is an x.csv, and a csv for each\n",
       "outcome. In addition, there is a metadata csv which contains\n",
       "the datatype information for each of the columns in the x array.\n",
       "\n",
       "Parameters\n",
       "----------\n",
       "results : tuple\n",
       "          the return of perform_experiments\n",
       "file_name : str\n",
       "            the path of the file\n",
       "\n",
       "Raises\n",
       "------\n",
       "IOError if file not found\n",
       "\u001b[1;31mFile:\u001b[0m      c:\\users\\archipel-03\\anaconda3\\lib\\site-packages\\ema_workbench\\util\\utilities.py\n",
       "\u001b[1;31mType:\u001b[0m      function\n"
      ]
     },
     "metadata": {},
     "output_type": "display_data"
    }
   ],
   "source": [
    "save_results?"
   ]
  },
  {
   "cell_type": "code",
   "execution_count": 9,
   "metadata": {},
   "outputs": [],
   "source": [
    "import matplotlib.pyplot as plt\n",
    "import pandas as pd\n",
    "import numpy as np\n",
    "import seaborn as sns\n",
    "\n",
    "from dike_model_function import DikeNetwork  # @UnresolvedImport\n",
    "from ema_workbench import (Model, RealParameter, ScalarOutcome, MultiprocessingEvaluator, ema_logging)\n",
    "from problem_formulation import get_model_for_problem_formulation\n",
    "\n",
    "dike_model, planning_steps = get_model_for_problem_formulation(1)"
   ]
  },
  {
   "cell_type": "code",
   "execution_count": 10,
   "metadata": {},
   "outputs": [
    {
     "name": "stderr",
     "output_type": "stream",
     "text": [
      "[MainProcess/INFO] pool started\n",
      "[MainProcess/INFO] performing 10 scenarios * 10 policies * 1 model(s) = 100 experiments\n",
      "[MainProcess/INFO] 10 cases completed\n",
      "[MainProcess/INFO] 20 cases completed\n",
      "[MainProcess/INFO] 30 cases completed\n",
      "[MainProcess/INFO] 40 cases completed\n",
      "[MainProcess/INFO] 50 cases completed\n",
      "[MainProcess/INFO] 60 cases completed\n",
      "[MainProcess/INFO] 70 cases completed\n",
      "[MainProcess/INFO] 80 cases completed\n",
      "[MainProcess/INFO] 90 cases completed\n",
      "[MainProcess/INFO] 100 cases completed\n",
      "[MainProcess/INFO] experiments finished\n",
      "[MainProcess/INFO] terminating pool\n"
     ]
    }
   ],
   "source": [
    "with MultiprocessingEvaluator(dike_model) as evaluator:\n",
    "        results = evaluator.perform_experiments(scenarios=10, policies=10)"
   ]
  },
  {
   "cell_type": "code",
   "execution_count": 11,
   "metadata": {},
   "outputs": [
    {
     "data": {
      "text/plain": [
       "A.0_ID flood wave shape    float64\n",
       "A.1_Bmax                   float64\n",
       "A.1_Brate                   object\n",
       "A.1_pfail                  float64\n",
       "A.2_Bmax                   float64\n",
       "A.2_Brate                   object\n",
       "A.2_pfail                  float64\n",
       "A.3_Bmax                   float64\n",
       "A.3_Brate                   object\n",
       "A.3_pfail                  float64\n",
       "A.4_Bmax                   float64\n",
       "A.4_Brate                   object\n",
       "A.4_pfail                  float64\n",
       "A.5_Bmax                   float64\n",
       "A.5_Brate                   object\n",
       "A.5_pfail                  float64\n",
       "discount rate 0             object\n",
       "discount rate 1             object\n",
       "discount rate 2             object\n",
       "0_RfR 0                    float64\n",
       "0_RfR 1                    float64\n",
       "0_RfR 2                    float64\n",
       "1_RfR 0                    float64\n",
       "1_RfR 1                    float64\n",
       "1_RfR 2                    float64\n",
       "2_RfR 0                    float64\n",
       "2_RfR 1                    float64\n",
       "2_RfR 2                    float64\n",
       "3_RfR 0                    float64\n",
       "3_RfR 1                    float64\n",
       "3_RfR 2                    float64\n",
       "4_RfR 0                    float64\n",
       "4_RfR 1                    float64\n",
       "4_RfR 2                    float64\n",
       "A.1_DikeIncrease 0         float64\n",
       "A.1_DikeIncrease 1         float64\n",
       "A.1_DikeIncrease 2         float64\n",
       "A.2_DikeIncrease 0         float64\n",
       "A.2_DikeIncrease 1         float64\n",
       "A.2_DikeIncrease 2         float64\n",
       "A.3_DikeIncrease 0         float64\n",
       "A.3_DikeIncrease 1         float64\n",
       "A.3_DikeIncrease 2         float64\n",
       "A.4_DikeIncrease 0         float64\n",
       "A.4_DikeIncrease 1         float64\n",
       "A.4_DikeIncrease 2         float64\n",
       "A.5_DikeIncrease 0         float64\n",
       "A.5_DikeIncrease 1         float64\n",
       "A.5_DikeIncrease 2         float64\n",
       "EWS_DaysToThreat           float64\n",
       "scenario                    object\n",
       "policy                      object\n",
       "model                       object\n",
       "dtype: object"
      ]
     },
     "execution_count": 11,
     "metadata": {},
     "output_type": "execute_result"
    }
   ],
   "source": [
    "results[0].dtypes"
   ]
  },
  {
   "cell_type": "code",
   "execution_count": null,
   "metadata": {},
   "outputs": [],
   "source": []
  }
 ],
 "metadata": {
  "kernelspec": {
   "display_name": "Python 3",
   "language": "python",
   "name": "python3"
  },
  "language_info": {
   "codemirror_mode": {
    "name": "ipython",
    "version": 3
   },
   "file_extension": ".py",
   "mimetype": "text/x-python",
   "name": "python",
   "nbconvert_exporter": "python",
   "pygments_lexer": "ipython3",
   "version": "3.8.5"
  }
 },
 "nbformat": 4,
 "nbformat_minor": 4
}
