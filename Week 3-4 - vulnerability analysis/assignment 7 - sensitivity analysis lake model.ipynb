{
 "cells": [
  {
   "cell_type": "markdown",
   "metadata": {},
   "source": [
    "# Lake model continued\n",
    "\n",
    "In the previous week you used the lake problem as a means of getting aquinted with the workbench. In this assignment we will continue with the lake problem, focussing explicitly on using it for open exploration. You can use the second part of [this tutorial](https://emaworkbench.readthedocs.io/en/latest/indepth_tutorial/open-exploration.html) for help.\n",
    "\n",
    "**It is paramount that you are using the lake problem with 100 decision variables, rather than the one found on the website with the seperate anthropogenic release decision**\n",
    "\n",
    "## Apply sensitivity analysis\n",
    "There is substantial support in the ema_workbench for global sensitivity. For this, the workbench relies on [SALib](https://salib.readthedocs.io/en/latest/) and feature scoring which is a machine learning alternative for global sensitivity analysis. \n",
    "\n",
    "\n",
    "1. Apply Sobol with 3 seperate release policies (0, 0.05, and 0.1) and analyse the results for each release policy seperately focusing on the reliability objective. Do the sensitivities change depending on the release policy? Can you explain why or why not?\n",
    "\n",
    "*hint: you can use sobol sampling for the uncertainties, and set policies to a list with the 3 different release policies. Next, for the analysis using logical indexing on the experiment.policy column you can select the results for each seperate release policy and apply sobol to each of the three seperate release policies. If this sounds too complicated, just do it on each release policy seperately.*\n",
    "\n"
   ]
  },
  {
   "cell_type": "markdown",
   "metadata": {},
   "source": [
    "2. Repeat the above analysis for the 3 release policies but now with extra trees feature scoring and for all outcomes of interest. As a bonus, use the sobol experiment results as input for extra trees, and compare the results with those resulting from latin hypercube sampling.\n",
    "\n",
    "*hint: you can use [seaborn heatmaps](https://seaborn.pydata.org/generated/seaborn.heatmap.html) for a nice figure of the results*\n"
   ]
  },
  {
   "cell_type": "code",
   "execution_count": 20,
   "metadata": {},
   "outputs": [],
   "source": [
    "from lakemodel_function import lake_problem\n",
    "\n",
    "from ema_workbench import (Model, RealParameter, ScalarOutcome, MultiprocessingEvaluator)\n",
    "\n",
    "#instantiate the model\n",
    "lake_model = Model('lakeproblem', function=lake_problem)\n",
    "lake_model.time_horizon = 100 # used to specify the number of timesteps\n",
    "\n",
    "#specify uncertainties\n",
    "lake_model.uncertainties = [RealParameter('mean', 0.01, 0.05),\n",
    "                            RealParameter('stdev', 0.001, 0.005),\n",
    "                            RealParameter('b', 0.1, 0.45),\n",
    "                            RealParameter('q', 2.0, 4.5),\n",
    "                            RealParameter('delta', 0.93, 0.99)]\n",
    "\n",
    "# set levers, one for each time step\n",
    "lake_model.levers = [RealParameter(f\"l{i}\", 0, 0.1) for i in \n",
    "                     range(lake_model.time_horizon)] # we use time_horizon here\n",
    "\n",
    "#specify outcomes \n",
    "lake_model.outcomes = [ScalarOutcome('max_P'),\n",
    "                       ScalarOutcome('utility'),\n",
    "                       ScalarOutcome('inertia'),\n",
    "                       ScalarOutcome('reliability')]"
   ]
  },
  {
   "cell_type": "code",
   "execution_count": 64,
   "metadata": {},
   "outputs": [
    {
     "data": {
      "text/plain": [
       "<Logger EMA (DEBUG)>"
      ]
     },
     "execution_count": 64,
     "metadata": {},
     "output_type": "execute_result"
    }
   ],
   "source": [
    "from ema_workbench import Policy, perform_experiments\n",
    "from ema_workbench import ema_logging\n",
    "from SALib.analyze import sobol\n",
    "from ema_workbench.em_framework.salib_samplers import get_SALib_problem\n",
    "from statistics import mean\n",
    "import numpy as np\n",
    "import pandas as pd\n",
    "import seaborn as sns\n",
    "import matplotlib.pyplot as plt\n",
    "\n",
    "ema_logging.log_to_stderr(ema_logging.INFO)\n",
    "\n"
   ]
  },
  {
   "cell_type": "code",
   "execution_count": 18,
   "metadata": {},
   "outputs": [],
   "source": [
    " # add policies\n",
    "policies = [Policy('no policy',\n",
    "                      **{l.name:0 for l in lake_model.levers}),\n",
    "            Policy('small release',\n",
    "                       **{l.name:0.05 for l in lake_model.levers}),\n",
    "            Policy('large release',\n",
    "                       **{l.name:0.1 for l in lake_model.levers})\n",
    "                ]"
   ]
  },
  {
   "cell_type": "markdown",
   "metadata": {},
   "source": [
    "# Part 1 sobol"
   ]
  },
  {
   "cell_type": "code",
   "execution_count": 24,
   "metadata": {},
   "outputs": [
    {
     "name": "stderr",
     "output_type": "stream",
     "text": [
      "[MainProcess/INFO] performing 12000 scenarios * 3 policies * 1 model(s) = 36000 experiments\n",
      "[MainProcess/INFO] performing experiments sequentially\n",
      "[MainProcess/INFO] 3600 cases completed\n",
      "[MainProcess/INFO] 7200 cases completed\n",
      "[MainProcess/INFO] 10800 cases completed\n",
      "[MainProcess/INFO] 14400 cases completed\n",
      "[MainProcess/INFO] 18000 cases completed\n",
      "[MainProcess/INFO] 21600 cases completed\n",
      "[MainProcess/INFO] 25200 cases completed\n",
      "[MainProcess/INFO] 28800 cases completed\n",
      "[MainProcess/INFO] 32400 cases completed\n",
      "[MainProcess/INFO] 36000 cases completed\n",
      "[MainProcess/INFO] experiments finished\n"
     ]
    }
   ],
   "source": [
    "%%time\n",
    "n_scenarios = 1000\n",
    "\n",
    "results = perform_experiments(lake_model, n_scenarios, policies=policies, uncertainty_sampling='sobol')\n",
    "experiments, outcomes = results\n"
   ]
  },
  {
   "cell_type": "code",
   "execution_count": 59,
   "metadata": {},
   "outputs": [],
   "source": [
    "problem = get_SALib_problem(lake_model.uncertainties)\n",
    "reliability = outcomes['reliability']\n",
    "\n",
    "# Slice per policy\n",
    "no_policy_experiments = experiments[0:1200]\n",
    "no_policy_reliability = reliability[0:1200]\n",
    "\n",
    "\n",
    "small_release_experiments = experiments[1200:2400]\n",
    "small_release_reliability = reliability[1200:2400]\n",
    "\n",
    "large_release_experiments = experiments[2400:3600]\n",
    "large_release_reliability = reliability[2400:3600]\n",
    "\n",
    "Si_no_policy = sobol.analyze(problem, no_policy_reliability,\n",
    "                       calc_second_order=True, print_to_console=False)\n",
    "\n",
    "Si_small_release = sobol.analyze(problem, small_release_reliability,\n",
    "                       calc_second_order=True, print_to_console=False)\n",
    "\n",
    "Si_large_release = sobol.analyze(problem, large_release_reliability,\n",
    "                       calc_second_order=True, print_to_console=False)\n"
   ]
  },
  {
   "cell_type": "code",
   "execution_count": 71,
   "metadata": {},
   "outputs": [
    {
     "data": {
      "text/plain": [
       "{'num_vars': 5,\n",
       " 'names': ['b', 'delta', 'mean', 'q', 'stdev'],\n",
       " 'bounds': [(0.1, 0.45),\n",
       "  (0.93, 0.99),\n",
       "  (0.01, 0.05),\n",
       "  (2.0, 4.5),\n",
       "  (0.001, 0.005)]}"
      ]
     },
     "execution_count": 71,
     "metadata": {},
     "output_type": "execute_result"
    }
   ],
   "source": [
    "problem"
   ]
  },
  {
   "cell_type": "markdown",
   "metadata": {},
   "source": [
    "### No Policy"
   ]
  },
  {
   "cell_type": "code",
   "execution_count": 109,
   "metadata": {},
   "outputs": [
    {
     "data": {
      "image/png": "[encoded data removed]",
      "text/plain": [
       "<Figure size 576x432 with 1 Axes>"
      ]
     },
     "metadata": {},
     "output_type": "display_data"
    }
   ],
   "source": [
    "\n",
    "scores_filtered_no_policy = {k:Si_no_policy[k] for k in ['ST','ST_conf','S1','S1_conf']}\n",
    "Si_no_policy_plot = pd.DataFrame(scores_filtered_no_policy)\n",
    "\n",
    "Si_no_policy_plot[\"names\"] = problem[\"names\"]\n",
    "Si_no_policy_plot = Si_no_policy_plot.set_index(\"names\")\n",
    "\n",
    "sns.set_style('white')\n",
    "fig, ax = plt.subplots(1)\n",
    "\n",
    "indices = Si_no_policy_plot[['S1','ST']]\n",
    "err = Si_no_policy_plot[['S1_conf','ST_conf']]\n",
    "\n",
    "ax.set_title(\"No Policy\")\n",
    "\n",
    "indices.plot.bar(yerr=err.values.T,ax=ax)\n",
    "fig.set_size_inches(8,6)\n",
    "fig.subplots_adjust(bottom=0.3)\n",
    "plt.show()"
   ]
  },
  {
   "cell_type": "code",
   "execution_count": 100,
   "metadata": {},
   "outputs": [
    {
     "data": {
      "text/html": [
       "<div>\n",
       "<style scoped>\n",
       "    .dataframe tbody tr th:only-of-type {\n",
       "        vertical-align: middle;\n",
       "    }\n",
       "\n",
       "    .dataframe tbody tr th {\n",
       "        vertical-align: top;\n",
       "    }\n",
       "\n",
       "    .dataframe thead th {\n",
       "        text-align: right;\n",
       "    }\n",
       "</style>\n",
       "<table border=\"1\" class=\"dataframe\">\n",
       "  <thead>\n",
       "    <tr style=\"text-align: right;\">\n",
       "      <th></th>\n",
       "      <th>ST</th>\n",
       "      <th>ST_conf</th>\n",
       "      <th>S1</th>\n",
       "      <th>S1_conf</th>\n",
       "    </tr>\n",
       "    <tr>\n",
       "      <th>names</th>\n",
       "      <th></th>\n",
       "      <th></th>\n",
       "      <th></th>\n",
       "      <th></th>\n",
       "    </tr>\n",
       "  </thead>\n",
       "  <tbody>\n",
       "    <tr>\n",
       "      <th>b</th>\n",
       "      <td>0.715210</td>\n",
       "      <td>0.224574</td>\n",
       "      <td>0.426147</td>\n",
       "      <td>0.216579</td>\n",
       "    </tr>\n",
       "    <tr>\n",
       "      <th>delta</th>\n",
       "      <td>0.000002</td>\n",
       "      <td>0.000001</td>\n",
       "      <td>-0.000055</td>\n",
       "      <td>0.000269</td>\n",
       "    </tr>\n",
       "    <tr>\n",
       "      <th>mean</th>\n",
       "      <td>0.443011</td>\n",
       "      <td>0.206157</td>\n",
       "      <td>0.261608</td>\n",
       "      <td>0.177400</td>\n",
       "    </tr>\n",
       "    <tr>\n",
       "      <th>q</th>\n",
       "      <td>0.441769</td>\n",
       "      <td>0.191269</td>\n",
       "      <td>0.262768</td>\n",
       "      <td>0.226793</td>\n",
       "    </tr>\n",
       "    <tr>\n",
       "      <th>stdev</th>\n",
       "      <td>0.000013</td>\n",
       "      <td>0.000012</td>\n",
       "      <td>0.000045</td>\n",
       "      <td>0.000627</td>\n",
       "    </tr>\n",
       "  </tbody>\n",
       "</table>\n",
       "</div>"
      ],
      "text/plain": [
       "             ST   ST_conf        S1   S1_conf\n",
       "names                                        \n",
       "b      0.715210  0.224574  0.426147  0.216579\n",
       "delta  0.000002  0.000001 -0.000055  0.000269\n",
       "mean   0.443011  0.206157  0.261608  0.177400\n",
       "q      0.441769  0.191269  0.262768  0.226793\n",
       "stdev  0.000013  0.000012  0.000045  0.000627"
      ]
     },
     "execution_count": 100,
     "metadata": {},
     "output_type": "execute_result"
    }
   ],
   "source": [
    "Si_no_policy_plot"
   ]
  },
  {
   "cell_type": "markdown",
   "metadata": {},
   "source": [
    "### Small release policy"
   ]
  },
  {
   "cell_type": "code",
   "execution_count": 101,
   "metadata": {},
   "outputs": [
    {
     "data": {
      "image/png": "[encoded data removed]",
      "text/plain": [
       "<Figure size 576x432 with 1 Axes>"
      ]
     },
     "metadata": {},
     "output_type": "display_data"
    }
   ],
   "source": [
    "scores_filtered_small_release = {k:Si_small_release[k] for k in ['ST','ST_conf','S1','S1_conf']}\n",
    "Si_small_release_plot = pd.DataFrame(scores_filtered_small_release)\n",
    "\n",
    "Si_small_release_plot[\"names\"] = problem[\"names\"]\n",
    "Si_small_release_plot = Si_small_release_plot.set_index(\"names\")\n",
    "\n",
    "sns.set_style('white')\n",
    "fig, ax = plt.subplots(1)\n",
    "\n",
    "indices = Si_small_release_plot[['S1','ST']]\n",
    "err = Si_small_release_plot[['S1_conf','ST_conf']]\n",
    "\n",
    "ax.set_title(\"Small Release\")\n",
    "\n",
    "indices.plot.bar(yerr=err.values.T,ax=ax)\n",
    "fig.set_size_inches(8,6)\n",
    "fig.subplots_adjust(bottom=0.3)\n",
    "plt.show()"
   ]
  },
  {
   "cell_type": "code",
   "execution_count": 102,
   "metadata": {},
   "outputs": [
    {
     "data": {
      "text/html": [
       "<div>\n",
       "<style scoped>\n",
       "    .dataframe tbody tr th:only-of-type {\n",
       "        vertical-align: middle;\n",
       "    }\n",
       "\n",
       "    .dataframe tbody tr th {\n",
       "        vertical-align: top;\n",
       "    }\n",
       "\n",
       "    .dataframe thead th {\n",
       "        text-align: right;\n",
       "    }\n",
       "</style>\n",
       "<table border=\"1\" class=\"dataframe\">\n",
       "  <thead>\n",
       "    <tr style=\"text-align: right;\">\n",
       "      <th></th>\n",
       "      <th>ST</th>\n",
       "      <th>ST_conf</th>\n",
       "      <th>S1</th>\n",
       "      <th>S1_conf</th>\n",
       "    </tr>\n",
       "    <tr>\n",
       "      <th>names</th>\n",
       "      <th></th>\n",
       "      <th></th>\n",
       "      <th></th>\n",
       "      <th></th>\n",
       "    </tr>\n",
       "  </thead>\n",
       "  <tbody>\n",
       "    <tr>\n",
       "      <th>b</th>\n",
       "      <td>0.662050</td>\n",
       "      <td>0.241774</td>\n",
       "      <td>0.414539</td>\n",
       "      <td>0.224176</td>\n",
       "    </tr>\n",
       "    <tr>\n",
       "      <th>delta</th>\n",
       "      <td>0.000007</td>\n",
       "      <td>0.000006</td>\n",
       "      <td>0.000199</td>\n",
       "      <td>0.000941</td>\n",
       "    </tr>\n",
       "    <tr>\n",
       "      <th>mean</th>\n",
       "      <td>0.286252</td>\n",
       "      <td>0.136551</td>\n",
       "      <td>0.051014</td>\n",
       "      <td>0.177223</td>\n",
       "    </tr>\n",
       "    <tr>\n",
       "      <th>q</th>\n",
       "      <td>0.385931</td>\n",
       "      <td>0.168235</td>\n",
       "      <td>0.155780</td>\n",
       "      <td>0.189860</td>\n",
       "    </tr>\n",
       "    <tr>\n",
       "      <th>stdev</th>\n",
       "      <td>0.000021</td>\n",
       "      <td>0.000023</td>\n",
       "      <td>0.000224</td>\n",
       "      <td>0.001951</td>\n",
       "    </tr>\n",
       "  </tbody>\n",
       "</table>\n",
       "</div>"
      ],
      "text/plain": [
       "             ST   ST_conf        S1   S1_conf\n",
       "names                                        \n",
       "b      0.662050  0.241774  0.414539  0.224176\n",
       "delta  0.000007  0.000006  0.000199  0.000941\n",
       "mean   0.286252  0.136551  0.051014  0.177223\n",
       "q      0.385931  0.168235  0.155780  0.189860\n",
       "stdev  0.000021  0.000023  0.000224  0.001951"
      ]
     },
     "execution_count": 102,
     "metadata": {},
     "output_type": "execute_result"
    }
   ],
   "source": [
    "Si_small_release_plot"
   ]
  },
  {
   "cell_type": "markdown",
   "metadata": {},
   "source": [
    "### Large release policy"
   ]
  },
  {
   "cell_type": "code",
   "execution_count": 112,
   "metadata": {},
   "outputs": [
    {
     "data": {
      "image/png": "[encoded data removed]",
      "text/plain": [
       "<Figure size 576x432 with 1 Axes>"
      ]
     },
     "metadata": {},
     "output_type": "display_data"
    }
   ],
   "source": [
    "scores_filtered_large_release = {k:Si_large_release[k] for k in ['ST','ST_conf','S1','S1_conf']}\n",
    "Si_large_release_plot = pd.DataFrame(scores_filtered_large_release)\n",
    "\n",
    "Si_large_release_plot[\"names\"] = problem[\"names\"]\n",
    "Si_large_release_plot = Si_large_release_plot.set_index(\"names\")\n",
    "\n",
    "sns.set_style('white')\n",
    "fig, ax = plt.subplots(1)\n",
    "\n",
    "indices = Si_large_release_plot[['S1','ST']]\n",
    "err = Si_large_release_plot[['S1_conf','ST_conf']]\n",
    "\n",
    "ax.set_title(\"Large Release\")\n",
    "\n",
    "indices.plot.bar(yerr=err.values.T,ax=ax)\n",
    "fig.set_size_inches(8,6)\n",
    "fig.subplots_adjust(bottom=0.3)\n",
    "plt.show()"
   ]
  },
  {
   "cell_type": "code",
   "execution_count": 133,
   "metadata": {},
   "outputs": [
    {
     "data": {
      "text/plain": [
       "{'S1': array([3.11153079e-01, 2.80506916e-04, 2.03045733e-01, 8.96884925e-02,\n",
       "        1.10697243e-03]),\n",
       " 'S1_conf': array([0.21546399, 0.00070172, 0.19205361, 0.18249475, 0.00183051]),\n",
       " 'ST': array([7.53561851e-01, 2.18331717e-05, 2.17685852e-01, 4.75810565e-01,\n",
       "        1.99954276e-04]),\n",
       " 'ST_conf': array([2.76546818e-01, 3.08992268e-05, 1.33198689e-01, 2.19020619e-01,\n",
       "        3.47458812e-04]),\n",
       " 'S2': array([[        nan,  0.08769602,  0.09729056,  0.14728407,  0.08701559],\n",
       "        [        nan,         nan, -0.00070083, -0.00068656, -0.00066746],\n",
       "        [        nan,         nan,         nan, -0.03066068, -0.08624314],\n",
       "        [        nan,         nan,         nan,         nan,  0.03397638],\n",
       "        [        nan,         nan,         nan,         nan,         nan]]),\n",
       " 'S2_conf': array([[       nan, 0.32018341, 0.38056345, 0.36676617, 0.31960758],\n",
       "        [       nan,        nan, 0.00119074, 0.00124486, 0.0011555 ],\n",
       "        [       nan,        nan,        nan, 0.23518784, 0.20286698],\n",
       "        [       nan,        nan,        nan,        nan, 0.27958903],\n",
       "        [       nan,        nan,        nan,        nan,        nan]])}"
      ]
     },
     "execution_count": 133,
     "metadata": {},
     "output_type": "execute_result"
    }
   ],
   "source": [
    "Si_large_release"
   ]
  },
  {
   "cell_type": "code",
   "execution_count": 113,
   "metadata": {},
   "outputs": [
    {
     "data": {
      "text/html": [
       "<div>\n",
       "<style scoped>\n",
       "    .dataframe tbody tr th:only-of-type {\n",
       "        vertical-align: middle;\n",
       "    }\n",
       "\n",
       "    .dataframe tbody tr th {\n",
       "        vertical-align: top;\n",
       "    }\n",
       "\n",
       "    .dataframe thead th {\n",
       "        text-align: right;\n",
       "    }\n",
       "</style>\n",
       "<table border=\"1\" class=\"dataframe\">\n",
       "  <thead>\n",
       "    <tr style=\"text-align: right;\">\n",
       "      <th></th>\n",
       "      <th>ST</th>\n",
       "      <th>ST_conf</th>\n",
       "      <th>S1</th>\n",
       "      <th>S1_conf</th>\n",
       "    </tr>\n",
       "    <tr>\n",
       "      <th>names</th>\n",
       "      <th></th>\n",
       "      <th></th>\n",
       "      <th></th>\n",
       "      <th></th>\n",
       "    </tr>\n",
       "  </thead>\n",
       "  <tbody>\n",
       "    <tr>\n",
       "      <th>b</th>\n",
       "      <td>0.753562</td>\n",
       "      <td>0.276547</td>\n",
       "      <td>0.311153</td>\n",
       "      <td>0.215464</td>\n",
       "    </tr>\n",
       "    <tr>\n",
       "      <th>delta</th>\n",
       "      <td>0.000022</td>\n",
       "      <td>0.000031</td>\n",
       "      <td>0.000281</td>\n",
       "      <td>0.000702</td>\n",
       "    </tr>\n",
       "    <tr>\n",
       "      <th>mean</th>\n",
       "      <td>0.217686</td>\n",
       "      <td>0.133199</td>\n",
       "      <td>0.203046</td>\n",
       "      <td>0.192054</td>\n",
       "    </tr>\n",
       "    <tr>\n",
       "      <th>q</th>\n",
       "      <td>0.475811</td>\n",
       "      <td>0.219021</td>\n",
       "      <td>0.089688</td>\n",
       "      <td>0.182495</td>\n",
       "    </tr>\n",
       "    <tr>\n",
       "      <th>stdev</th>\n",
       "      <td>0.000200</td>\n",
       "      <td>0.000347</td>\n",
       "      <td>0.001107</td>\n",
       "      <td>0.001831</td>\n",
       "    </tr>\n",
       "  </tbody>\n",
       "</table>\n",
       "</div>"
      ],
      "text/plain": [
       "             ST   ST_conf        S1   S1_conf\n",
       "names                                        \n",
       "b      0.753562  0.276547  0.311153  0.215464\n",
       "delta  0.000022  0.000031  0.000281  0.000702\n",
       "mean   0.217686  0.133199  0.203046  0.192054\n",
       "q      0.475811  0.219021  0.089688  0.182495\n",
       "stdev  0.000200  0.000347  0.001107  0.001831"
      ]
     },
     "execution_count": 113,
     "metadata": {},
     "output_type": "execute_result"
    }
   ],
   "source": [
    "Si_large_release_plot"
   ]
  },
  {
   "cell_type": "markdown",
   "metadata": {},
   "source": [
    "# Part 2 extra trees feature scoring"
   ]
  },
  {
   "cell_type": "code",
   "execution_count": 126,
   "metadata": {},
   "outputs": [
    {
     "name": "stderr",
     "output_type": "stream",
     "text": [
      "[MainProcess/INFO] performing 100 scenarios * 3 policies * 1 model(s) = 300 experiments\n",
      "[MainProcess/INFO] performing experiments sequentially\n",
      "[MainProcess/INFO] 30 cases completed\n",
      "[MainProcess/INFO] 60 cases completed\n",
      "[MainProcess/INFO] 90 cases completed\n",
      "[MainProcess/INFO] 120 cases completed\n",
      "[MainProcess/INFO] 150 cases completed\n",
      "[MainProcess/INFO] 180 cases completed\n",
      "[MainProcess/INFO] 210 cases completed\n",
      "[MainProcess/INFO] 240 cases completed\n",
      "[MainProcess/INFO] 270 cases completed\n",
      "[MainProcess/INFO] 300 cases completed\n",
      "[MainProcess/INFO] experiments finished\n"
     ]
    }
   ],
   "source": [
    "n_scenarios = 100\n",
    "\n",
    "trees_results = perform_experiments(lake_model, n_scenarios, policies=policies)\n",
    "trees_experiments, trees_outcomes = trees_results"
   ]
  },
  {
   "cell_type": "code",
   "execution_count": 127,
   "metadata": {},
   "outputs": [
    {
     "data": {
      "text/html": [
       "<div>\n",
       "<style scoped>\n",
       "    .dataframe tbody tr th:only-of-type {\n",
       "        vertical-align: middle;\n",
       "    }\n",
       "\n",
       "    .dataframe tbody tr th {\n",
       "        vertical-align: top;\n",
       "    }\n",
       "\n",
       "    .dataframe thead th {\n",
       "        text-align: right;\n",
       "    }\n",
       "</style>\n",
       "<table border=\"1\" class=\"dataframe\">\n",
       "  <thead>\n",
       "    <tr style=\"text-align: right;\">\n",
       "      <th></th>\n",
       "      <th>b</th>\n",
       "      <th>delta</th>\n",
       "      <th>mean</th>\n",
       "      <th>q</th>\n",
       "      <th>stdev</th>\n",
       "      <th>l0</th>\n",
       "      <th>l1</th>\n",
       "      <th>l2</th>\n",
       "      <th>l3</th>\n",
       "      <th>l4</th>\n",
       "      <th>...</th>\n",
       "      <th>l93</th>\n",
       "      <th>l94</th>\n",
       "      <th>l95</th>\n",
       "      <th>l96</th>\n",
       "      <th>l97</th>\n",
       "      <th>l98</th>\n",
       "      <th>l99</th>\n",
       "      <th>scenario</th>\n",
       "      <th>policy</th>\n",
       "      <th>model</th>\n",
       "    </tr>\n",
       "  </thead>\n",
       "  <tbody>\n",
       "    <tr>\n",
       "      <th>0</th>\n",
       "      <td>0.183580</td>\n",
       "      <td>0.968033</td>\n",
       "      <td>0.042975</td>\n",
       "      <td>2.396833</td>\n",
       "      <td>0.004018</td>\n",
       "      <td>0.0</td>\n",
       "      <td>0.0</td>\n",
       "      <td>0.0</td>\n",
       "      <td>0.0</td>\n",
       "      <td>0.0</td>\n",
       "      <td>...</td>\n",
       "      <td>0.0</td>\n",
       "      <td>0.0</td>\n",
       "      <td>0.0</td>\n",
       "      <td>0.0</td>\n",
       "      <td>0.0</td>\n",
       "      <td>0.0</td>\n",
       "      <td>0.0</td>\n",
       "      <td>13400</td>\n",
       "      <td>no policy</td>\n",
       "      <td>lakeproblem</td>\n",
       "    </tr>\n",
       "    <tr>\n",
       "      <th>1</th>\n",
       "      <td>0.419417</td>\n",
       "      <td>0.987355</td>\n",
       "      <td>0.029064</td>\n",
       "      <td>2.853366</td>\n",
       "      <td>0.001645</td>\n",
       "      <td>0.0</td>\n",
       "      <td>0.0</td>\n",
       "      <td>0.0</td>\n",
       "      <td>0.0</td>\n",
       "      <td>0.0</td>\n",
       "      <td>...</td>\n",
       "      <td>0.0</td>\n",
       "      <td>0.0</td>\n",
       "      <td>0.0</td>\n",
       "      <td>0.0</td>\n",
       "      <td>0.0</td>\n",
       "      <td>0.0</td>\n",
       "      <td>0.0</td>\n",
       "      <td>13401</td>\n",
       "      <td>no policy</td>\n",
       "      <td>lakeproblem</td>\n",
       "    </tr>\n",
       "    <tr>\n",
       "      <th>2</th>\n",
       "      <td>0.284330</td>\n",
       "      <td>0.977201</td>\n",
       "      <td>0.042588</td>\n",
       "      <td>2.524852</td>\n",
       "      <td>0.003737</td>\n",
       "      <td>0.0</td>\n",
       "      <td>0.0</td>\n",
       "      <td>0.0</td>\n",
       "      <td>0.0</td>\n",
       "      <td>0.0</td>\n",
       "      <td>...</td>\n",
       "      <td>0.0</td>\n",
       "      <td>0.0</td>\n",
       "      <td>0.0</td>\n",
       "      <td>0.0</td>\n",
       "      <td>0.0</td>\n",
       "      <td>0.0</td>\n",
       "      <td>0.0</td>\n",
       "      <td>13402</td>\n",
       "      <td>no policy</td>\n",
       "      <td>lakeproblem</td>\n",
       "    </tr>\n",
       "    <tr>\n",
       "      <th>3</th>\n",
       "      <td>0.175404</td>\n",
       "      <td>0.950378</td>\n",
       "      <td>0.048177</td>\n",
       "      <td>3.703401</td>\n",
       "      <td>0.002432</td>\n",
       "      <td>0.0</td>\n",
       "      <td>0.0</td>\n",
       "      <td>0.0</td>\n",
       "      <td>0.0</td>\n",
       "      <td>0.0</td>\n",
       "      <td>...</td>\n",
       "      <td>0.0</td>\n",
       "      <td>0.0</td>\n",
       "      <td>0.0</td>\n",
       "      <td>0.0</td>\n",
       "      <td>0.0</td>\n",
       "      <td>0.0</td>\n",
       "      <td>0.0</td>\n",
       "      <td>13403</td>\n",
       "      <td>no policy</td>\n",
       "      <td>lakeproblem</td>\n",
       "    </tr>\n",
       "    <tr>\n",
       "      <th>4</th>\n",
       "      <td>0.423722</td>\n",
       "      <td>0.982631</td>\n",
       "      <td>0.043357</td>\n",
       "      <td>4.377262</td>\n",
       "      <td>0.004789</td>\n",
       "      <td>0.0</td>\n",
       "      <td>0.0</td>\n",
       "      <td>0.0</td>\n",
       "      <td>0.0</td>\n",
       "      <td>0.0</td>\n",
       "      <td>...</td>\n",
       "      <td>0.0</td>\n",
       "      <td>0.0</td>\n",
       "      <td>0.0</td>\n",
       "      <td>0.0</td>\n",
       "      <td>0.0</td>\n",
       "      <td>0.0</td>\n",
       "      <td>0.0</td>\n",
       "      <td>13404</td>\n",
       "      <td>no policy</td>\n",
       "      <td>lakeproblem</td>\n",
       "    </tr>\n",
       "    <tr>\n",
       "      <th>...</th>\n",
       "      <td>...</td>\n",
       "      <td>...</td>\n",
       "      <td>...</td>\n",
       "      <td>...</td>\n",
       "      <td>...</td>\n",
       "      <td>...</td>\n",
       "      <td>...</td>\n",
       "      <td>...</td>\n",
       "      <td>...</td>\n",
       "      <td>...</td>\n",
       "      <td>...</td>\n",
       "      <td>...</td>\n",
       "      <td>...</td>\n",
       "      <td>...</td>\n",
       "      <td>...</td>\n",
       "      <td>...</td>\n",
       "      <td>...</td>\n",
       "      <td>...</td>\n",
       "      <td>...</td>\n",
       "      <td>...</td>\n",
       "      <td>...</td>\n",
       "    </tr>\n",
       "    <tr>\n",
       "      <th>295</th>\n",
       "      <td>0.103255</td>\n",
       "      <td>0.970369</td>\n",
       "      <td>0.013400</td>\n",
       "      <td>3.533033</td>\n",
       "      <td>0.002011</td>\n",
       "      <td>0.1</td>\n",
       "      <td>0.1</td>\n",
       "      <td>0.1</td>\n",
       "      <td>0.1</td>\n",
       "      <td>0.1</td>\n",
       "      <td>...</td>\n",
       "      <td>0.1</td>\n",
       "      <td>0.1</td>\n",
       "      <td>0.1</td>\n",
       "      <td>0.1</td>\n",
       "      <td>0.1</td>\n",
       "      <td>0.1</td>\n",
       "      <td>0.1</td>\n",
       "      <td>13495</td>\n",
       "      <td>large release</td>\n",
       "      <td>lakeproblem</td>\n",
       "    </tr>\n",
       "    <tr>\n",
       "      <th>296</th>\n",
       "      <td>0.184335</td>\n",
       "      <td>0.950715</td>\n",
       "      <td>0.034713</td>\n",
       "      <td>3.310865</td>\n",
       "      <td>0.001335</td>\n",
       "      <td>0.1</td>\n",
       "      <td>0.1</td>\n",
       "      <td>0.1</td>\n",
       "      <td>0.1</td>\n",
       "      <td>0.1</td>\n",
       "      <td>...</td>\n",
       "      <td>0.1</td>\n",
       "      <td>0.1</td>\n",
       "      <td>0.1</td>\n",
       "      <td>0.1</td>\n",
       "      <td>0.1</td>\n",
       "      <td>0.1</td>\n",
       "      <td>0.1</td>\n",
       "      <td>13496</td>\n",
       "      <td>large release</td>\n",
       "      <td>lakeproblem</td>\n",
       "    </tr>\n",
       "    <tr>\n",
       "      <th>297</th>\n",
       "      <td>0.165526</td>\n",
       "      <td>0.985709</td>\n",
       "      <td>0.020924</td>\n",
       "      <td>3.399273</td>\n",
       "      <td>0.001112</td>\n",
       "      <td>0.1</td>\n",
       "      <td>0.1</td>\n",
       "      <td>0.1</td>\n",
       "      <td>0.1</td>\n",
       "      <td>0.1</td>\n",
       "      <td>...</td>\n",
       "      <td>0.1</td>\n",
       "      <td>0.1</td>\n",
       "      <td>0.1</td>\n",
       "      <td>0.1</td>\n",
       "      <td>0.1</td>\n",
       "      <td>0.1</td>\n",
       "      <td>0.1</td>\n",
       "      <td>13497</td>\n",
       "      <td>large release</td>\n",
       "      <td>lakeproblem</td>\n",
       "    </tr>\n",
       "    <tr>\n",
       "      <th>298</th>\n",
       "      <td>0.335159</td>\n",
       "      <td>0.944423</td>\n",
       "      <td>0.026553</td>\n",
       "      <td>2.279840</td>\n",
       "      <td>0.002711</td>\n",
       "      <td>0.1</td>\n",
       "      <td>0.1</td>\n",
       "      <td>0.1</td>\n",
       "      <td>0.1</td>\n",
       "      <td>0.1</td>\n",
       "      <td>...</td>\n",
       "      <td>0.1</td>\n",
       "      <td>0.1</td>\n",
       "      <td>0.1</td>\n",
       "      <td>0.1</td>\n",
       "      <td>0.1</td>\n",
       "      <td>0.1</td>\n",
       "      <td>0.1</td>\n",
       "      <td>13498</td>\n",
       "      <td>large release</td>\n",
       "      <td>lakeproblem</td>\n",
       "    </tr>\n",
       "    <tr>\n",
       "      <th>299</th>\n",
       "      <td>0.309809</td>\n",
       "      <td>0.966491</td>\n",
       "      <td>0.027299</td>\n",
       "      <td>3.098796</td>\n",
       "      <td>0.002793</td>\n",
       "      <td>0.1</td>\n",
       "      <td>0.1</td>\n",
       "      <td>0.1</td>\n",
       "      <td>0.1</td>\n",
       "      <td>0.1</td>\n",
       "      <td>...</td>\n",
       "      <td>0.1</td>\n",
       "      <td>0.1</td>\n",
       "      <td>0.1</td>\n",
       "      <td>0.1</td>\n",
       "      <td>0.1</td>\n",
       "      <td>0.1</td>\n",
       "      <td>0.1</td>\n",
       "      <td>13499</td>\n",
       "      <td>large release</td>\n",
       "      <td>lakeproblem</td>\n",
       "    </tr>\n",
       "  </tbody>\n",
       "</table>\n",
       "<p>300 rows × 108 columns</p>\n",
       "</div>"
      ],
      "text/plain": [
       "            b     delta      mean         q     stdev   l0   l1   l2   l3  \\\n",
       "0    0.183580  0.968033  0.042975  2.396833  0.004018  0.0  0.0  0.0  0.0   \n",
       "1    0.419417  0.987355  0.029064  2.853366  0.001645  0.0  0.0  0.0  0.0   \n",
       "2    0.284330  0.977201  0.042588  2.524852  0.003737  0.0  0.0  0.0  0.0   \n",
       "3    0.175404  0.950378  0.048177  3.703401  0.002432  0.0  0.0  0.0  0.0   \n",
       "4    0.423722  0.982631  0.043357  4.377262  0.004789  0.0  0.0  0.0  0.0   \n",
       "..        ...       ...       ...       ...       ...  ...  ...  ...  ...   \n",
       "295  0.103255  0.970369  0.013400  3.533033  0.002011  0.1  0.1  0.1  0.1   \n",
       "296  0.184335  0.950715  0.034713  3.310865  0.001335  0.1  0.1  0.1  0.1   \n",
       "297  0.165526  0.985709  0.020924  3.399273  0.001112  0.1  0.1  0.1  0.1   \n",
       "298  0.335159  0.944423  0.026553  2.279840  0.002711  0.1  0.1  0.1  0.1   \n",
       "299  0.309809  0.966491  0.027299  3.098796  0.002793  0.1  0.1  0.1  0.1   \n",
       "\n",
       "      l4  ...  l93  l94  l95  l96  l97  l98  l99  scenario         policy  \\\n",
       "0    0.0  ...  0.0  0.0  0.0  0.0  0.0  0.0  0.0     13400      no policy   \n",
       "1    0.0  ...  0.0  0.0  0.0  0.0  0.0  0.0  0.0     13401      no policy   \n",
       "2    0.0  ...  0.0  0.0  0.0  0.0  0.0  0.0  0.0     13402      no policy   \n",
       "3    0.0  ...  0.0  0.0  0.0  0.0  0.0  0.0  0.0     13403      no policy   \n",
       "4    0.0  ...  0.0  0.0  0.0  0.0  0.0  0.0  0.0     13404      no policy   \n",
       "..   ...  ...  ...  ...  ...  ...  ...  ...  ...       ...            ...   \n",
       "295  0.1  ...  0.1  0.1  0.1  0.1  0.1  0.1  0.1     13495  large release   \n",
       "296  0.1  ...  0.1  0.1  0.1  0.1  0.1  0.1  0.1     13496  large release   \n",
       "297  0.1  ...  0.1  0.1  0.1  0.1  0.1  0.1  0.1     13497  large release   \n",
       "298  0.1  ...  0.1  0.1  0.1  0.1  0.1  0.1  0.1     13498  large release   \n",
       "299  0.1  ...  0.1  0.1  0.1  0.1  0.1  0.1  0.1     13499  large release   \n",
       "\n",
       "           model  \n",
       "0    lakeproblem  \n",
       "1    lakeproblem  \n",
       "2    lakeproblem  \n",
       "3    lakeproblem  \n",
       "4    lakeproblem  \n",
       "..           ...  \n",
       "295  lakeproblem  \n",
       "296  lakeproblem  \n",
       "297  lakeproblem  \n",
       "298  lakeproblem  \n",
       "299  lakeproblem  \n",
       "\n",
       "[300 rows x 108 columns]"
      ]
     },
     "execution_count": 127,
     "metadata": {},
     "output_type": "execute_result"
    }
   ],
   "source": [
    "trees_experiments"
   ]
  },
  {
   "cell_type": "code",
   "execution_count": 150,
   "metadata": {},
   "outputs": [],
   "source": [
    "# Create subsets of the trees outcomes per policy\n",
    "trees_no_policy_outcomes = dict()\n",
    "trees_small_release_outcomes = dict()\n",
    "trees_large_release_outcomes = dict()\n",
    "\n",
    "for sub in trees_outcomes: \n",
    "    # slicing and reassigning\n",
    "    trees_no_policy_outcomes[sub] = trees_outcomes[sub][0:100]\n",
    "    trees_small_release_outcomes[sub] = trees_outcomes[sub][100:200]\n",
    "    trees_large_release_outcomes[sub] = trees_outcomes[sub][200:300]"
   ]
  },
  {
   "cell_type": "code",
   "execution_count": 143,
   "metadata": {},
   "outputs": [],
   "source": [
    "uncertainties_experiments = trees_experiments[[\"b\", \"delta\", \"mean\", \"q\", \"stdev\"]]"
   ]
  },
  {
   "cell_type": "markdown",
   "metadata": {},
   "source": [
    "### No Policy"
   ]
  },
  {
   "cell_type": "code",
   "execution_count": 151,
   "metadata": {},
   "outputs": [
    {
     "data": {
      "image/png": "[encoded data removed]",
      "text/plain": [
       "<Figure size 720x360 with 2 Axes>"
      ]
     },
     "metadata": {},
     "output_type": "display_data"
    }
   ],
   "source": [
    "from ema_workbench.analysis import feature_scoring\n",
    "from ema_workbench.analysis.scenario_discovery_util import RuleInductionType\n",
    "\n",
    "x_no_policy = uncertainties_experiments[0:100]\n",
    "y_no_policy = trees_no_policy_outcomes\n",
    "\n",
    "fs = feature_scoring.get_feature_scores_all(x_no_policy, y_no_policy, alg='extra trees', nr_trees=110, max_features=0.6,mode=RuleInductionType.REGRESSION)\n",
    "\n",
    "fig, ax = plt.subplots(1, 1, figsize=(10, 5))\n",
    "ax.set_title(\"No Policy\")\n",
    "\n",
    "sns.heatmap(fs, cmap='viridis', annot=True, ax=ax)\n",
    "\n",
    "plt.show()"
   ]
  },
  {
   "cell_type": "code",
   "execution_count": 153,
   "metadata": {},
   "outputs": [
    {
     "data": {
      "image/png": "[encoded data removed]",
      "text/plain": [
       "<Figure size 720x360 with 2 Axes>"
      ]
     },
     "metadata": {},
     "output_type": "display_data"
    }
   ],
   "source": [
    "x_small_release = uncertainties_experiments[100:200]\n",
    "y_small_release = trees_small_release_outcomes\n",
    "\n",
    "fs = feature_scoring.get_feature_scores_all(x_small_release, y_small_release, alg='extra trees', nr_trees=110, max_features=0.6,mode=RuleInductionType.REGRESSION)\n",
    "\n",
    "fig, ax = plt.subplots(1, 1, figsize=(10, 5))\n",
    "ax.set_title(\"Small Release\")\n",
    "\n",
    "sns.heatmap(fs, cmap='viridis', annot=True, ax=ax)\n",
    "\n",
    "plt.show()"
   ]
  },
  {
   "cell_type": "code",
   "execution_count": 154,
   "metadata": {},
   "outputs": [
    {
     "data": {
      "image/png": "[encoded data removed]",
      "text/plain": [
       "<Figure size 720x360 with 2 Axes>"
      ]
     },
     "metadata": {},
     "output_type": "display_data"
    }
   ],
   "source": [
    "x_large_release = uncertainties_experiments[200:300]\n",
    "y_large_release = trees_large_release_outcomes\n",
    "\n",
    "fs = feature_scoring.get_feature_scores_all(x_large_release, y_large_release, alg='extra trees', nr_trees=110, max_features=0.6,mode=RuleInductionType.REGRESSION)\n",
    "\n",
    "fig, ax = plt.subplots(1, 1, figsize=(10, 5))\n",
    "ax.set_title(\"Large Release\")\n",
    "\n",
    "sns.heatmap(fs, cmap='viridis', annot=True, ax=ax)\n",
    "\n",
    "plt.show()"
   ]
  },
  {
   "cell_type": "code",
   "execution_count": null,
   "metadata": {},
   "outputs": [],
   "source": []
  }
 ],
 "metadata": {
  "kernelspec": {
   "display_name": "Python 3",
   "language": "python",
   "name": "python3"
  },
  "language_info": {
   "codemirror_mode": {
    "name": "ipython",
    "version": 3
   },
   "file_extension": ".py",
   "mimetype": "text/x-python",
   "name": "python",
   "nbconvert_exporter": "python",
   "pygments_lexer": "ipython3",
   "version": "3.7.8"
  }
 },
 "nbformat": 4,
 "nbformat_minor": 4
}
