{
 "cells": [
  {
   "cell_type": "markdown",
   "metadata": {},
   "source": [
    "# Lake model continued\n",
    "\n",
    "In the previous week you used the lake problem as a means of getting aquinted with the workbench. In this assignment we will continue with the lake problem, focussing explicitly on using it for open exploration. You can use the second part of [this tutorial](https://emaworkbench.readthedocs.io/en/latest/indepth_tutorial/open-exploration.html) for help.\n",
    "\n",
    "**It is paramount that you are using the lake problem with 100 decision variables, rather than the one found on the website with the seperate anthropogenic release decision**\n",
    "\n",
    "## Apply sensitivity analysis\n",
    "There is substantial support in the ema_workbench for global sensitivity. For this, the workbench relies on [SALib](https://salib.readthedocs.io/en/latest/) and feature scoring which is a machine learning alternative for global sensitivity analysis. \n",
    "\n",
    "\n",
    "1. Apply Sobol with 3 seperate release policies (0, 0.05, and 0.1) and analyse the results for each release policy seperately focusing on the reliability objective. Do the sensitivities change depending on the release policy? Can you explain why or why not?\n",
    "\n",
    "*hint: you can use sobol sampling for the uncertainties, and set policies to a list with the 3 different release policies. Next, for the analysis using logical indexing on the experiment.policy column you can select the results for each seperate release policy and apply sobol to each of the three seperate release policies. If this sounds too complicated, just do it on each release policy seperately.*\n",
    "\n"
   ]
  },
  {
   "cell_type": "markdown",
   "metadata": {},
   "source": [
    "2. Repeat the above analysis for the 3 release policies but now with extra trees feature scoring and for all outcomes of interest. As a bonus, use the sobol experiment results as input for extra trees, and compare the results with those resulting from latin hypercube sampling.\n",
    "\n",
    "*hint: you can use [seaborn heatmaps](https://seaborn.pydata.org/generated/seaborn.heatmap.html) for a nice figure of the results*\n"
   ]
  },
  {
   "cell_type": "code",
   "execution_count": 1,
   "metadata": {},
   "outputs": [],
   "source": [
    "from lakemodel_function import lake_problem\n",
    "\n",
    "from ema_workbench import (Model, RealParameter, ScalarOutcome, MultiprocessingEvaluator)\n",
    "\n",
    "#instantiate the model\n",
    "lake_model = Model('lakeproblem', function=lake_problem)\n",
    "lake_model.time_horizon = 100 # used to specify the number of timesteps\n",
    "\n",
    "#specify uncertainties\n",
    "lake_model.uncertainties = [RealParameter('mean', 0.01, 0.05),\n",
    "                            RealParameter('stdev', 0.001, 0.005),\n",
    "                            RealParameter('b', 0.1, 0.45),\n",
    "                            RealParameter('q', 2.0, 4.5),\n",
    "                            RealParameter('delta', 0.93, 0.99)]\n",
    "\n",
    "# set levers, one for each time step\n",
    "lake_model.levers = [RealParameter(f\"l{i}\", 0, 0.1) for i in \n",
    "                     range(lake_model.time_horizon)] # we use time_horizon here\n",
    "\n",
    "#specify outcomes \n",
    "lake_model.outcomes = [ScalarOutcome('max_P'),\n",
    "                       ScalarOutcome('utility'),\n",
    "                       ScalarOutcome('inertia'),\n",
    "                       ScalarOutcome('reliability')]"
   ]
  },
  {
   "cell_type": "code",
   "execution_count": 4,
   "metadata": {},
   "outputs": [
    {
     "data": {
      "text/plain": [
       "<Logger EMA (DEBUG)>"
      ]
     },
     "execution_count": 4,
     "metadata": {},
     "output_type": "execute_result"
    }
   ],
   "source": [
    "from ema_workbench import Policy, perform_experiments\n",
    "from ema_workbench import ema_logging\n",
    "from SALib.analyze import sobol\n",
    "from ema_workbench.em_framework.salib_samplers import get_SALib_problem\n",
    "from statistics import mean\n",
    "import numpy as np\n",
    "import pandas as pd\n",
    "import seaborn as sns\n",
    "import matplotlib.pyplot as plt\n",
    "from numpy import random\n",
    "\n",
    "ema_logging.log_to_stderr(ema_logging.INFO)\n",
    "\n"
   ]
  },
  {
   "cell_type": "code",
   "execution_count": null,
   "metadata": {},
   "outputs": [],
   "source": []
  },
  {
   "cell_type": "code",
   "execution_count": 8,
   "metadata": {},
   "outputs": [],
   "source": [
    " # add policies\n",
    "policies = [Policy('no policy',\n",
    "                      **{l.name:0 for l in lake_model.levers}),\n",
    "            Policy('small release',\n",
    "                       **{l.name:0.05 for l in lake_model.levers}),\n",
    "            Policy('large release',\n",
    "                       **{l.name:0.1 for l in lake_model.levers})\n",
    "                ]"
   ]
  },
  {
   "cell_type": "code",
   "execution_count": 5,
   "metadata": {},
   "outputs": [],
   "source": [
    "policies = [Policy('Random release 1',\n",
    "                      **{l.name:random.uniform(0,0.1) for l in lake_model.levers}),\n",
    "            Policy('Random release 2',\n",
    "                       **{l.name:random.uniform(0,0.1) for l in lake_model.levers}),\n",
    "            Policy('Random release 3',\n",
    "                       **{l.name:random.uniform(0,0.1) for l in lake_model.levers})]"
   ]
  },
  {
   "cell_type": "code",
   "execution_count": 5,
   "metadata": {},
   "outputs": [
    {
     "name": "stdout",
     "output_type": "stream",
     "text": [
      "[Policy({'l0': 0, 'l1': 0, 'l2': 0, 'l3': 0, 'l4': 0, 'l5': 0, 'l6': 0, 'l7': 0, 'l8': 0, 'l9': 0, 'l10': 0, 'l11': 0, 'l12': 0, 'l13': 0, 'l14': 0, 'l15': 0, 'l16': 0, 'l17': 0, 'l18': 0, 'l19': 0, 'l20': 0, 'l21': 0, 'l22': 0, 'l23': 0, 'l24': 0, 'l25': 0, 'l26': 0, 'l27': 0, 'l28': 0, 'l29': 0, 'l30': 0, 'l31': 0, 'l32': 0, 'l33': 0, 'l34': 0, 'l35': 0, 'l36': 0, 'l37': 0, 'l38': 0, 'l39': 0, 'l40': 0, 'l41': 0, 'l42': 0, 'l43': 0, 'l44': 0, 'l45': 0, 'l46': 0, 'l47': 0, 'l48': 0, 'l49': 0, 'l50': 0, 'l51': 0, 'l52': 0, 'l53': 0, 'l54': 0, 'l55': 0, 'l56': 0, 'l57': 0, 'l58': 0, 'l59': 0, 'l60': 0, 'l61': 0, 'l62': 0, 'l63': 0, 'l64': 0, 'l65': 0, 'l66': 0, 'l67': 0, 'l68': 0, 'l69': 0, 'l70': 0, 'l71': 0, 'l72': 0, 'l73': 0, 'l74': 0, 'l75': 0, 'l76': 0, 'l77': 0, 'l78': 0, 'l79': 0, 'l80': 0, 'l81': 0, 'l82': 0, 'l83': 0, 'l84': 0, 'l85': 0, 'l86': 0, 'l87': 0, 'l88': 0, 'l89': 0, 'l90': 0, 'l91': 0, 'l92': 0, 'l93': 0, 'l94': 0, 'l95': 0, 'l96': 0, 'l97': 0, 'l98': 0, 'l99': 0}), Policy({'l0': 0.05, 'l1': 0.05, 'l2': 0.05, 'l3': 0.05, 'l4': 0.05, 'l5': 0.05, 'l6': 0.05, 'l7': 0.05, 'l8': 0.05, 'l9': 0.05, 'l10': 0.05, 'l11': 0.05, 'l12': 0.05, 'l13': 0.05, 'l14': 0.05, 'l15': 0.05, 'l16': 0.05, 'l17': 0.05, 'l18': 0.05, 'l19': 0.05, 'l20': 0.05, 'l21': 0.05, 'l22': 0.05, 'l23': 0.05, 'l24': 0.05, 'l25': 0.05, 'l26': 0.05, 'l27': 0.05, 'l28': 0.05, 'l29': 0.05, 'l30': 0.05, 'l31': 0.05, 'l32': 0.05, 'l33': 0.05, 'l34': 0.05, 'l35': 0.05, 'l36': 0.05, 'l37': 0.05, 'l38': 0.05, 'l39': 0.05, 'l40': 0.05, 'l41': 0.05, 'l42': 0.05, 'l43': 0.05, 'l44': 0.05, 'l45': 0.05, 'l46': 0.05, 'l47': 0.05, 'l48': 0.05, 'l49': 0.05, 'l50': 0.05, 'l51': 0.05, 'l52': 0.05, 'l53': 0.05, 'l54': 0.05, 'l55': 0.05, 'l56': 0.05, 'l57': 0.05, 'l58': 0.05, 'l59': 0.05, 'l60': 0.05, 'l61': 0.05, 'l62': 0.05, 'l63': 0.05, 'l64': 0.05, 'l65': 0.05, 'l66': 0.05, 'l67': 0.05, 'l68': 0.05, 'l69': 0.05, 'l70': 0.05, 'l71': 0.05, 'l72': 0.05, 'l73': 0.05, 'l74': 0.05, 'l75': 0.05, 'l76': 0.05, 'l77': 0.05, 'l78': 0.05, 'l79': 0.05, 'l80': 0.05, 'l81': 0.05, 'l82': 0.05, 'l83': 0.05, 'l84': 0.05, 'l85': 0.05, 'l86': 0.05, 'l87': 0.05, 'l88': 0.05, 'l89': 0.05, 'l90': 0.05, 'l91': 0.05, 'l92': 0.05, 'l93': 0.05, 'l94': 0.05, 'l95': 0.05, 'l96': 0.05, 'l97': 0.05, 'l98': 0.05, 'l99': 0.05}), Policy({'l0': 0.1, 'l1': 0.1, 'l2': 0.1, 'l3': 0.1, 'l4': 0.1, 'l5': 0.1, 'l6': 0.1, 'l7': 0.1, 'l8': 0.1, 'l9': 0.1, 'l10': 0.1, 'l11': 0.1, 'l12': 0.1, 'l13': 0.1, 'l14': 0.1, 'l15': 0.1, 'l16': 0.1, 'l17': 0.1, 'l18': 0.1, 'l19': 0.1, 'l20': 0.1, 'l21': 0.1, 'l22': 0.1, 'l23': 0.1, 'l24': 0.1, 'l25': 0.1, 'l26': 0.1, 'l27': 0.1, 'l28': 0.1, 'l29': 0.1, 'l30': 0.1, 'l31': 0.1, 'l32': 0.1, 'l33': 0.1, 'l34': 0.1, 'l35': 0.1, 'l36': 0.1, 'l37': 0.1, 'l38': 0.1, 'l39': 0.1, 'l40': 0.1, 'l41': 0.1, 'l42': 0.1, 'l43': 0.1, 'l44': 0.1, 'l45': 0.1, 'l46': 0.1, 'l47': 0.1, 'l48': 0.1, 'l49': 0.1, 'l50': 0.1, 'l51': 0.1, 'l52': 0.1, 'l53': 0.1, 'l54': 0.1, 'l55': 0.1, 'l56': 0.1, 'l57': 0.1, 'l58': 0.1, 'l59': 0.1, 'l60': 0.1, 'l61': 0.1, 'l62': 0.1, 'l63': 0.1, 'l64': 0.1, 'l65': 0.1, 'l66': 0.1, 'l67': 0.1, 'l68': 0.1, 'l69': 0.1, 'l70': 0.1, 'l71': 0.1, 'l72': 0.1, 'l73': 0.1, 'l74': 0.1, 'l75': 0.1, 'l76': 0.1, 'l77': 0.1, 'l78': 0.1, 'l79': 0.1, 'l80': 0.1, 'l81': 0.1, 'l82': 0.1, 'l83': 0.1, 'l84': 0.1, 'l85': 0.1, 'l86': 0.1, 'l87': 0.1, 'l88': 0.1, 'l89': 0.1, 'l90': 0.1, 'l91': 0.1, 'l92': 0.1, 'l93': 0.1, 'l94': 0.1, 'l95': 0.1, 'l96': 0.1, 'l97': 0.1, 'l98': 0.1, 'l99': 0.1})]\n"
     ]
    }
   ],
   "source": [
    "print(policies)"
   ]
  },
  {
   "cell_type": "markdown",
   "metadata": {},
   "source": [
    "## Part 1. Sobol analysis\n",
    "Apply Sobol with 3 seperate release policies (0, 0.05, and 0.1) and analyse the results for each release policy seperately focusing on the reliability objective. Do the sensitivities change depending on the release policy? Can you explain why or why not?"
   ]
  },
  {
   "cell_type": "code",
   "execution_count": 6,
   "metadata": {},
   "outputs": [
    {
     "name": "stderr",
     "output_type": "stream",
     "text": [
      "/Users/leopoldoochoa/opt/anaconda3/lib/python3.8/site-packages/SALib/sample/saltelli.py:52: FutureWarning: \n",
      "        Convergence properties of the Sobol' sequence is only valid if `N` = 2^n.\n",
      "        SALib will continue on, but results may have issues.\n",
      "        In future, this will raise an error.\n",
      "        \n",
      "  warnings.warn(msg, FutureWarning)\n",
      "[MainProcess/INFO] performing 2400 scenarios * 3 policies * 1 model(s) = 7200 experiments\n",
      "[MainProcess/INFO] performing experiments sequentially\n"
     ]
    },
    {
     "ename": "KeyboardInterrupt",
     "evalue": "",
     "output_type": "error",
     "traceback": [
      "\u001b[0;31m---------------------------------------------------------------------------\u001b[0m",
      "\u001b[0;31mKeyboardInterrupt\u001b[0m                         Traceback (most recent call last)",
      "\u001b[0;32m<timed exec>\u001b[0m in \u001b[0;36m<module>\u001b[0;34m\u001b[0m\n",
      "\u001b[0;32m~/opt/anaconda3/lib/python3.8/site-packages/ema_workbench/em_framework/evaluators.py\u001b[0m in \u001b[0;36mperform_experiments\u001b[0;34m(models, scenarios, policies, evaluator, reporting_interval, reporting_frequency, uncertainty_union, lever_union, outcome_union, uncertainty_sampling, levers_sampling, callback, return_callback)\u001b[0m\n\u001b[1;32m    466\u001b[0m         \u001b[0mevaluator\u001b[0m \u001b[0;34m=\u001b[0m \u001b[0mSequentialEvaluator\u001b[0m\u001b[0;34m(\u001b[0m\u001b[0mmodels\u001b[0m\u001b[0;34m)\u001b[0m\u001b[0;34m\u001b[0m\u001b[0;34m\u001b[0m\u001b[0m\n\u001b[1;32m    467\u001b[0m \u001b[0;34m\u001b[0m\u001b[0m\n\u001b[0;32m--> 468\u001b[0;31m     \u001b[0mevaluator\u001b[0m\u001b[0;34m.\u001b[0m\u001b[0mevaluate_experiments\u001b[0m\u001b[0;34m(\u001b[0m\u001b[0mscenarios\u001b[0m\u001b[0;34m,\u001b[0m \u001b[0mpolicies\u001b[0m\u001b[0;34m,\u001b[0m \u001b[0mcallback\u001b[0m\u001b[0;34m)\u001b[0m\u001b[0;34m\u001b[0m\u001b[0;34m\u001b[0m\u001b[0m\n\u001b[0m\u001b[1;32m    469\u001b[0m \u001b[0;34m\u001b[0m\u001b[0m\n\u001b[1;32m    470\u001b[0m     \u001b[0;32mif\u001b[0m \u001b[0mcallback\u001b[0m\u001b[0;34m.\u001b[0m\u001b[0mi\u001b[0m \u001b[0;34m!=\u001b[0m \u001b[0mnr_of_exp\u001b[0m\u001b[0;34m:\u001b[0m\u001b[0;34m\u001b[0m\u001b[0;34m\u001b[0m\u001b[0m\n",
      "\u001b[0;32m~/opt/anaconda3/lib/python3.8/site-packages/ema_workbench/em_framework/evaluators.py\u001b[0m in \u001b[0;36mevaluate_experiments\u001b[0;34m(self, scenarios, policies, callback)\u001b[0m\n\u001b[1;32m    227\u001b[0m \u001b[0;34m\u001b[0m\u001b[0m\n\u001b[1;32m    228\u001b[0m         \u001b[0;32mfor\u001b[0m \u001b[0mexperiment\u001b[0m \u001b[0;32min\u001b[0m \u001b[0mex_gen\u001b[0m\u001b[0;34m:\u001b[0m\u001b[0;34m\u001b[0m\u001b[0;34m\u001b[0m\u001b[0m\n\u001b[0;32m--> 229\u001b[0;31m             \u001b[0moutcomes\u001b[0m \u001b[0;34m=\u001b[0m \u001b[0mrunner\u001b[0m\u001b[0;34m.\u001b[0m\u001b[0mrun_experiment\u001b[0m\u001b[0;34m(\u001b[0m\u001b[0mexperiment\u001b[0m\u001b[0;34m)\u001b[0m\u001b[0;34m\u001b[0m\u001b[0;34m\u001b[0m\u001b[0m\n\u001b[0m\u001b[1;32m    230\u001b[0m             \u001b[0mcallback\u001b[0m\u001b[0;34m(\u001b[0m\u001b[0mexperiment\u001b[0m\u001b[0;34m,\u001b[0m \u001b[0moutcomes\u001b[0m\u001b[0;34m)\u001b[0m\u001b[0;34m\u001b[0m\u001b[0;34m\u001b[0m\u001b[0m\n\u001b[1;32m    231\u001b[0m         \u001b[0mrunner\u001b[0m\u001b[0;34m.\u001b[0m\u001b[0mcleanup\u001b[0m\u001b[0;34m(\u001b[0m\u001b[0;34m)\u001b[0m\u001b[0;34m\u001b[0m\u001b[0;34m\u001b[0m\u001b[0m\n",
      "\u001b[0;32m~/opt/anaconda3/lib/python3.8/site-packages/ema_workbench/em_framework/experiment_runner.py\u001b[0m in \u001b[0;36mrun_experiment\u001b[0;34m(self, experiment)\u001b[0m\n\u001b[1;32m     83\u001b[0m \u001b[0;34m\u001b[0m\u001b[0m\n\u001b[1;32m     84\u001b[0m         \u001b[0;32mtry\u001b[0m\u001b[0;34m:\u001b[0m\u001b[0;34m\u001b[0m\u001b[0;34m\u001b[0m\u001b[0m\n\u001b[0;32m---> 85\u001b[0;31m             \u001b[0mmodel\u001b[0m\u001b[0;34m.\u001b[0m\u001b[0mrun_model\u001b[0m\u001b[0;34m(\u001b[0m\u001b[0mscenario\u001b[0m\u001b[0;34m,\u001b[0m \u001b[0mpolicy\u001b[0m\u001b[0;34m)\u001b[0m\u001b[0;34m\u001b[0m\u001b[0;34m\u001b[0m\u001b[0m\n\u001b[0m\u001b[1;32m     86\u001b[0m         \u001b[0;32mexcept\u001b[0m \u001b[0mCaseError\u001b[0m \u001b[0;32mas\u001b[0m \u001b[0me\u001b[0m\u001b[0;34m:\u001b[0m\u001b[0;34m\u001b[0m\u001b[0;34m\u001b[0m\u001b[0m\n\u001b[1;32m     87\u001b[0m             \u001b[0m_logger\u001b[0m\u001b[0;34m.\u001b[0m\u001b[0mwarning\u001b[0m\u001b[0;34m(\u001b[0m\u001b[0mstr\u001b[0m\u001b[0;34m(\u001b[0m\u001b[0me\u001b[0m\u001b[0;34m)\u001b[0m\u001b[0;34m)\u001b[0m\u001b[0;34m\u001b[0m\u001b[0;34m\u001b[0m\u001b[0m\n",
      "\u001b[0;32m~/opt/anaconda3/lib/python3.8/site-packages/ema_workbench/util/ema_logging.py\u001b[0m in \u001b[0;36mwrapper\u001b[0;34m(*args, **kwargs)\u001b[0m\n\u001b[1;32m    156\u001b[0m             \u001b[0;31m# object instance as first arguments in args\u001b[0m\u001b[0;34m\u001b[0m\u001b[0;34m\u001b[0m\u001b[0;34m\u001b[0m\u001b[0m\n\u001b[1;32m    157\u001b[0m             \u001b[0mlogger\u001b[0m\u001b[0;34m.\u001b[0m\u001b[0mdebug\u001b[0m\u001b[0;34m(\u001b[0m\u001b[0;34m'calling {} on {}'\u001b[0m\u001b[0;34m.\u001b[0m\u001b[0mformat\u001b[0m\u001b[0;34m(\u001b[0m\u001b[0mfunc\u001b[0m\u001b[0;34m.\u001b[0m\u001b[0m__name__\u001b[0m\u001b[0;34m,\u001b[0m \u001b[0mclassname\u001b[0m\u001b[0;34m)\u001b[0m\u001b[0;34m)\u001b[0m\u001b[0;34m\u001b[0m\u001b[0;34m\u001b[0m\u001b[0m\n\u001b[0;32m--> 158\u001b[0;31m             \u001b[0mres\u001b[0m \u001b[0;34m=\u001b[0m \u001b[0mfunc\u001b[0m\u001b[0;34m(\u001b[0m\u001b[0;34m*\u001b[0m\u001b[0margs\u001b[0m\u001b[0;34m,\u001b[0m \u001b[0;34m**\u001b[0m\u001b[0mkwargs\u001b[0m\u001b[0;34m)\u001b[0m\u001b[0;34m\u001b[0m\u001b[0;34m\u001b[0m\u001b[0m\n\u001b[0m\u001b[1;32m    159\u001b[0m             logger.debug(\n\u001b[1;32m    160\u001b[0m                 'completed calling {} on {}'.format(\n",
      "\u001b[0;32m~/opt/anaconda3/lib/python3.8/site-packages/ema_workbench/em_framework/model.py\u001b[0m in \u001b[0;36mrun_model\u001b[0;34m(self, scenario, policy)\u001b[0m\n\u001b[1;32m    336\u001b[0m         \u001b[0mexperiment\u001b[0m \u001b[0;34m=\u001b[0m \u001b[0mExperiment\u001b[0m\u001b[0;34m(\u001b[0m\u001b[0mscenario\u001b[0m\u001b[0;34m,\u001b[0m \u001b[0mself\u001b[0m\u001b[0;34m.\u001b[0m\u001b[0mpolicy\u001b[0m\u001b[0;34m,\u001b[0m \u001b[0mconstants\u001b[0m\u001b[0;34m)\u001b[0m\u001b[0;34m\u001b[0m\u001b[0;34m\u001b[0m\u001b[0m\n\u001b[1;32m    337\u001b[0m \u001b[0;34m\u001b[0m\u001b[0m\n\u001b[0;32m--> 338\u001b[0;31m         \u001b[0moutputs\u001b[0m \u001b[0;34m=\u001b[0m \u001b[0mself\u001b[0m\u001b[0;34m.\u001b[0m\u001b[0mrun_experiment\u001b[0m\u001b[0;34m(\u001b[0m\u001b[0mexperiment\u001b[0m\u001b[0;34m)\u001b[0m\u001b[0;34m\u001b[0m\u001b[0;34m\u001b[0m\u001b[0m\n\u001b[0m\u001b[1;32m    339\u001b[0m \u001b[0;34m\u001b[0m\u001b[0m\n\u001b[1;32m    340\u001b[0m         \u001b[0mself\u001b[0m\u001b[0;34m.\u001b[0m\u001b[0moutcomes_output\u001b[0m \u001b[0;34m=\u001b[0m \u001b[0moutputs\u001b[0m\u001b[0;34m\u001b[0m\u001b[0;34m\u001b[0m\u001b[0m\n",
      "\u001b[0;32m~/opt/anaconda3/lib/python3.8/site-packages/ema_workbench/util/ema_logging.py\u001b[0m in \u001b[0;36mwrapper\u001b[0;34m(*args, **kwargs)\u001b[0m\n\u001b[1;32m    156\u001b[0m             \u001b[0;31m# object instance as first arguments in args\u001b[0m\u001b[0;34m\u001b[0m\u001b[0;34m\u001b[0m\u001b[0;34m\u001b[0m\u001b[0m\n\u001b[1;32m    157\u001b[0m             \u001b[0mlogger\u001b[0m\u001b[0;34m.\u001b[0m\u001b[0mdebug\u001b[0m\u001b[0;34m(\u001b[0m\u001b[0;34m'calling {} on {}'\u001b[0m\u001b[0;34m.\u001b[0m\u001b[0mformat\u001b[0m\u001b[0;34m(\u001b[0m\u001b[0mfunc\u001b[0m\u001b[0;34m.\u001b[0m\u001b[0m__name__\u001b[0m\u001b[0;34m,\u001b[0m \u001b[0mclassname\u001b[0m\u001b[0;34m)\u001b[0m\u001b[0;34m)\u001b[0m\u001b[0;34m\u001b[0m\u001b[0;34m\u001b[0m\u001b[0m\n\u001b[0;32m--> 158\u001b[0;31m             \u001b[0mres\u001b[0m \u001b[0;34m=\u001b[0m \u001b[0mfunc\u001b[0m\u001b[0;34m(\u001b[0m\u001b[0;34m*\u001b[0m\u001b[0margs\u001b[0m\u001b[0;34m,\u001b[0m \u001b[0;34m**\u001b[0m\u001b[0mkwargs\u001b[0m\u001b[0;34m)\u001b[0m\u001b[0;34m\u001b[0m\u001b[0;34m\u001b[0m\u001b[0m\n\u001b[0m\u001b[1;32m    159\u001b[0m             logger.debug(\n\u001b[1;32m    160\u001b[0m                 'completed calling {} on {}'.format(\n",
      "\u001b[0;32m~/opt/anaconda3/lib/python3.8/site-packages/ema_workbench/em_framework/model.py\u001b[0m in \u001b[0;36mrun_experiment\u001b[0;34m(self, experiment)\u001b[0m\n\u001b[1;32m    389\u001b[0m \u001b[0;34m\u001b[0m\u001b[0m\n\u001b[1;32m    390\u001b[0m         \"\"\"\n\u001b[0;32m--> 391\u001b[0;31m         \u001b[0mmodel_output\u001b[0m \u001b[0;34m=\u001b[0m \u001b[0mself\u001b[0m\u001b[0;34m.\u001b[0m\u001b[0mfunction\u001b[0m\u001b[0;34m(\u001b[0m\u001b[0;34m**\u001b[0m\u001b[0mexperiment\u001b[0m\u001b[0;34m)\u001b[0m\u001b[0;34m\u001b[0m\u001b[0;34m\u001b[0m\u001b[0m\n\u001b[0m\u001b[1;32m    392\u001b[0m \u001b[0;34m\u001b[0m\u001b[0m\n\u001b[1;32m    393\u001b[0m         \u001b[0;31m# TODO: might it be possible to somehow abstract this\u001b[0m\u001b[0;34m\u001b[0m\u001b[0;34m\u001b[0m\u001b[0;34m\u001b[0m\u001b[0m\n",
      "\u001b[0;32m~/Documents/GitHub/MBDM/Week 3-4 - vulnerability analysis/lakemodel_function.py\u001b[0m in \u001b[0;36mlake_problem\u001b[0;34m(b, q, mean, stdev, delta, alpha, nsamples, steps, l0, l1, l2, l3, l4, l5, l6, l7, l8, l9, l10, l11, l12, l13, l14, l15, l16, l17, l18, l19, l20, l21, l22, l23, l24, l25, l26, l27, l28, l29, l30, l31, l32, l33, l34, l35, l36, l37, l38, l39, l40, l41, l42, l43, l44, l45, l46, l47, l48, l49, l50, l51, l52, l53, l54, l55, l56, l57, l58, l59, l60, l61, l62, l63, l64, l65, l66, l67, l68, l69, l70, l71, l72, l73, l74, l75, l76, l77, l78, l79, l80, l81, l82, l83, l84, l85, l86, l87, l88, l89, l90, l91, l92, l93, l94, l95, l96, l97, l98, l99)\u001b[0m\n\u001b[1;32m     52\u001b[0m             \u001b[0maverage_daily_P\u001b[0m\u001b[0;34m[\u001b[0m\u001b[0mt\u001b[0m\u001b[0;34m]\u001b[0m \u001b[0;34m+=\u001b[0m \u001b[0mX\u001b[0m\u001b[0;34m[\u001b[0m\u001b[0mt\u001b[0m\u001b[0;34m]\u001b[0m\u001b[0;34m/\u001b[0m\u001b[0mfloat\u001b[0m\u001b[0;34m(\u001b[0m\u001b[0mnsamples\u001b[0m\u001b[0;34m)\u001b[0m\u001b[0;34m\u001b[0m\u001b[0;34m\u001b[0m\u001b[0m\n\u001b[1;32m     53\u001b[0m \u001b[0;34m\u001b[0m\u001b[0m\n\u001b[0;32m---> 54\u001b[0;31m         \u001b[0mreliability\u001b[0m \u001b[0;34m+=\u001b[0m \u001b[0mnp\u001b[0m\u001b[0;34m.\u001b[0m\u001b[0msum\u001b[0m\u001b[0;34m(\u001b[0m\u001b[0mX\u001b[0m \u001b[0;34m<\u001b[0m \u001b[0mPcrit\u001b[0m\u001b[0;34m)\u001b[0m\u001b[0;34m/\u001b[0m\u001b[0mfloat\u001b[0m\u001b[0;34m(\u001b[0m\u001b[0mnsamples\u001b[0m\u001b[0;34m*\u001b[0m\u001b[0mnvars\u001b[0m\u001b[0;34m)\u001b[0m\u001b[0;34m\u001b[0m\u001b[0;34m\u001b[0m\u001b[0m\n\u001b[0m\u001b[1;32m     55\u001b[0m \u001b[0;34m\u001b[0m\u001b[0m\n\u001b[1;32m     56\u001b[0m     \u001b[0mmax_P\u001b[0m \u001b[0;34m=\u001b[0m \u001b[0mnp\u001b[0m\u001b[0;34m.\u001b[0m\u001b[0mmax\u001b[0m\u001b[0;34m(\u001b[0m\u001b[0maverage_daily_P\u001b[0m\u001b[0;34m)\u001b[0m\u001b[0;34m\u001b[0m\u001b[0;34m\u001b[0m\u001b[0m\n",
      "\u001b[0;32m<__array_function__ internals>\u001b[0m in \u001b[0;36msum\u001b[0;34m(*args, **kwargs)\u001b[0m\n",
      "\u001b[0;31mKeyboardInterrupt\u001b[0m: "
     ]
    }
   ],
   "source": [
    "%%time\n",
    "n_scenarios = 200\n",
    "\n",
    "results = perform_experiments(lake_model, n_scenarios, policies=policies, uncertainty_sampling='sobol')\n",
    "experiments, outcomes = results"
   ]
  },
  {
   "cell_type": "code",
   "execution_count": 5,
   "metadata": {},
   "outputs": [],
   "source": [
    "reliability = outcomes['reliability']\n",
    "\n",
    "# Slice per policy\n",
    "no_policy_experiments = experiments[0:2400]\n",
    "no_policy_reliability = reliability[0:2400]\n",
    "\n",
    "\n",
    "small_release_experiments = experiments[2400:4800]\n",
    "small_release_reliability = reliability[2400:4800]\n",
    "\n",
    "large_release_experiments = experiments[4800:7200]\n",
    "large_release_reliability = reliability[4800:7200]"
   ]
  },
  {
   "cell_type": "code",
   "execution_count": 6,
   "metadata": {},
   "outputs": [
    {
     "data": {
      "image/png": "[encoded data removed]",
      "text/plain": [
       "<Figure size 576x432 with 3 Axes>"
      ]
     },
     "metadata": {
      "needs_background": "light"
     },
     "output_type": "display_data"
    }
   ],
   "source": [
    "# Check if the outcomes of reliability without ploicies are normally distributed\n",
    "\n",
    "fig, ax = plt.subplots(1,3)\n",
    "sns.kdeplot(no_policy_reliability, ax = ax[0])\n",
    "sns.kdeplot(small_release_reliability, ax = ax[1])\n",
    "sns.kdeplot(large_release_reliability, ax = ax[2])\n",
    "sns.set_style('white')\n",
    "fig.set_size_inches(8,6)\n",
    "fig.subplots_adjust(bottom=0.3)\n",
    "plt.show()\n"
   ]
  },
  {
   "cell_type": "markdown",
   "metadata": {},
   "source": [
    "The results of the reliability outcomes look like mixtures of two gaussian distributions. To perform a SOBOL analysis, the distribution of the outcomes need to be normally distributed."
   ]
  },
  {
   "cell_type": "code",
   "execution_count": 7,
   "metadata": {},
   "outputs": [],
   "source": [
    "problem = get_SALib_problem(lake_model.uncertainties)\n",
    "\n",
    "Si_no_policy = sobol.analyze(problem, no_policy_reliability,\n",
    "                       calc_second_order=True, print_to_console=False)\n",
    "\n",
    "Si_small_release = sobol.analyze(problem, small_release_reliability,\n",
    "                       calc_second_order=True, print_to_console=False)\n",
    "\n",
    "Si_large_release = sobol.analyze(problem, large_release_reliability,\n",
    "                       calc_second_order=True, print_to_console=False)"
   ]
  },
  {
   "cell_type": "markdown",
   "metadata": {},
   "source": [
    "#### No Policy"
   ]
  },
  {
   "cell_type": "code",
   "execution_count": 8,
   "metadata": {},
   "outputs": [
    {
     "data": {
      "image/png": "[encoded data removed]",
      "text/plain": [
       "<Figure size 576x432 with 1 Axes>"
      ]
     },
     "metadata": {},
     "output_type": "display_data"
    }
   ],
   "source": [
    "\n",
    "scores_filtered_no_policy = {k:Si_no_policy[k] for k in ['ST','ST_conf','S1','S1_conf']}\n",
    "Si_no_policy_plot = pd.DataFrame(scores_filtered_no_policy)\n",
    "\n",
    "Si_no_policy_plot[\"names\"] = problem[\"names\"]\n",
    "Si_no_policy_plot = Si_no_policy_plot.set_index(\"names\")\n",
    "\n",
    "sns.set_style('white')\n",
    "fig, ax = plt.subplots(1)\n",
    "\n",
    "indices = Si_no_policy_plot[['S1','ST']]\n",
    "err = Si_no_policy_plot[['S1_conf','ST_conf']]\n",
    "\n",
    "ax.set_title(\"No Policy\")\n",
    "\n",
    "indices.plot.bar(yerr=err.values.T,ax=ax)\n",
    "fig.set_size_inches(8,6)\n",
    "fig.subplots_adjust(bottom=0.3)\n",
    "plt.show()"
   ]
  },
  {
   "cell_type": "code",
   "execution_count": 9,
   "metadata": {},
   "outputs": [
    {
     "data": {
      "text/html": [
       "<div>\n",
       "<style scoped>\n",
       "    .dataframe tbody tr th:only-of-type {\n",
       "        vertical-align: middle;\n",
       "    }\n",
       "\n",
       "    .dataframe tbody tr th {\n",
       "        vertical-align: top;\n",
       "    }\n",
       "\n",
       "    .dataframe thead th {\n",
       "        text-align: right;\n",
       "    }\n",
       "</style>\n",
       "<table border=\"1\" class=\"dataframe\">\n",
       "  <thead>\n",
       "    <tr style=\"text-align: right;\">\n",
       "      <th></th>\n",
       "      <th>ST</th>\n",
       "      <th>ST_conf</th>\n",
       "      <th>S1</th>\n",
       "      <th>S1_conf</th>\n",
       "    </tr>\n",
       "    <tr>\n",
       "      <th>names</th>\n",
       "      <th></th>\n",
       "      <th></th>\n",
       "      <th></th>\n",
       "      <th></th>\n",
       "    </tr>\n",
       "  </thead>\n",
       "  <tbody>\n",
       "    <tr>\n",
       "      <th>b</th>\n",
       "      <td>0.689034</td>\n",
       "      <td>0.181173</td>\n",
       "      <td>0.420236</td>\n",
       "      <td>0.166776</td>\n",
       "    </tr>\n",
       "    <tr>\n",
       "      <th>delta</th>\n",
       "      <td>0.000008</td>\n",
       "      <td>0.000009</td>\n",
       "      <td>0.000541</td>\n",
       "      <td>0.000804</td>\n",
       "    </tr>\n",
       "    <tr>\n",
       "      <th>mean</th>\n",
       "      <td>0.368178</td>\n",
       "      <td>0.118005</td>\n",
       "      <td>0.159070</td>\n",
       "      <td>0.136864</td>\n",
       "    </tr>\n",
       "    <tr>\n",
       "      <th>q</th>\n",
       "      <td>0.415104</td>\n",
       "      <td>0.120005</td>\n",
       "      <td>0.210524</td>\n",
       "      <td>0.145774</td>\n",
       "    </tr>\n",
       "    <tr>\n",
       "      <th>stdev</th>\n",
       "      <td>0.000031</td>\n",
       "      <td>0.000042</td>\n",
       "      <td>0.000044</td>\n",
       "      <td>0.000879</td>\n",
       "    </tr>\n",
       "  </tbody>\n",
       "</table>\n",
       "</div>"
      ],
      "text/plain": [
       "             ST   ST_conf        S1   S1_conf\n",
       "names                                        \n",
       "b      0.689034  0.181173  0.420236  0.166776\n",
       "delta  0.000008  0.000009  0.000541  0.000804\n",
       "mean   0.368178  0.118005  0.159070  0.136864\n",
       "q      0.415104  0.120005  0.210524  0.145774\n",
       "stdev  0.000031  0.000042  0.000044  0.000879"
      ]
     },
     "execution_count": 9,
     "metadata": {},
     "output_type": "execute_result"
    }
   ],
   "source": [
    "Si_no_policy_plot"
   ]
  },
  {
   "cell_type": "markdown",
   "metadata": {},
   "source": [
    "##### Interpretation"
   ]
  },
  {
   "cell_type": "markdown",
   "metadata": {},
   "source": [
    "It can be concluded from this first SOBOL analysis that without any policy, feature 'b', the lake natural removal rate, has the largest impact on the reliability of the outcome, both when are interaction effects considered (ST) as when they are not (S1). This can be partly explained by the fact that inertia is the variable that measures whether the pollution of the lake is below the critical treshold, and this crititcal treshold is dependent of the natural removal rate of the lake. The features 'delta' and 'stdev' do not seem to have a big impact on the variation in the outcome of reliability. For delta this makes sense, since this is the discounted benefit of pollution and this feature only affects the economic benefits of the pollution. "
   ]
  },
  {
   "cell_type": "markdown",
   "metadata": {},
   "source": [
    "#### Small release policy"
   ]
  },
  {
   "cell_type": "code",
   "execution_count": 10,
   "metadata": {},
   "outputs": [
    {
     "data": {
      "image/png": "[encoded data removed]",
      "text/plain": [
       "<Figure size 576x432 with 1 Axes>"
      ]
     },
     "metadata": {},
     "output_type": "display_data"
    }
   ],
   "source": [
    "scores_filtered_small_release = {k:Si_small_release[k] for k in ['ST','ST_conf','S1','S1_conf']}\n",
    "Si_small_release_plot = pd.DataFrame(scores_filtered_small_release)\n",
    "\n",
    "Si_small_release_plot[\"names\"] = problem[\"names\"]\n",
    "Si_small_release_plot = Si_small_release_plot.set_index(\"names\")\n",
    "\n",
    "sns.set_style('white')\n",
    "fig, ax = plt.subplots(1)\n",
    "\n",
    "indices = Si_small_release_plot[['S1','ST']]\n",
    "err = Si_small_release_plot[['S1_conf','ST_conf']]\n",
    "\n",
    "ax.set_title(\"Small Release\")\n",
    "\n",
    "indices.plot.bar(yerr=err.values.T,ax=ax)\n",
    "fig.set_size_inches(8,6)\n",
    "fig.subplots_adjust(bottom=0.3)\n",
    "plt.show()"
   ]
  },
  {
   "cell_type": "code",
   "execution_count": 22,
   "metadata": {},
   "outputs": [
    {
     "data": {
      "text/html": [
       "<div>\n",
       "<style scoped>\n",
       "    .dataframe tbody tr th:only-of-type {\n",
       "        vertical-align: middle;\n",
       "    }\n",
       "\n",
       "    .dataframe tbody tr th {\n",
       "        vertical-align: top;\n",
       "    }\n",
       "\n",
       "    .dataframe thead th {\n",
       "        text-align: right;\n",
       "    }\n",
       "</style>\n",
       "<table border=\"1\" class=\"dataframe\">\n",
       "  <thead>\n",
       "    <tr style=\"text-align: right;\">\n",
       "      <th></th>\n",
       "      <th>ST</th>\n",
       "      <th>ST_conf</th>\n",
       "      <th>S1</th>\n",
       "      <th>S1_conf</th>\n",
       "    </tr>\n",
       "    <tr>\n",
       "      <th>names</th>\n",
       "      <th></th>\n",
       "      <th></th>\n",
       "      <th></th>\n",
       "      <th></th>\n",
       "    </tr>\n",
       "  </thead>\n",
       "  <tbody>\n",
       "    <tr>\n",
       "      <th>b</th>\n",
       "      <td>0.715481</td>\n",
       "      <td>0.124106</td>\n",
       "      <td>0.517721</td>\n",
       "      <td>0.149481</td>\n",
       "    </tr>\n",
       "    <tr>\n",
       "      <th>delta</th>\n",
       "      <td>0.000035</td>\n",
       "      <td>0.000050</td>\n",
       "      <td>0.000321</td>\n",
       "      <td>0.001481</td>\n",
       "    </tr>\n",
       "    <tr>\n",
       "      <th>mean</th>\n",
       "      <td>0.130575</td>\n",
       "      <td>0.058325</td>\n",
       "      <td>0.055262</td>\n",
       "      <td>0.090526</td>\n",
       "    </tr>\n",
       "    <tr>\n",
       "      <th>q</th>\n",
       "      <td>0.500884</td>\n",
       "      <td>0.105761</td>\n",
       "      <td>0.252149</td>\n",
       "      <td>0.129192</td>\n",
       "    </tr>\n",
       "    <tr>\n",
       "      <th>stdev</th>\n",
       "      <td>0.000069</td>\n",
       "      <td>0.000110</td>\n",
       "      <td>-0.000183</td>\n",
       "      <td>0.001089</td>\n",
       "    </tr>\n",
       "  </tbody>\n",
       "</table>\n",
       "</div>"
      ],
      "text/plain": [
       "             ST   ST_conf        S1   S1_conf\n",
       "names                                        \n",
       "b      0.715481  0.124106  0.517721  0.149481\n",
       "delta  0.000035  0.000050  0.000321  0.001481\n",
       "mean   0.130575  0.058325  0.055262  0.090526\n",
       "q      0.500884  0.105761  0.252149  0.129192\n",
       "stdev  0.000069  0.000110 -0.000183  0.001089"
      ]
     },
     "execution_count": 22,
     "metadata": {},
     "output_type": "execute_result"
    }
   ],
   "source": [
    "Si_small_release_plot"
   ]
  },
  {
   "cell_type": "markdown",
   "metadata": {},
   "source": [
    "#### Large release policy"
   ]
  },
  {
   "cell_type": "code",
   "execution_count": 12,
   "metadata": {},
   "outputs": [
    {
     "data": {
      "image/png": "[encoded data removed]",
      "text/plain": [
       "<Figure size 576x432 with 1 Axes>"
      ]
     },
     "metadata": {},
     "output_type": "display_data"
    }
   ],
   "source": [
    "scores_filtered_large_release = {k:Si_large_release[k] for k in ['ST','ST_conf','S1','S1_conf']}\n",
    "Si_large_release_plot = pd.DataFrame(scores_filtered_large_release)\n",
    "\n",
    "Si_large_release_plot[\"names\"] = problem[\"names\"]\n",
    "Si_large_release_plot = Si_large_release_plot.set_index(\"names\")\n",
    "\n",
    "sns.set_style('white')\n",
    "fig, ax = plt.subplots(1)\n",
    "\n",
    "indices = Si_large_release_plot[['S1','ST']]\n",
    "err = Si_large_release_plot[['S1_conf','ST_conf']]\n",
    "\n",
    "ax.set_title(\"Large Release\")\n",
    "\n",
    "indices.plot.bar(yerr=err.values.T,ax=ax)\n",
    "fig.set_size_inches(8,6)\n",
    "fig.subplots_adjust(bottom=0.3)\n",
    "plt.show()"
   ]
  },
  {
   "cell_type": "code",
   "execution_count": 13,
   "metadata": {},
   "outputs": [
    {
     "data": {
      "text/plain": [
       "{'S1': array([ 4.69656460e-01, -3.84718948e-05,  9.46823644e-03,  1.96691655e-01,\n",
       "         2.05076214e-04]),\n",
       " 'S1_conf': array([1.98580371e-01, 1.58575020e-04, 3.40667756e-02, 1.24374601e-01,\n",
       "        4.02157058e-04]),\n",
       " 'ST': array([1.04943062e+00, 3.01486265e-06, 1.64845477e-01, 6.09354229e-01,\n",
       "        8.50372838e-06]),\n",
       " 'ST_conf': array([2.42679507e-01, 2.93141955e-06, 1.05983456e-01, 2.39577055e-01,\n",
       "        8.13355905e-06]),\n",
       " 'S2': array([[            nan,  2.06364584e-01,  2.47261166e-01,\n",
       "          4.11239948e-01,  2.05975125e-01],\n",
       "        [            nan,             nan,  3.57747296e-04,\n",
       "          6.82556771e-04,  3.13659005e-04],\n",
       "        [            nan,             nan,             nan,\n",
       "          1.06246961e-01,  1.50293626e-02],\n",
       "        [            nan,             nan,             nan,\n",
       "                     nan, -9.11038932e-02],\n",
       "        [            nan,             nan,             nan,\n",
       "                     nan,             nan]]),\n",
       " 'S2_conf': array([[       nan, 0.41098849, 0.45378674, 0.45506541, 0.41067344],\n",
       "        [       nan,        nan, 0.00060271, 0.00104018, 0.00059323],\n",
       "        [       nan,        nan,        nan, 0.16646613, 0.08458117],\n",
       "        [       nan,        nan,        nan,        nan, 0.16400735],\n",
       "        [       nan,        nan,        nan,        nan,        nan]])}"
      ]
     },
     "execution_count": 13,
     "metadata": {},
     "output_type": "execute_result"
    }
   ],
   "source": [
    "Si_large_release"
   ]
  },
  {
   "cell_type": "code",
   "execution_count": 14,
   "metadata": {},
   "outputs": [
    {
     "data": {
      "text/html": [
       "<div>\n",
       "<style scoped>\n",
       "    .dataframe tbody tr th:only-of-type {\n",
       "        vertical-align: middle;\n",
       "    }\n",
       "\n",
       "    .dataframe tbody tr th {\n",
       "        vertical-align: top;\n",
       "    }\n",
       "\n",
       "    .dataframe thead th {\n",
       "        text-align: right;\n",
       "    }\n",
       "</style>\n",
       "<table border=\"1\" class=\"dataframe\">\n",
       "  <thead>\n",
       "    <tr style=\"text-align: right;\">\n",
       "      <th></th>\n",
       "      <th>ST</th>\n",
       "      <th>ST_conf</th>\n",
       "      <th>S1</th>\n",
       "      <th>S1_conf</th>\n",
       "    </tr>\n",
       "    <tr>\n",
       "      <th>names</th>\n",
       "      <th></th>\n",
       "      <th></th>\n",
       "      <th></th>\n",
       "      <th></th>\n",
       "    </tr>\n",
       "  </thead>\n",
       "  <tbody>\n",
       "    <tr>\n",
       "      <th>b</th>\n",
       "      <td>1.049431</td>\n",
       "      <td>0.242680</td>\n",
       "      <td>0.469656</td>\n",
       "      <td>0.198580</td>\n",
       "    </tr>\n",
       "    <tr>\n",
       "      <th>delta</th>\n",
       "      <td>0.000003</td>\n",
       "      <td>0.000003</td>\n",
       "      <td>-0.000038</td>\n",
       "      <td>0.000159</td>\n",
       "    </tr>\n",
       "    <tr>\n",
       "      <th>mean</th>\n",
       "      <td>0.164845</td>\n",
       "      <td>0.105983</td>\n",
       "      <td>0.009468</td>\n",
       "      <td>0.034067</td>\n",
       "    </tr>\n",
       "    <tr>\n",
       "      <th>q</th>\n",
       "      <td>0.609354</td>\n",
       "      <td>0.239577</td>\n",
       "      <td>0.196692</td>\n",
       "      <td>0.124375</td>\n",
       "    </tr>\n",
       "    <tr>\n",
       "      <th>stdev</th>\n",
       "      <td>0.000009</td>\n",
       "      <td>0.000008</td>\n",
       "      <td>0.000205</td>\n",
       "      <td>0.000402</td>\n",
       "    </tr>\n",
       "  </tbody>\n",
       "</table>\n",
       "</div>"
      ],
      "text/plain": [
       "             ST   ST_conf        S1   S1_conf\n",
       "names                                        \n",
       "b      1.049431  0.242680  0.469656  0.198580\n",
       "delta  0.000003  0.000003 -0.000038  0.000159\n",
       "mean   0.164845  0.105983  0.009468  0.034067\n",
       "q      0.609354  0.239577  0.196692  0.124375\n",
       "stdev  0.000009  0.000008  0.000205  0.000402"
      ]
     },
     "execution_count": 14,
     "metadata": {},
     "output_type": "execute_result"
    }
   ],
   "source": [
    "Si_large_release_plot"
   ]
  },
  {
   "cell_type": "markdown",
   "metadata": {},
   "source": [
    "##### Interpretation"
   ]
  },
  {
   "cell_type": "markdown",
   "metadata": {},
   "source": [
    "The SOBOL analysis with the small and large release policies are quite similar to the one without any policies, except from the fact that the feature q has a larger impact on the variation of the reliability outcome for the models with a release policy. Furthermore, the direct effects on the variation of the reliability outcome of the variable b, are higher with a small release policy than without policies. It is also striking that the SOBOL analysis of the mean does become slightly negative, this is probably because the outcomes of the small release policy are not perfectly unimodely distributed. A problem that could be solved by taking a larger sample size. "
   ]
  },
  {
   "cell_type": "markdown",
   "metadata": {},
   "source": [
    "## Part 2. Extra Trees Feature Scoring\n",
    "Repeat the above analysis for the 3 release policies but now with extra trees feature scoring and for all outcomes of interest. As a bonus, use the sobol experiment results as input for extra trees, and compare the results with those resulting from latin hypercube sampling."
   ]
  },
  {
   "cell_type": "code",
   "execution_count": 15,
   "metadata": {},
   "outputs": [
    {
     "name": "stderr",
     "output_type": "stream",
     "text": [
      "[MainProcess/INFO] performing 100 scenarios * 3 policies * 1 model(s) = 300 experiments\n",
      "[MainProcess/INFO] performing experiments sequentially\n",
      "[MainProcess/INFO] 30 cases completed\n",
      "[MainProcess/INFO] 60 cases completed\n",
      "[MainProcess/INFO] 90 cases completed\n",
      "[MainProcess/INFO] 120 cases completed\n",
      "[MainProcess/INFO] 150 cases completed\n",
      "[MainProcess/INFO] 180 cases completed\n",
      "[MainProcess/INFO] 210 cases completed\n",
      "[MainProcess/INFO] 240 cases completed\n",
      "[MainProcess/INFO] 270 cases completed\n",
      "[MainProcess/INFO] 300 cases completed\n",
      "[MainProcess/INFO] experiments finished\n"
     ]
    }
   ],
   "source": [
    "n_scenarios = 100\n",
    "\n",
    "trees_results = perform_experiments(lake_model, n_scenarios, policies=policies)\n",
    "trees_experiments, trees_outcomes = trees_results"
   ]
  },
  {
   "cell_type": "code",
   "execution_count": 16,
   "metadata": {},
   "outputs": [
    {
     "data": {
      "text/html": [
       "<div>\n",
       "<style scoped>\n",
       "    .dataframe tbody tr th:only-of-type {\n",
       "        vertical-align: middle;\n",
       "    }\n",
       "\n",
       "    .dataframe tbody tr th {\n",
       "        vertical-align: top;\n",
       "    }\n",
       "\n",
       "    .dataframe thead th {\n",
       "        text-align: right;\n",
       "    }\n",
       "</style>\n",
       "<table border=\"1\" class=\"dataframe\">\n",
       "  <thead>\n",
       "    <tr style=\"text-align: right;\">\n",
       "      <th></th>\n",
       "      <th>b</th>\n",
       "      <th>delta</th>\n",
       "      <th>mean</th>\n",
       "      <th>q</th>\n",
       "      <th>stdev</th>\n",
       "      <th>l0</th>\n",
       "      <th>l1</th>\n",
       "      <th>l2</th>\n",
       "      <th>l3</th>\n",
       "      <th>l4</th>\n",
       "      <th>...</th>\n",
       "      <th>l93</th>\n",
       "      <th>l94</th>\n",
       "      <th>l95</th>\n",
       "      <th>l96</th>\n",
       "      <th>l97</th>\n",
       "      <th>l98</th>\n",
       "      <th>l99</th>\n",
       "      <th>scenario</th>\n",
       "      <th>policy</th>\n",
       "      <th>model</th>\n",
       "    </tr>\n",
       "  </thead>\n",
       "  <tbody>\n",
       "    <tr>\n",
       "      <th>0</th>\n",
       "      <td>0.213592</td>\n",
       "      <td>0.930838</td>\n",
       "      <td>0.049886</td>\n",
       "      <td>2.386507</td>\n",
       "      <td>0.004141</td>\n",
       "      <td>0.0</td>\n",
       "      <td>0.0</td>\n",
       "      <td>0.0</td>\n",
       "      <td>0.0</td>\n",
       "      <td>0.0</td>\n",
       "      <td>...</td>\n",
       "      <td>0.0</td>\n",
       "      <td>0.0</td>\n",
       "      <td>0.0</td>\n",
       "      <td>0.0</td>\n",
       "      <td>0.0</td>\n",
       "      <td>0.0</td>\n",
       "      <td>0.0</td>\n",
       "      <td>2400</td>\n",
       "      <td>no policy</td>\n",
       "      <td>lakeproblem</td>\n",
       "    </tr>\n",
       "    <tr>\n",
       "      <th>1</th>\n",
       "      <td>0.288996</td>\n",
       "      <td>0.951365</td>\n",
       "      <td>0.036234</td>\n",
       "      <td>3.225027</td>\n",
       "      <td>0.003331</td>\n",
       "      <td>0.0</td>\n",
       "      <td>0.0</td>\n",
       "      <td>0.0</td>\n",
       "      <td>0.0</td>\n",
       "      <td>0.0</td>\n",
       "      <td>...</td>\n",
       "      <td>0.0</td>\n",
       "      <td>0.0</td>\n",
       "      <td>0.0</td>\n",
       "      <td>0.0</td>\n",
       "      <td>0.0</td>\n",
       "      <td>0.0</td>\n",
       "      <td>0.0</td>\n",
       "      <td>2401</td>\n",
       "      <td>no policy</td>\n",
       "      <td>lakeproblem</td>\n",
       "    </tr>\n",
       "    <tr>\n",
       "      <th>2</th>\n",
       "      <td>0.341761</td>\n",
       "      <td>0.979227</td>\n",
       "      <td>0.010973</td>\n",
       "      <td>2.621930</td>\n",
       "      <td>0.004896</td>\n",
       "      <td>0.0</td>\n",
       "      <td>0.0</td>\n",
       "      <td>0.0</td>\n",
       "      <td>0.0</td>\n",
       "      <td>0.0</td>\n",
       "      <td>...</td>\n",
       "      <td>0.0</td>\n",
       "      <td>0.0</td>\n",
       "      <td>0.0</td>\n",
       "      <td>0.0</td>\n",
       "      <td>0.0</td>\n",
       "      <td>0.0</td>\n",
       "      <td>0.0</td>\n",
       "      <td>2402</td>\n",
       "      <td>no policy</td>\n",
       "      <td>lakeproblem</td>\n",
       "    </tr>\n",
       "    <tr>\n",
       "      <th>3</th>\n",
       "      <td>0.257814</td>\n",
       "      <td>0.939207</td>\n",
       "      <td>0.046929</td>\n",
       "      <td>3.614986</td>\n",
       "      <td>0.003972</td>\n",
       "      <td>0.0</td>\n",
       "      <td>0.0</td>\n",
       "      <td>0.0</td>\n",
       "      <td>0.0</td>\n",
       "      <td>0.0</td>\n",
       "      <td>...</td>\n",
       "      <td>0.0</td>\n",
       "      <td>0.0</td>\n",
       "      <td>0.0</td>\n",
       "      <td>0.0</td>\n",
       "      <td>0.0</td>\n",
       "      <td>0.0</td>\n",
       "      <td>0.0</td>\n",
       "      <td>2403</td>\n",
       "      <td>no policy</td>\n",
       "      <td>lakeproblem</td>\n",
       "    </tr>\n",
       "    <tr>\n",
       "      <th>4</th>\n",
       "      <td>0.303161</td>\n",
       "      <td>0.986468</td>\n",
       "      <td>0.018008</td>\n",
       "      <td>3.112002</td>\n",
       "      <td>0.003089</td>\n",
       "      <td>0.0</td>\n",
       "      <td>0.0</td>\n",
       "      <td>0.0</td>\n",
       "      <td>0.0</td>\n",
       "      <td>0.0</td>\n",
       "      <td>...</td>\n",
       "      <td>0.0</td>\n",
       "      <td>0.0</td>\n",
       "      <td>0.0</td>\n",
       "      <td>0.0</td>\n",
       "      <td>0.0</td>\n",
       "      <td>0.0</td>\n",
       "      <td>0.0</td>\n",
       "      <td>2404</td>\n",
       "      <td>no policy</td>\n",
       "      <td>lakeproblem</td>\n",
       "    </tr>\n",
       "    <tr>\n",
       "      <th>...</th>\n",
       "      <td>...</td>\n",
       "      <td>...</td>\n",
       "      <td>...</td>\n",
       "      <td>...</td>\n",
       "      <td>...</td>\n",
       "      <td>...</td>\n",
       "      <td>...</td>\n",
       "      <td>...</td>\n",
       "      <td>...</td>\n",
       "      <td>...</td>\n",
       "      <td>...</td>\n",
       "      <td>...</td>\n",
       "      <td>...</td>\n",
       "      <td>...</td>\n",
       "      <td>...</td>\n",
       "      <td>...</td>\n",
       "      <td>...</td>\n",
       "      <td>...</td>\n",
       "      <td>...</td>\n",
       "      <td>...</td>\n",
       "      <td>...</td>\n",
       "    </tr>\n",
       "    <tr>\n",
       "      <th>295</th>\n",
       "      <td>0.118023</td>\n",
       "      <td>0.967252</td>\n",
       "      <td>0.032742</td>\n",
       "      <td>3.559117</td>\n",
       "      <td>0.004437</td>\n",
       "      <td>0.1</td>\n",
       "      <td>0.1</td>\n",
       "      <td>0.1</td>\n",
       "      <td>0.1</td>\n",
       "      <td>0.1</td>\n",
       "      <td>...</td>\n",
       "      <td>0.1</td>\n",
       "      <td>0.1</td>\n",
       "      <td>0.1</td>\n",
       "      <td>0.1</td>\n",
       "      <td>0.1</td>\n",
       "      <td>0.1</td>\n",
       "      <td>0.1</td>\n",
       "      <td>2495</td>\n",
       "      <td>large release</td>\n",
       "      <td>lakeproblem</td>\n",
       "    </tr>\n",
       "    <tr>\n",
       "      <th>296</th>\n",
       "      <td>0.449164</td>\n",
       "      <td>0.955182</td>\n",
       "      <td>0.020612</td>\n",
       "      <td>2.767402</td>\n",
       "      <td>0.003052</td>\n",
       "      <td>0.1</td>\n",
       "      <td>0.1</td>\n",
       "      <td>0.1</td>\n",
       "      <td>0.1</td>\n",
       "      <td>0.1</td>\n",
       "      <td>...</td>\n",
       "      <td>0.1</td>\n",
       "      <td>0.1</td>\n",
       "      <td>0.1</td>\n",
       "      <td>0.1</td>\n",
       "      <td>0.1</td>\n",
       "      <td>0.1</td>\n",
       "      <td>0.1</td>\n",
       "      <td>2496</td>\n",
       "      <td>large release</td>\n",
       "      <td>lakeproblem</td>\n",
       "    </tr>\n",
       "    <tr>\n",
       "      <th>297</th>\n",
       "      <td>0.331360</td>\n",
       "      <td>0.958168</td>\n",
       "      <td>0.032225</td>\n",
       "      <td>2.316593</td>\n",
       "      <td>0.004320</td>\n",
       "      <td>0.1</td>\n",
       "      <td>0.1</td>\n",
       "      <td>0.1</td>\n",
       "      <td>0.1</td>\n",
       "      <td>0.1</td>\n",
       "      <td>...</td>\n",
       "      <td>0.1</td>\n",
       "      <td>0.1</td>\n",
       "      <td>0.1</td>\n",
       "      <td>0.1</td>\n",
       "      <td>0.1</td>\n",
       "      <td>0.1</td>\n",
       "      <td>0.1</td>\n",
       "      <td>2497</td>\n",
       "      <td>large release</td>\n",
       "      <td>lakeproblem</td>\n",
       "    </tr>\n",
       "    <tr>\n",
       "      <th>298</th>\n",
       "      <td>0.166403</td>\n",
       "      <td>0.948486</td>\n",
       "      <td>0.037912</td>\n",
       "      <td>3.455153</td>\n",
       "      <td>0.002974</td>\n",
       "      <td>0.1</td>\n",
       "      <td>0.1</td>\n",
       "      <td>0.1</td>\n",
       "      <td>0.1</td>\n",
       "      <td>0.1</td>\n",
       "      <td>...</td>\n",
       "      <td>0.1</td>\n",
       "      <td>0.1</td>\n",
       "      <td>0.1</td>\n",
       "      <td>0.1</td>\n",
       "      <td>0.1</td>\n",
       "      <td>0.1</td>\n",
       "      <td>0.1</td>\n",
       "      <td>2498</td>\n",
       "      <td>large release</td>\n",
       "      <td>lakeproblem</td>\n",
       "    </tr>\n",
       "    <tr>\n",
       "      <th>299</th>\n",
       "      <td>0.375695</td>\n",
       "      <td>0.980309</td>\n",
       "      <td>0.043745</td>\n",
       "      <td>2.241402</td>\n",
       "      <td>0.003862</td>\n",
       "      <td>0.1</td>\n",
       "      <td>0.1</td>\n",
       "      <td>0.1</td>\n",
       "      <td>0.1</td>\n",
       "      <td>0.1</td>\n",
       "      <td>...</td>\n",
       "      <td>0.1</td>\n",
       "      <td>0.1</td>\n",
       "      <td>0.1</td>\n",
       "      <td>0.1</td>\n",
       "      <td>0.1</td>\n",
       "      <td>0.1</td>\n",
       "      <td>0.1</td>\n",
       "      <td>2499</td>\n",
       "      <td>large release</td>\n",
       "      <td>lakeproblem</td>\n",
       "    </tr>\n",
       "  </tbody>\n",
       "</table>\n",
       "<p>300 rows × 108 columns</p>\n",
       "</div>"
      ],
      "text/plain": [
       "            b     delta      mean         q     stdev   l0   l1   l2   l3  \\\n",
       "0    0.213592  0.930838  0.049886  2.386507  0.004141  0.0  0.0  0.0  0.0   \n",
       "1    0.288996  0.951365  0.036234  3.225027  0.003331  0.0  0.0  0.0  0.0   \n",
       "2    0.341761  0.979227  0.010973  2.621930  0.004896  0.0  0.0  0.0  0.0   \n",
       "3    0.257814  0.939207  0.046929  3.614986  0.003972  0.0  0.0  0.0  0.0   \n",
       "4    0.303161  0.986468  0.018008  3.112002  0.003089  0.0  0.0  0.0  0.0   \n",
       "..        ...       ...       ...       ...       ...  ...  ...  ...  ...   \n",
       "295  0.118023  0.967252  0.032742  3.559117  0.004437  0.1  0.1  0.1  0.1   \n",
       "296  0.449164  0.955182  0.020612  2.767402  0.003052  0.1  0.1  0.1  0.1   \n",
       "297  0.331360  0.958168  0.032225  2.316593  0.004320  0.1  0.1  0.1  0.1   \n",
       "298  0.166403  0.948486  0.037912  3.455153  0.002974  0.1  0.1  0.1  0.1   \n",
       "299  0.375695  0.980309  0.043745  2.241402  0.003862  0.1  0.1  0.1  0.1   \n",
       "\n",
       "      l4  ...  l93  l94  l95  l96  l97  l98  l99  scenario         policy  \\\n",
       "0    0.0  ...  0.0  0.0  0.0  0.0  0.0  0.0  0.0      2400      no policy   \n",
       "1    0.0  ...  0.0  0.0  0.0  0.0  0.0  0.0  0.0      2401      no policy   \n",
       "2    0.0  ...  0.0  0.0  0.0  0.0  0.0  0.0  0.0      2402      no policy   \n",
       "3    0.0  ...  0.0  0.0  0.0  0.0  0.0  0.0  0.0      2403      no policy   \n",
       "4    0.0  ...  0.0  0.0  0.0  0.0  0.0  0.0  0.0      2404      no policy   \n",
       "..   ...  ...  ...  ...  ...  ...  ...  ...  ...       ...            ...   \n",
       "295  0.1  ...  0.1  0.1  0.1  0.1  0.1  0.1  0.1      2495  large release   \n",
       "296  0.1  ...  0.1  0.1  0.1  0.1  0.1  0.1  0.1      2496  large release   \n",
       "297  0.1  ...  0.1  0.1  0.1  0.1  0.1  0.1  0.1      2497  large release   \n",
       "298  0.1  ...  0.1  0.1  0.1  0.1  0.1  0.1  0.1      2498  large release   \n",
       "299  0.1  ...  0.1  0.1  0.1  0.1  0.1  0.1  0.1      2499  large release   \n",
       "\n",
       "           model  \n",
       "0    lakeproblem  \n",
       "1    lakeproblem  \n",
       "2    lakeproblem  \n",
       "3    lakeproblem  \n",
       "4    lakeproblem  \n",
       "..           ...  \n",
       "295  lakeproblem  \n",
       "296  lakeproblem  \n",
       "297  lakeproblem  \n",
       "298  lakeproblem  \n",
       "299  lakeproblem  \n",
       "\n",
       "[300 rows x 108 columns]"
      ]
     },
     "execution_count": 16,
     "metadata": {},
     "output_type": "execute_result"
    }
   ],
   "source": [
    "trees_experiments"
   ]
  },
  {
   "cell_type": "code",
   "execution_count": 17,
   "metadata": {},
   "outputs": [],
   "source": [
    "# Create subsets of the trees outcomes per policy\n",
    "trees_no_policy_outcomes = dict()\n",
    "trees_small_release_outcomes = dict()\n",
    "trees_large_release_outcomes = dict()\n",
    "\n",
    "for sub in trees_outcomes: \n",
    "    # slicing and reassigning\n",
    "    trees_no_policy_outcomes[sub] = trees_outcomes[sub][0:100]\n",
    "    trees_small_release_outcomes[sub] = trees_outcomes[sub][100:200]\n",
    "    trees_large_release_outcomes[sub] = trees_outcomes[sub][200:300]"
   ]
  },
  {
   "cell_type": "code",
   "execution_count": 18,
   "metadata": {},
   "outputs": [],
   "source": [
    "uncertainties_experiments = trees_experiments[[\"b\", \"delta\", \"mean\", \"q\", \"stdev\"]]"
   ]
  },
  {
   "cell_type": "code",
   "execution_count": 34,
   "metadata": {},
   "outputs": [
    {
     "data": {
      "text/plain": [
       "array([0., 0., 0., 0., 0., 0., 0., 0., 0., 0., 0., 0., 0., 0., 0., 0., 0.,\n",
       "       0., 0., 0., 0., 0., 0., 0., 0., 0., 0., 0., 0., 0., 0., 0., 0., 0.,\n",
       "       0., 0., 0., 0., 0., 0., 0., 0., 0., 0., 0., 0., 0., 0., 0., 0., 0.,\n",
       "       0., 0., 0., 0., 0., 0., 0., 0., 0., 0., 0., 0., 0., 0., 0., 0., 0.,\n",
       "       0., 0., 0., 0., 0., 0., 0., 0., 0., 0., 0., 0., 0., 0., 0., 0., 0.,\n",
       "       0., 0., 0., 0., 0., 0., 0., 0., 0., 0., 0., 0., 0., 0., 0.])"
      ]
     },
     "execution_count": 34,
     "metadata": {},
     "output_type": "execute_result"
    }
   ],
   "source": [
    "trees_large_release_outcomes['inertia']"
   ]
  },
  {
   "cell_type": "markdown",
   "metadata": {},
   "source": [
    "#### No Policy"
   ]
  },
  {
   "cell_type": "code",
   "execution_count": 29,
   "metadata": {},
   "outputs": [
    {
     "data": {
      "image/png": "[encoded data removed]",
      "text/plain": [
       "<Figure size 720x360 with 2 Axes>"
      ]
     },
     "metadata": {},
     "output_type": "display_data"
    }
   ],
   "source": [
    "from ema_workbench.analysis import feature_scoring\n",
    "from ema_workbench.analysis.scenario_discovery_util import RuleInductionType\n",
    "\n",
    "x_no_policy = uncertainties_experiments[0:100]\n",
    "y_no_policy = trees_no_policy_outcomes\n",
    "\n",
    "fs = feature_scoring.get_feature_scores_all(x_no_policy, y_no_policy, alg='extra trees', nr_trees=110, max_features=2,mode=RuleInductionType.REGRESSION)\n",
    "\n",
    "fig, ax = plt.subplots(1, 1, figsize=(10, 5))\n",
    "ax.set_title(\"No Policy\")\n",
    "\n",
    "sns.heatmap(fs, cmap='viridis', annot=True, ax=ax)\n",
    "\n",
    "plt.show()"
   ]
  },
  {
   "cell_type": "markdown",
   "metadata": {},
   "source": [
    "#### Small release policy"
   ]
  },
  {
   "cell_type": "code",
   "execution_count": 20,
   "metadata": {},
   "outputs": [
    {
     "data": {
      "image/png": "[encoded data removed]",
      "text/plain": [
       "<Figure size 720x360 with 2 Axes>"
      ]
     },
     "metadata": {},
     "output_type": "display_data"
    }
   ],
   "source": [
    "x_small_release = uncertainties_experiments[100:200]\n",
    "y_small_release = trees_small_release_outcomes\n",
    "\n",
    "fs = feature_scoring.get_feature_scores_all(x_small_release, y_small_release, alg='extra trees', nr_trees=110, max_features=0.6,mode=RuleInductionType.REGRESSION)\n",
    "\n",
    "fig, ax = plt.subplots(1, 1, figsize=(10, 5))\n",
    "ax.set_title(\"Small Release\")\n",
    "\n",
    "sns.heatmap(fs, cmap='viridis', annot=True, ax=ax)\n",
    "\n",
    "plt.show()"
   ]
  },
  {
   "cell_type": "markdown",
   "metadata": {},
   "source": [
    "#### Large release policy"
   ]
  },
  {
   "cell_type": "code",
   "execution_count": 21,
   "metadata": {},
   "outputs": [
    {
     "data": {
      "image/png": "[encoded data removed]",
      "text/plain": [
       "<Figure size 720x360 with 2 Axes>"
      ]
     },
     "metadata": {},
     "output_type": "display_data"
    }
   ],
   "source": [
    "x_large_release = uncertainties_experiments[200:300]\n",
    "y_large_release = trees_large_release_outcomes\n",
    "\n",
    "fs = feature_scoring.get_feature_scores_all(x_large_release, y_large_release, alg='extra trees', nr_trees=110, max_features=0.6,mode=RuleInductionType.REGRESSION)\n",
    "\n",
    "fig, ax = plt.subplots(1, 1, figsize=(10, 5))\n",
    "ax.set_title(\"Large Release\")\n",
    "\n",
    "sns.heatmap(fs, cmap='viridis', annot=True, ax=ax)\n",
    "\n",
    "plt.show()"
   ]
  },
  {
   "cell_type": "markdown",
   "metadata": {},
   "source": [
    "##### Interpretation"
   ]
  },
  {
   "cell_type": "markdown",
   "metadata": {},
   "source": [
    "In the first heatmap it is immediately string that the variation of the output variables 'utility' and 'inertia' are not at all affected by variation in the model input. This can be easily explained, since the utility and the inertia are drect functions of the antropological pollution, which is zero by default whenever there are no policies specified. The inertia stays zero for the different polcies, which means that even with a release policy of 0.1, the fraction of years where the absolute value of the change in anthropogenic pollution is larger then the treshold is still zero. The utility does increase as the antropogenic release increases. "
   ]
  },
  {
   "cell_type": "markdown",
   "metadata": {},
   "source": [
    "The feature ranking for the reliability is similar for the SOBOL analysis as for the Extra trees, regardless of the policy. Although the extra trees does count a minor impact of the delta and stdev variables, while these cannot be distinguished in the sobol analysis."
   ]
  }
 ],
 "metadata": {
  "kernelspec": {
   "display_name": "Python 3",
   "language": "python",
   "name": "python3"
  },
  "language_info": {
   "codemirror_mode": {
    "name": "ipython",
    "version": 3
   },
   "file_extension": ".py",
   "mimetype": "text/x-python",
   "name": "python",
   "nbconvert_exporter": "python",
   "pygments_lexer": "ipython3",
   "version": "3.8.3"
  }
 },
 "nbformat": 4,
 "nbformat_minor": 4
}
