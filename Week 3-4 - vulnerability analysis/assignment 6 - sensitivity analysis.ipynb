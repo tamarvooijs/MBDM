{
 "cells": [
  {
   "cell_type": "markdown",
   "metadata": {},
   "source": [
    "# EPA1361 - Model-Based Decision Making\n",
    "# Week 3 - Sensitivity analysis\n",
    "\n",
    "This exercise uses the same predator-prey model we used for the multi-model exercise, focusing on the Python version. As with the other exercise, define a model object for the function below, with the uncertainty ranges provided:\n",
    "\n",
    "|Parameter\t|Range or value\t        |\n",
    "|-----------|--------------:|\n",
    "|prey_birth_rate    \t|0.015 – 0.035\t|\n",
    "|predation_rate|0.0005 – 0.003 \t|\n",
    "|predator_efficiency     \t|0.001 – 0.004\t    |\n",
    "|predator_loss_rate\t    |0.04 – 0.08\t    |\n",
    "\n",
    "* Sensitivity analysis often focuses on the final values of an outcome at the end of the simulation. However, we can also look at metrics that give us additional information about the behavior of the model over time. Using [the statsmodel library](https://www.statsmodels.org/stable/index.html) and an appropriate sampling design, fit a linear regression model for each of the following indicators. What can we conclude about the behavior of the model, and about the importance of the different inputs?\n",
    "\n",
    "  * The final values of the _prey_ outcome\n",
    "  * The mean values of the _prey_ outcome over time, within each experiment\n",
    "  * The standard deviations of the _prey_ outcome over time, within each experiment\n",
    "  \n",
    "\n",
    "* Use the Sobol sampling functionality included in the Workbench to perform experiments with a sample size of N=50, then analyze the results with SALib for the same three indicators. This requires specifying the keyword argument `'uncertainty_sampling'` of perform_experiments. Note that when using Sobol sampling, the meaning of the keyword argument `scenarios` changes a bit. In order to properly estimate Sobol scores as well as interaction effects, you require N * (2D+2) scenarios, where D is the number of uncertain parameters, and N is the value for scenarios passed to `perform_experiments`. Repeat the analysis for larger sample sizes, with N=250 and N=1000. How can we interpret the first-order and total indices? Are these sample sizes sufficient for a stable estimation of the indices? You'll need to use the [get_SALib_problem](https://emaworkbench.readthedocs.io/en/latest/ema_documentation/em_framework/salib_samplers.html) function to convert your Workbench experiments to a problem definition that you can pass to the SALib analysis function. \n",
    "\n",
    "* *hint*: sobol is a deterministic sequence of quasi random numbers. Thus, you can run with N=1000 and simply slice for 1:50 and 1:250.\n",
    "\n",
    "* Use the [Extra-Trees analysis](https://emaworkbench.readthedocs.io/en/latest/ema_documentation/analysis/feature_scoring.html) included in the Workbench to approximate the Sobol total indices, with a suitable sampling design. As a starting point, use an ensemble of 100 trees and a max_features parameter of 0.6, and set the analysis to regression mode. Are the estimated importances stable relative to the sample size and the analysis parameters? How do the results compare to the Sobol indices? For more details on this analysis see [Jaxa-Rozen & Kwakkel (2018)](https://www.sciencedirect.com/science/article/pii/S1364815217311581)"
   ]
  },
  {
   "cell_type": "code",
   "execution_count": 1,
   "metadata": {
    "collapsed": false,
    "jupyter": {
     "outputs_hidden": false
    }
   },
   "outputs": [],
   "source": [
    "import numpy as np\n",
    "import matplotlib.pyplot as plt\n",
    "import statsmodels.api as sm\n",
    "import pandas as pd\n",
    "\n",
    "from ema_workbench import (Model, RealParameter, TimeSeriesOutcome, perform_experiments, ema_logging, MultiprocessingEvaluator)\n",
    "\n",
    "from ema_workbench.em_framework.evaluators import LHS, SOBOL, MORRIS\n",
    "\n",
    "from ema_workbench.analysis import feature_scoring\n",
    "from ema_workbench.analysis.scenario_discovery_util import RuleInductionType\n",
    "from ema_workbench.em_framework.salib_samplers import get_SALib_problem\n",
    "from SALib.analyze import sobol\n",
    "from statistics import mean\n",
    "\n",
    "def pred_prey(prey_birth_rate=0.025, predation_rate=0.0015, predator_efficiency=0.002,\n",
    "             predator_loss_rate=0.06, initial_prey=50, initial_predators=20, dt=0.25, \n",
    "             final_time=365, reps=1):\n",
    "\n",
    "    #Initial values\n",
    "    predators = np.zeros((reps, int(final_time/dt)+1))\n",
    "    prey = np.zeros((reps, int(final_time/dt)+1))\n",
    "    sim_time = np.zeros((reps, int(final_time/dt)+1))\n",
    "    \n",
    "    for r in range(reps):\n",
    "\n",
    "        predators[r,0] = initial_predators\n",
    "        prey[r,0] = initial_prey\n",
    "\n",
    "    #Calculate the time series\n",
    "    for t in range(0, sim_time.shape[1]-1):\n",
    "\n",
    "        dx = (prey_birth_rate*prey[r,t]) - (predation_rate*prey[r,t]*predators[r,t])\n",
    "        dy = (predator_efficiency*predators[r,t]*prey[r,t]) - (predator_loss_rate*predators[r,t])\n",
    "\n",
    "        prey[r,t+1] = max(prey[r,t] + dx*dt, 0)\n",
    "        predators[r,t+1] = max(predators[r,t] + dy*dt, 0)\n",
    "        sim_time[r,t+1] = (t+1)*dt\n",
    "    \n",
    "    #Return outcomes\n",
    "    return {'TIME':sim_time,\n",
    "            'predators':predators,\n",
    "            'prey':prey}"
   ]
  },
  {
   "cell_type": "code",
   "execution_count": 2,
   "metadata": {},
   "outputs": [
    {
     "name": "stderr",
     "output_type": "stream",
     "text": [
      "[MainProcess/INFO] performing 100 scenarios * 1 policies * 1 model(s) = 100 experiments\n",
      "[MainProcess/INFO] performing experiments sequentially\n",
      "[MainProcess/INFO] 10 cases completed\n",
      "[MainProcess/INFO] 20 cases completed\n",
      "[MainProcess/INFO] 30 cases completed\n",
      "[MainProcess/INFO] 40 cases completed\n",
      "[MainProcess/INFO] 50 cases completed\n",
      "[MainProcess/INFO] 60 cases completed\n",
      "[MainProcess/INFO] 70 cases completed\n",
      "[MainProcess/INFO] 80 cases completed\n",
      "[MainProcess/INFO] 90 cases completed\n",
      "[MainProcess/INFO] 100 cases completed\n",
      "[MainProcess/INFO] experiments finished\n"
     ]
    }
   ],
   "source": [
    "ema_logging.log_to_stderr(ema_logging.INFO)\n",
    "\n",
    "#We can define common uncertainties and outcomes for each model:\n",
    "uncertainties = [RealParameter('prey_birth_rate', 0.015, 0.035),\n",
    "                 RealParameter('predation_rate', 0.0005, 0.003),\n",
    "                 RealParameter('predator_efficiency', 0.001, 0.004),\n",
    "                 RealParameter('predator_loss_rate', 0.04, 0.08)] \n",
    "\n",
    "outcomes = [TimeSeriesOutcome('TIME', function=np.squeeze),\n",
    "            TimeSeriesOutcome('predators', function=np.squeeze),\n",
    "            TimeSeriesOutcome('prey', function=np.squeeze)]\n",
    "\n",
    "\n",
    "#Define the Python model\n",
    "py_model = Model('Python', function=pred_prey)\n",
    "py_model.uncertainties = uncertainties\n",
    "py_model.outcomes = outcomes\n",
    "\n",
    "\n",
    "nr_experiments = 100\n",
    "\n",
    "#Using Latin Hypercube sampling\n",
    "experiments, outcomes = perform_experiments(py_model, nr_experiments, uncertainty_sampling=LHS)"
   ]
  },
  {
   "cell_type": "code",
   "execution_count": 3,
   "metadata": {},
   "outputs": [
    {
     "data": {
      "text/html": [
       "<div>\n",
       "<style scoped>\n",
       "    .dataframe tbody tr th:only-of-type {\n",
       "        vertical-align: middle;\n",
       "    }\n",
       "\n",
       "    .dataframe tbody tr th {\n",
       "        vertical-align: top;\n",
       "    }\n",
       "\n",
       "    .dataframe thead th {\n",
       "        text-align: right;\n",
       "    }\n",
       "</style>\n",
       "<table border=\"1\" class=\"dataframe\">\n",
       "  <thead>\n",
       "    <tr style=\"text-align: right;\">\n",
       "      <th></th>\n",
       "      <th>predation_rate</th>\n",
       "      <th>predator_efficiency</th>\n",
       "      <th>predator_loss_rate</th>\n",
       "      <th>prey_birth_rate</th>\n",
       "      <th>scenario</th>\n",
       "      <th>policy</th>\n",
       "      <th>model</th>\n",
       "    </tr>\n",
       "  </thead>\n",
       "  <tbody>\n",
       "    <tr>\n",
       "      <th>0</th>\n",
       "      <td>0.002163</td>\n",
       "      <td>0.002811</td>\n",
       "      <td>0.069497</td>\n",
       "      <td>0.020302</td>\n",
       "      <td>0</td>\n",
       "      <td>None</td>\n",
       "      <td>Python</td>\n",
       "    </tr>\n",
       "    <tr>\n",
       "      <th>1</th>\n",
       "      <td>0.000690</td>\n",
       "      <td>0.001043</td>\n",
       "      <td>0.063777</td>\n",
       "      <td>0.024491</td>\n",
       "      <td>1</td>\n",
       "      <td>None</td>\n",
       "      <td>Python</td>\n",
       "    </tr>\n",
       "    <tr>\n",
       "      <th>2</th>\n",
       "      <td>0.000998</td>\n",
       "      <td>0.003630</td>\n",
       "      <td>0.042423</td>\n",
       "      <td>0.016582</td>\n",
       "      <td>2</td>\n",
       "      <td>None</td>\n",
       "      <td>Python</td>\n",
       "    </tr>\n",
       "    <tr>\n",
       "      <th>3</th>\n",
       "      <td>0.002853</td>\n",
       "      <td>0.001582</td>\n",
       "      <td>0.077973</td>\n",
       "      <td>0.016016</td>\n",
       "      <td>3</td>\n",
       "      <td>None</td>\n",
       "      <td>Python</td>\n",
       "    </tr>\n",
       "    <tr>\n",
       "      <th>4</th>\n",
       "      <td>0.002035</td>\n",
       "      <td>0.003685</td>\n",
       "      <td>0.044604</td>\n",
       "      <td>0.018405</td>\n",
       "      <td>4</td>\n",
       "      <td>None</td>\n",
       "      <td>Python</td>\n",
       "    </tr>\n",
       "  </tbody>\n",
       "</table>\n",
       "</div>"
      ],
      "text/plain": [
       "   predation_rate  predator_efficiency  predator_loss_rate  prey_birth_rate  \\\n",
       "0        0.002163             0.002811            0.069497         0.020302   \n",
       "1        0.000690             0.001043            0.063777         0.024491   \n",
       "2        0.000998             0.003630            0.042423         0.016582   \n",
       "3        0.002853             0.001582            0.077973         0.016016   \n",
       "4        0.002035             0.003685            0.044604         0.018405   \n",
       "\n",
       "  scenario policy   model  \n",
       "0        0   None  Python  \n",
       "1        1   None  Python  \n",
       "2        2   None  Python  \n",
       "3        3   None  Python  \n",
       "4        4   None  Python  "
      ]
     },
     "execution_count": 3,
     "metadata": {},
     "output_type": "execute_result"
    }
   ],
   "source": [
    "experiments.head()"
   ]
  },
  {
   "cell_type": "code",
   "execution_count": 4,
   "metadata": {},
   "outputs": [
    {
     "data": {
      "text/html": [
       "<div>\n",
       "<style scoped>\n",
       "    .dataframe tbody tr th:only-of-type {\n",
       "        vertical-align: middle;\n",
       "    }\n",
       "\n",
       "    .dataframe tbody tr th {\n",
       "        vertical-align: top;\n",
       "    }\n",
       "\n",
       "    .dataframe thead th {\n",
       "        text-align: right;\n",
       "    }\n",
       "</style>\n",
       "<table border=\"1\" class=\"dataframe\">\n",
       "  <thead>\n",
       "    <tr style=\"text-align: right;\">\n",
       "      <th></th>\n",
       "      <th>predation_rate</th>\n",
       "      <th>predator_efficiency</th>\n",
       "      <th>predator_loss_rate</th>\n",
       "      <th>prey_birth_rate</th>\n",
       "      <th>scenario</th>\n",
       "      <th>policy</th>\n",
       "      <th>model</th>\n",
       "    </tr>\n",
       "  </thead>\n",
       "  <tbody>\n",
       "    <tr>\n",
       "      <th>0</th>\n",
       "      <td>0.002163</td>\n",
       "      <td>0.002811</td>\n",
       "      <td>0.069497</td>\n",
       "      <td>0.020302</td>\n",
       "      <td>0</td>\n",
       "      <td>None</td>\n",
       "      <td>Python</td>\n",
       "    </tr>\n",
       "    <tr>\n",
       "      <th>1</th>\n",
       "      <td>0.000690</td>\n",
       "      <td>0.001043</td>\n",
       "      <td>0.063777</td>\n",
       "      <td>0.024491</td>\n",
       "      <td>1</td>\n",
       "      <td>None</td>\n",
       "      <td>Python</td>\n",
       "    </tr>\n",
       "    <tr>\n",
       "      <th>2</th>\n",
       "      <td>0.000998</td>\n",
       "      <td>0.003630</td>\n",
       "      <td>0.042423</td>\n",
       "      <td>0.016582</td>\n",
       "      <td>2</td>\n",
       "      <td>None</td>\n",
       "      <td>Python</td>\n",
       "    </tr>\n",
       "    <tr>\n",
       "      <th>3</th>\n",
       "      <td>0.002853</td>\n",
       "      <td>0.001582</td>\n",
       "      <td>0.077973</td>\n",
       "      <td>0.016016</td>\n",
       "      <td>3</td>\n",
       "      <td>None</td>\n",
       "      <td>Python</td>\n",
       "    </tr>\n",
       "    <tr>\n",
       "      <th>4</th>\n",
       "      <td>0.002035</td>\n",
       "      <td>0.003685</td>\n",
       "      <td>0.044604</td>\n",
       "      <td>0.018405</td>\n",
       "      <td>4</td>\n",
       "      <td>None</td>\n",
       "      <td>Python</td>\n",
       "    </tr>\n",
       "    <tr>\n",
       "      <th>...</th>\n",
       "      <td>...</td>\n",
       "      <td>...</td>\n",
       "      <td>...</td>\n",
       "      <td>...</td>\n",
       "      <td>...</td>\n",
       "      <td>...</td>\n",
       "      <td>...</td>\n",
       "    </tr>\n",
       "    <tr>\n",
       "      <th>95</th>\n",
       "      <td>0.002511</td>\n",
       "      <td>0.001349</td>\n",
       "      <td>0.041411</td>\n",
       "      <td>0.018902</td>\n",
       "      <td>95</td>\n",
       "      <td>None</td>\n",
       "      <td>Python</td>\n",
       "    </tr>\n",
       "    <tr>\n",
       "      <th>96</th>\n",
       "      <td>0.001499</td>\n",
       "      <td>0.001647</td>\n",
       "      <td>0.048653</td>\n",
       "      <td>0.027405</td>\n",
       "      <td>96</td>\n",
       "      <td>None</td>\n",
       "      <td>Python</td>\n",
       "    </tr>\n",
       "    <tr>\n",
       "      <th>97</th>\n",
       "      <td>0.002498</td>\n",
       "      <td>0.003580</td>\n",
       "      <td>0.059103</td>\n",
       "      <td>0.023188</td>\n",
       "      <td>97</td>\n",
       "      <td>None</td>\n",
       "      <td>Python</td>\n",
       "    </tr>\n",
       "    <tr>\n",
       "      <th>98</th>\n",
       "      <td>0.002125</td>\n",
       "      <td>0.001756</td>\n",
       "      <td>0.047016</td>\n",
       "      <td>0.018666</td>\n",
       "      <td>98</td>\n",
       "      <td>None</td>\n",
       "      <td>Python</td>\n",
       "    </tr>\n",
       "    <tr>\n",
       "      <th>99</th>\n",
       "      <td>0.001444</td>\n",
       "      <td>0.001126</td>\n",
       "      <td>0.060213</td>\n",
       "      <td>0.030920</td>\n",
       "      <td>99</td>\n",
       "      <td>None</td>\n",
       "      <td>Python</td>\n",
       "    </tr>\n",
       "  </tbody>\n",
       "</table>\n",
       "<p>100 rows × 7 columns</p>\n",
       "</div>"
      ],
      "text/plain": [
       "    predation_rate  predator_efficiency  predator_loss_rate  prey_birth_rate  \\\n",
       "0         0.002163             0.002811            0.069497         0.020302   \n",
       "1         0.000690             0.001043            0.063777         0.024491   \n",
       "2         0.000998             0.003630            0.042423         0.016582   \n",
       "3         0.002853             0.001582            0.077973         0.016016   \n",
       "4         0.002035             0.003685            0.044604         0.018405   \n",
       "..             ...                  ...                 ...              ...   \n",
       "95        0.002511             0.001349            0.041411         0.018902   \n",
       "96        0.001499             0.001647            0.048653         0.027405   \n",
       "97        0.002498             0.003580            0.059103         0.023188   \n",
       "98        0.002125             0.001756            0.047016         0.018666   \n",
       "99        0.001444             0.001126            0.060213         0.030920   \n",
       "\n",
       "   scenario policy   model  \n",
       "0         0   None  Python  \n",
       "1         1   None  Python  \n",
       "2         2   None  Python  \n",
       "3         3   None  Python  \n",
       "4         4   None  Python  \n",
       "..      ...    ...     ...  \n",
       "95       95   None  Python  \n",
       "96       96   None  Python  \n",
       "97       97   None  Python  \n",
       "98       98   None  Python  \n",
       "99       99   None  Python  \n",
       "\n",
       "[100 rows x 7 columns]"
      ]
     },
     "execution_count": 4,
     "metadata": {},
     "output_type": "execute_result"
    }
   ],
   "source": [
    "experiments"
   ]
  },
  {
   "cell_type": "markdown",
   "metadata": {},
   "source": [
    "### Regression"
   ]
  },
  {
   "cell_type": "code",
   "execution_count": 5,
   "metadata": {},
   "outputs": [],
   "source": [
    "# calculate final outcomes\n",
    "final_outcomes_prey = []\n",
    "\n",
    "for i in range(len(outcomes['prey'])):\n",
    "    final_outcomes_prey.append((outcomes['prey'][i][-1]))"
   ]
  },
  {
   "cell_type": "code",
   "execution_count": 6,
   "metadata": {},
   "outputs": [],
   "source": [
    "# calculate mean values of prey over time \n",
    "mean_outcomes_prey = []\n",
    "\n",
    "for i in range(len(outcomes['prey'])):\n",
    "    mean_outcomes_prey.append(mean((outcomes['prey'][i])))"
   ]
  },
  {
   "cell_type": "code",
   "execution_count": 7,
   "metadata": {},
   "outputs": [],
   "source": [
    "# calculate standard deviation over time\n",
    "std_outcomes_prey = []\n",
    "\n",
    "for i in range(len(outcomes['prey'])):\n",
    "    std_outcomes_prey.append(np.std(((outcomes['prey'][i]))))"
   ]
  },
  {
   "cell_type": "code",
   "execution_count": 8,
   "metadata": {},
   "outputs": [
    {
     "name": "stdout",
     "output_type": "stream",
     "text": [
      "                                 OLS Regression Results                                \n",
      "=======================================================================================\n",
      "Dep. Variable:                      y   R-squared (uncentered):                   0.810\n",
      "Model:                            OLS   Adj. R-squared (uncentered):              0.802\n",
      "Method:                 Least Squares   F-statistic:                              102.0\n",
      "Date:                Thu, 06 May 2021   Prob (F-statistic):                    1.06e-33\n",
      "Time:                        20:35:11   Log-Likelihood:                         -421.28\n",
      "No. Observations:                 100   AIC:                                      850.6\n",
      "Df Residuals:                      96   BIC:                                      861.0\n",
      "Df Model:                           4                                                  \n",
      "Covariance Type:            nonrobust                                                  \n",
      "=======================================================================================\n",
      "                          coef    std err          t      P>|t|      [0.025      0.975]\n",
      "---------------------------------------------------------------------------------------\n",
      "predation_rate      -3499.6079   2232.870     -1.567      0.120   -7931.820     932.605\n",
      "predator_efficiency -1.143e+04   1751.988     -6.524      0.000   -1.49e+04   -7951.705\n",
      "predator_loss_rate    883.3282    100.005      8.833      0.000     684.821    1081.836\n",
      "prey_birth_rate       477.2051    225.489      2.116      0.037      29.614     924.796\n",
      "==============================================================================\n",
      "Omnibus:                        1.639   Durbin-Watson:                   1.524\n",
      "Prob(Omnibus):                  0.441   Jarque-Bera (JB):                1.694\n",
      "Skew:                           0.280   Prob(JB):                        0.429\n",
      "Kurtosis:                       2.696   Cond. No.                         89.2\n",
      "==============================================================================\n",
      "\n",
      "Notes:\n",
      "[1] R² is computed without centering (uncentered) since the model does not contain a constant.\n",
      "[2] Standard Errors assume that the covariance matrix of the errors is correctly specified.\n"
     ]
    }
   ],
   "source": [
    "# Fit a linear regression model for the final outcomes\n",
    "x = experiments[['predation_rate', 'predator_efficiency', 'predator_loss_rate', 'prey_birth_rate']]\n",
    "\n",
    "reg_mod_final = sm.OLS(final_outcomes_prey, x)\n",
    "res_fin = reg_mod_final.fit()\n",
    "\n",
    "\n",
    "print(res_fin.summary())"
   ]
  },
  {
   "cell_type": "code",
   "execution_count": 9,
   "metadata": {},
   "outputs": [
    {
     "data": {
      "image/png": "[encoded data removed]",
      "text/plain": [
       "<Figure size 720x432 with 1 Axes>"
      ]
     },
     "metadata": {
      "needs_background": "light"
     },
     "output_type": "display_data"
    }
   ],
   "source": [
    "fig, ax = plt.subplots()\n",
    "fig = sm.graphics.plot_fit(res_fin, 0, ax=ax)\n",
    "fig.set_size_inches(10, 6, forward=True)\n",
    "ax.set_ylabel(\"Final outcomes prey\")\n",
    "ax.set_xlabel(\"Uncertainties\")\n",
    "\n",
    "plt.show()"
   ]
  },
  {
   "cell_type": "code",
   "execution_count": 10,
   "metadata": {},
   "outputs": [
    {
     "name": "stdout",
     "output_type": "stream",
     "text": [
      "                                 OLS Regression Results                                \n",
      "=======================================================================================\n",
      "Dep. Variable:                      y   R-squared (uncentered):                   0.958\n",
      "Model:                            OLS   Adj. R-squared (uncentered):              0.956\n",
      "Method:                 Least Squares   F-statistic:                              550.0\n",
      "Date:                Thu, 06 May 2021   Prob (F-statistic):                    3.13e-65\n",
      "Time:                        20:35:11   Log-Likelihood:                         -323.78\n",
      "No. Observations:                 100   AIC:                                      655.6\n",
      "Df Residuals:                      96   BIC:                                      666.0\n",
      "Df Model:                           4                                                  \n",
      "Covariance Type:            nonrobust                                                  \n",
      "=======================================================================================\n",
      "                          coef    std err          t      P>|t|      [0.025      0.975]\n",
      "---------------------------------------------------------------------------------------\n",
      "predation_rate        -16.6998    842.192     -0.020      0.984   -1688.438    1655.039\n",
      "predator_efficiency -1.084e+04    660.813    -16.397      0.000   -1.21e+04   -9523.332\n",
      "predator_loss_rate    699.3400     37.720     18.540      0.000     624.467     774.213\n",
      "prey_birth_rate       468.1263     85.050      5.504      0.000     299.304     636.948\n",
      "==============================================================================\n",
      "Omnibus:                       12.940   Durbin-Watson:                   1.760\n",
      "Prob(Omnibus):                  0.002   Jarque-Bera (JB):               14.139\n",
      "Skew:                           0.775   Prob(JB):                     0.000851\n",
      "Kurtosis:                       3.997   Cond. No.                         89.2\n",
      "==============================================================================\n",
      "\n",
      "Notes:\n",
      "[1] R² is computed without centering (uncentered) since the model does not contain a constant.\n",
      "[2] Standard Errors assume that the covariance matrix of the errors is correctly specified.\n"
     ]
    }
   ],
   "source": [
    "# Fit a linear regression model for the mean values over time\n",
    "\n",
    "x = experiments[['predation_rate', 'predator_efficiency', 'predator_loss_rate', 'prey_birth_rate']]\n",
    "\n",
    "reg_mod_mean = sm.OLS(mean_outcomes_prey, x)\n",
    "res_mean = reg_mod_mean.fit()\n",
    "\n",
    "\n",
    "print(res_mean.summary())"
   ]
  },
  {
   "cell_type": "code",
   "execution_count": 11,
   "metadata": {},
   "outputs": [
    {
     "data": {
      "image/png": "[encoded data removed]",
      "text/plain": [
       "<Figure size 864x576 with 1 Axes>"
      ]
     },
     "metadata": {
      "needs_background": "light"
     },
     "output_type": "display_data"
    }
   ],
   "source": [
    "fig, ax = plt.subplots()\n",
    "fig = sm.graphics.plot_fit(res_mean, 0, ax=ax)\n",
    "fig.set_size_inches(12, 8, forward=True)\n",
    "ax.set_ylabel(\"Mean values prey\")\n",
    "ax.set_xlabel(\"Uncertainties\")\n",
    "\n",
    "plt.show()"
   ]
  },
  {
   "cell_type": "code",
   "execution_count": 12,
   "metadata": {},
   "outputs": [
    {
     "name": "stdout",
     "output_type": "stream",
     "text": [
      "                                 OLS Regression Results                                \n",
      "=======================================================================================\n",
      "Dep. Variable:                      y   R-squared (uncentered):                   0.941\n",
      "Model:                            OLS   Adj. R-squared (uncentered):              0.938\n",
      "Method:                 Least Squares   F-statistic:                              379.9\n",
      "Date:                Thu, 06 May 2021   Prob (F-statistic):                    6.51e-58\n",
      "Time:                        20:35:11   Log-Likelihood:                         -271.90\n",
      "No. Observations:                 100   AIC:                                      551.8\n",
      "Df Residuals:                      96   BIC:                                      562.2\n",
      "Df Model:                           4                                                  \n",
      "Covariance Type:            nonrobust                                                  \n",
      "=======================================================================================\n",
      "                          coef    std err          t      P>|t|      [0.025      0.975]\n",
      "---------------------------------------------------------------------------------------\n",
      "predation_rate       1938.6972    501.300      3.867      0.000     943.626    2933.769\n",
      "predator_efficiency  1359.1016    393.337      3.455      0.001     578.334    2139.869\n",
      "predator_loss_rate     80.0332     22.452      3.565      0.001      35.466     124.600\n",
      "prey_birth_rate       114.4628     50.624      2.261      0.026      13.975     214.951\n",
      "==============================================================================\n",
      "Omnibus:                       21.074   Durbin-Watson:                   1.855\n",
      "Prob(Omnibus):                  0.000   Jarque-Bera (JB):               71.727\n",
      "Skew:                           0.569   Prob(JB):                     2.66e-16\n",
      "Kurtosis:                       6.990   Cond. No.                         89.2\n",
      "==============================================================================\n",
      "\n",
      "Notes:\n",
      "[1] R² is computed without centering (uncentered) since the model does not contain a constant.\n",
      "[2] Standard Errors assume that the covariance matrix of the errors is correctly specified.\n"
     ]
    }
   ],
   "source": [
    "# Fit a linear regression model for the standard deviations over time\n",
    "\n",
    "x = experiments[['predation_rate', 'predator_efficiency', 'predator_loss_rate', 'prey_birth_rate']]\n",
    "\n",
    "reg_mod_std = sm.OLS(std_outcomes_prey, x)\n",
    "res_std = reg_mod_std.fit()\n",
    "\n",
    "print(res_std.summary())"
   ]
  },
  {
   "cell_type": "code",
   "execution_count": 13,
   "metadata": {},
   "outputs": [
    {
     "data": {
      "image/png": "[encoded data removed]",
      "text/plain": [
       "<Figure size 864x576 with 1 Axes>"
      ]
     },
     "metadata": {
      "needs_background": "light"
     },
     "output_type": "display_data"
    }
   ],
   "source": [
    "fig, ax = plt.subplots()\n",
    "fig = sm.graphics.plot_fit(res_std, 0, ax=ax)\n",
    "fig.set_size_inches(12, 8, forward=True)\n",
    "ax.set_ylabel(\"Mean values prey\")\n",
    "ax.set_xlabel(\"Uncertainties\")\n",
    "\n",
    "plt.show()"
   ]
  },
  {
   "cell_type": "markdown",
   "metadata": {},
   "source": [
    "### SOBOL sampling"
   ]
  },
  {
   "cell_type": "code",
   "execution_count": 22,
   "metadata": {},
   "outputs": [
    {
     "name": "stderr",
     "output_type": "stream",
     "text": [
      "[MainProcess/INFO] performing 500 scenarios * 1 policies * 1 model(s) = 500 experiments\n",
      "[MainProcess/INFO] performing experiments sequentially\n",
      "[MainProcess/INFO] 50 cases completed\n",
      "[MainProcess/INFO] 100 cases completed\n",
      "[MainProcess/INFO] 150 cases completed\n",
      "[MainProcess/INFO] 200 cases completed\n",
      "[MainProcess/INFO] 250 cases completed\n",
      "[MainProcess/INFO] 300 cases completed\n",
      "[MainProcess/INFO] 350 cases completed\n",
      "[MainProcess/INFO] 400 cases completed\n",
      "[MainProcess/INFO] 450 cases completed\n",
      "[MainProcess/INFO] 500 cases completed\n",
      "[MainProcess/INFO] experiments finished\n"
     ]
    }
   ],
   "source": [
    "from SALib.analyze import sobol\n",
    "from ema_workbench.em_framework.salib_samplers import get_SALib_problem\n",
    "import seaborn as sns\n",
    "\n",
    "sa_results = perform_experiments(py_model, scenarios=50, uncertainty_sampling='sobol')"
   ]
  },
  {
   "cell_type": "code",
   "execution_count": 23,
   "metadata": {},
   "outputs": [],
   "source": [
    "# Analyze final outcomes\n",
    "experiments, outcomes = sa_results\n",
    "\n",
    "problem = get_SALib_problem(py_model.uncertainties)\n",
    "Si = sobol.analyze(problem, outcomes['prey'][:,-1],\n",
    "                   calc_second_order=True, print_to_console=False)"
   ]
  },
  {
   "cell_type": "code",
   "execution_count": 24,
   "metadata": {},
   "outputs": [
    {
     "data": {
      "image/png": "[encoded data removed]",
      "text/plain": [
       "<Figure size 576x432 with 1 Axes>"
      ]
     },
     "metadata": {},
     "output_type": "display_data"
    }
   ],
   "source": [
    "scores_filtered = {k:Si[k] for k in ['ST','ST_conf','S1','S1_conf']}\n",
    "Si_df = pd.DataFrame(scores_filtered, index=problem['names'])\n",
    "\n",
    "sns.set_style('white')\n",
    "fig, ax = plt.subplots(1)\n",
    "\n",
    "indices = Si_df[['S1','ST']]\n",
    "err = Si_df[['S1_conf','ST_conf']]\n",
    "\n",
    "indices.plot.bar(yerr=err.values.T,ax=ax)\n",
    "fig.set_size_inches(8,6)\n",
    "fig.subplots_adjust(bottom=0.3)\n",
    "plt.show()"
   ]
  },
  {
   "cell_type": "markdown",
   "metadata": {},
   "source": [
    "### Interpretation of graph XXX\n",
    "\n",
    "In a Sobol sensitivity analysis the part of the variance of the output variables that can be explained by the variance in an input parameter is calculated. The S1 measure in the graph above is the first-order sensitivity index. This is the contribution to the output variance of one single input parameter, calculated over the average variations in other parameters (source: https://en.wikipedia.org/wiki/Variance-based_sensitivity_analysis).\n",
    "In this graph it can be seen that the first order sensitivity index S1 is highest for the predator efficiency. This means that variation in the predator effiency will result in the highest variation of the outcome for the 'prey' variable. The other three uncertainties have almost a similiar impact on the variance in the outcome variable. \n",
    "\n",
    "\n",
    "The ST measure is known as the Total-order-index, which includes the varinces between the uncertainties by their interactions. ST is as well the highest for the predator_efficiency, but the predator_loss_rate and prey_birth_rate is relatively higher in comparison with the first-index. \n"
   ]
  }
 ],
 "metadata": {
  "kernelspec": {
   "display_name": "Python 3",
   "language": "python",
   "name": "python3"
  },
  "language_info": {
   "codemirror_mode": {
    "name": "ipython",
    "version": 3
   },
   "file_extension": ".py",
   "mimetype": "text/x-python",
   "name": "python",
   "nbconvert_exporter": "python",
   "pygments_lexer": "ipython3",
   "version": "3.7.8"
  }
 },
 "nbformat": 4,
 "nbformat_minor": 4
}
