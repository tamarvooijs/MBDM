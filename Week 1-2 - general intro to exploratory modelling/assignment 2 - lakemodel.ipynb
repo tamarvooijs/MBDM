{
 "cells": [
  {
   "cell_type": "markdown",
   "metadata": {},
   "source": [
    "# Lake model\n",
    "\n",
    "see also [this general introduction to the workbench](https://waterprogramming.wordpress.com/2017/11/01/using-the-exploratory-modelling-workbench/) as a source of inspiration for completing the assignment below\n",
    "\n",
    "## the lake model\n",
    "The exploratory modeling workbench includes an example folder. This folder contains a variety of examples that demonstrate the functionality of the workbench. Many of these examples have been drawn from published cases. Here, we use the Lake Problem as an example for demonstrating some of the key functionality of the workbench. \n",
    "\n",
    "We demonstrate some of the key capabilities of the exploratory modeling workbench using the Lake problem. The lake problem is a stylized and hypothetical decision problem where the population of a city has to decide on the amount of annual pollution it will put into a lake. It the pollution in the lake passes a threshold, it will suffer irreversible eutrophication. \n",
    "\n",
    "\\begin{equation}\n",
    "    X_{(t+1)}=X_t+a_t+\\frac{(X_t^q)}{(1+X_t^q )}- bX_t+\\epsilon_t\n",
    "\\end{equation}\n",
    "\n",
    "where $X_t$ is the pollution at time $t$, $a_t$ is the rate of anthropogenic pollution at time $t$, $b$ is the lake’s natural removal rate, $q$ is the lake's natural recycling rate, $\\epsilon_t$ is the rate of natural pollution at time $t$. The rate of anthropogenic pollution $a_t$ is the decision variable and is somewhere between 0, and 0.1. So $a_t \\in [0,0.1]$. The natural pollution $\\epsilon_t$ is modeled, following Singh et al. (2015), as a log normal distribution with mean $\\mu$ and standard deviation $\\sigma$. \n",
    "There are four outcomes of interest. The first is the average concentration of phosphor in the lake. \n",
    "\n",
    "\\begin{equation}\n",
    "    f_{phosphorus}=  \\frac{1}{\\left\\vert{T}\\right\\vert} \\sum\\limits_{t\\in{T}} X_t \n",
    "\\end{equation}\n",
    "\n",
    "where $\\left\\vert{T}\\right\\vert$ is the cardinality of the set of points in time. \n",
    "The second objective is the economic benefit derived from polluting the lake. Following Singh et al. (2015), this is defined as the discounted benefit of pollution mines the costs of having a polluted lake\n",
    "\n",
    "\\begin{equation}\n",
    "    f_{economic} = \\sum\\limits_{t \\in {T}}\\alpha a_t \\delta^t \n",
    "\\end{equation}\n",
    "\n",
    "where $\\alpha$ is the utility derived from polluting and $\\delta$ is the discount rate. By default, $\\alpha$ is 0.04.\n",
    "The third objective is related to the year over year change in the anthropogenic pollution rate. \n",
    "\n",
    "\\begin{equation}\n",
    "    f_{inertia} =\\frac{1}{\\left\\vert{T}\\right\\vert-1} \\sum\\limits_{t=1}^{\\left\\vert{T}\\right\\vert} I(|a_{t}-a_{t-1} |>\\tau)   \n",
    "\\end{equation}\n",
    "\n",
    "where $I$ is an indicator function that is 0 if the statement is false, and 1 if the statement is true, $\\tau$ is the threshold that is deemed undesirable, and is for illustrative purposes et to 0.2. Effectively, f_{inertia} is the fraction of years where the absolute value of the change in anthropogenic pollution is larger then $\\tau$.\n",
    "The fourth objective is the fraction of years where the pollution in the lake is below the critical threshold.\n",
    "\n",
    "\\begin{equation}\n",
    "    f_{reliability} =  \\frac{1}{\\left\\vert{T}\\right\\vert} \\sum\\limits_{t \\in T}I(X_{t}<X_{crit} ) \n",
    "\\end{equation}\n",
    "\n",
    "where $I$ is an indicator function that is 0 if the statement is false, and 1 if the statement is true, $X_{crit}$ is the critical threshold of pollution and is a function of both $b$ and $q$.\n",
    "\n",
    "The lake problem is characterized by both stochastic uncertainty and deep uncertainty. The stochastic uncertainty arises from the natural inflow. To reduce this stochastic uncertainty, multiple replications are performed and the average over the replication is taken. Deep uncertainty is presented by uncertainty about the mean $\\mu$ and standard deviation $sigma$ of the lognormal distribution characterizing the natural inflow, the natural removal rate of the lake $\\beta$, the natural recycling rate of the lake $q$, and the discount rate $\\delta$. The table below specifies the ranges for the deeply uncertain factors, as well as their best estimate or default values. \n",
    "\n",
    "\n",
    "## Assignment\n",
    "1. Given the Python implementation of the lake problem in lakemodel_function.py, adapt this code and connect it to the workbench\n",
    "\n",
    "for the uncertainties, use the following table\n",
    "\n",
    "|Parameter\t|Range\t        |Default value|\n",
    "|-----------|--------------:|------------:|\n",
    "|$\\mu$    \t|0.01 – 0.05\t|0.02         |\n",
    "|$\\sigma$\t|0.001 – 0.005 \t|0.0017       |\n",
    "|$b$      \t|0.1 – 0.45\t    |0.42         |\n",
    "|$q$\t    |2 – 4.5\t    |2            |\n",
    "|$\\delta$\t|0.93 – 0.99\t|0.98         |\n",
    "\n",
    "For now, assume that for each year a release decision is made. The release is between 0 and 0.1. Carefully look at line 24 in lake_model.py to identify the name to use for each lever.\n",
    "\n",
    "\n"
   ]
  },
  {
   "cell_type": "code",
   "execution_count": null,
   "metadata": {},
   "outputs": [],
   "source": []
  },
  {
   "cell_type": "code",
   "execution_count": 1,
   "metadata": {},
   "outputs": [],
   "source": [
    "from ema_workbench import Model, RealParameter, TimeSeriesOutcome, ScalarOutcome\n",
    "%run lakemodel_function.py\n",
    "\n",
    "model = Model('LAKE', function=lake_problem)\n",
    "\n",
    "model.uncertainties = [RealParameter('mean', 0.01, 0.05),\n",
    "                       RealParameter('stdev', 0.001, 0.005),\n",
    "                       RealParameter('b', 0.1, 0.45),\n",
    "                       RealParameter('q', 2.0, 4.5),\n",
    "                       RealParameter('delta', 0.93, 0.99)\n",
    "                      ]\n",
    "\n",
    "model.levers = [RealParameter('l0', 0, 0.1),\n",
    "                RealParameter('l1', 0, 0.1),\n",
    "                RealParameter('l2', 0, 0.1),\n",
    "                RealParameter('l3', 0, 0.1),\n",
    "                RealParameter('l4', 0, 0.1),\n",
    "                RealParameter('l5', 0, 0.1),\n",
    "                RealParameter('l6', 0, 0.1),\n",
    "                RealParameter('l7', 0, 0.1),\n",
    "                RealParameter('l8', 0, 0.1),\n",
    "                RealParameter('l9', 0, 0.1),\n",
    "                RealParameter('l10', 0, 0.1),\n",
    "                RealParameter('l11', 0, 0.1),\n",
    "                RealParameter('l12', 0, 0.1),\n",
    "                RealParameter('l13', 0, 0.1),\n",
    "                RealParameter('l14', 0, 0.1),\n",
    "                RealParameter('l15', 0, 0.1),\n",
    "                RealParameter('l16', 0, 0.1),\n",
    "                RealParameter('l17', 0, 0.1),\n",
    "                RealParameter('l18', 0, 0.1),\n",
    "                RealParameter('l19', 0, 0.1),\n",
    "                RealParameter('l20', 0, 0.1),\n",
    "                RealParameter('l21', 0, 0.1),\n",
    "                RealParameter('l22', 0, 0.1),\n",
    "                RealParameter('l23', 0, 0.1),\n",
    "                RealParameter('l24', 0, 0.1),\n",
    "                RealParameter('l25', 0, 0.1),\n",
    "                RealParameter('l26', 0, 0.1),\n",
    "                RealParameter('l27', 0, 0.1),\n",
    "                RealParameter('l28', 0, 0.1),\n",
    "                RealParameter('l29', 0, 0.1),\n",
    "                RealParameter('l30', 0, 0.1),\n",
    "                RealParameter('l31', 0, 0.1),\n",
    "                RealParameter('l32', 0, 0.1),\n",
    "                RealParameter('l33', 0, 0.1),\n",
    "                RealParameter('l34', 0, 0.1),\n",
    "                RealParameter('l35', 0, 0.1),\n",
    "                RealParameter('l36', 0, 0.1),\n",
    "                RealParameter('l37', 0, 0.1),\n",
    "                RealParameter('l38', 0, 0.1),\n",
    "                RealParameter('l39', 0, 0.1),\n",
    "                RealParameter('l40', 0, 0.1),\n",
    "                RealParameter('l41', 0, 0.1),\n",
    "                RealParameter('l42', 0, 0.1),\n",
    "                RealParameter('l43', 0, 0.1),\n",
    "                RealParameter('l44', 0, 0.1),\n",
    "                RealParameter('l45', 0, 0.1),\n",
    "                RealParameter('l46', 0, 0.1),\n",
    "                RealParameter('l47', 0, 0.1),\n",
    "                RealParameter('l48', 0, 0.1),\n",
    "                RealParameter('l49', 0, 0.1),\n",
    "                RealParameter('l50', 0, 0.1),\n",
    "                RealParameter('l51', 0, 0.1),\n",
    "                RealParameter('l52', 0, 0.1),\n",
    "                RealParameter('l53', 0, 0.1),\n",
    "                RealParameter('l54', 0, 0.1),\n",
    "                RealParameter('l55', 0, 0.1),\n",
    "                RealParameter('l56', 0, 0.1),\n",
    "                RealParameter('l57', 0, 0.1),\n",
    "                RealParameter('l58', 0, 0.1),\n",
    "                RealParameter('l59', 0, 0.1),\n",
    "                RealParameter('l60', 0, 0.1),\n",
    "                RealParameter('l61', 0, 0.1),\n",
    "                RealParameter('l62', 0, 0.1),\n",
    "                RealParameter('l63', 0, 0.1),\n",
    "                RealParameter('l64', 0, 0.1),\n",
    "                RealParameter('l65', 0, 0.1),\n",
    "                RealParameter('l66', 0, 0.1),\n",
    "                RealParameter('l67', 0, 0.1),\n",
    "                RealParameter('l68', 0, 0.1),\n",
    "                RealParameter('l69', 0, 0.1),\n",
    "                RealParameter('l70', 0, 0.1),\n",
    "                RealParameter('l71', 0, 0.1),\n",
    "                RealParameter('l72', 0, 0.1),\n",
    "                RealParameter('l73', 0, 0.1),\n",
    "                RealParameter('l74', 0, 0.1),\n",
    "                RealParameter('l75', 0, 0.1),\n",
    "                RealParameter('l76', 0, 0.1),\n",
    "                RealParameter('l77', 0, 0.1),\n",
    "                RealParameter('l78', 0, 0.1),\n",
    "                RealParameter('l79', 0, 0.1),\n",
    "                RealParameter('l80', 0, 0.1),\n",
    "                RealParameter('l81', 0, 0.1),\n",
    "                RealParameter('l82', 0, 0.1),\n",
    "                RealParameter('l83', 0, 0.1),\n",
    "                RealParameter('l84', 0, 0.1),\n",
    "                RealParameter('l85', 0, 0.1),\n",
    "                RealParameter('l86', 0, 0.1),\n",
    "                RealParameter('l87', 0, 0.1),\n",
    "                RealParameter('l88', 0, 0.1),\n",
    "                RealParameter('l89', 0, 0.1),\n",
    "                RealParameter('l90', 0, 0.1),\n",
    "                RealParameter('l91', 0, 0.1),\n",
    "                RealParameter('l92', 0, 0.1),\n",
    "                RealParameter('l93', 0, 0.1),\n",
    "                RealParameter('l94', 0, 0.1),\n",
    "                RealParameter('l95', 0, 0.1),\n",
    "                RealParameter('l96', 0, 0.1),\n",
    "                RealParameter('l97', 0, 0.1),\n",
    "                RealParameter('l98', 0, 0.1),\n",
    "                RealParameter('l99', 0, 0.1)\n",
    "               ]\n",
    "\n",
    "model.outcomes = [ScalarOutcome('max_P'),\n",
    "                  ScalarOutcome('utility'),\n",
    "                  ScalarOutcome('inertia'),\n",
    "                  ScalarOutcome('reliability')]\n"
   ]
  },
  {
   "cell_type": "markdown",
   "metadata": {},
   "source": [
    "2. Explore the behavior of the system in the absence of any release using 1000 scenarios, and the default sampling approach.\n",
    "    * visualize the outcomes of interest, are there any apparent trade-offs?\n",
    "    * can you visually identify the uncertainties that drive system behavior?\n"
   ]
  },
  {
   "cell_type": "code",
   "execution_count": 2,
   "metadata": {},
   "outputs": [
    {
     "name": "stdout",
     "output_type": "stream",
     "text": [
      "{'max_P': array([0.13024123, 0.08334969, 9.23882753, 0.11738798, 0.11192571,\n",
      "       0.08132084, 4.82978031, 0.06227367, 0.09509778, 0.06358213,\n",
      "       0.08055972, 0.17136158, 0.07383222, 0.02814322, 0.18126541,\n",
      "       0.02405379, 0.03658497, 9.19472702, 0.1133652 , 0.07714316,\n",
      "       0.16375817, 0.07800473, 0.23351388, 7.91154276, 9.59465387,\n",
      "       0.06968831, 0.12190997, 0.03861929, 0.05802342, 0.08406618,\n",
      "       0.16449482, 0.33830546, 0.11486101, 0.07177218, 0.13556971,\n",
      "       0.05121692, 0.10199313, 0.25954498, 0.06899678, 0.15437492,\n",
      "       0.03909587, 0.08981511, 0.10830205, 0.1472256 , 0.07028521,\n",
      "       0.10666896, 5.41357442, 0.14034634, 0.09264995, 0.10131722,\n",
      "       0.10792945, 0.04707409, 8.84948938, 0.11244523, 0.1468194 ,\n",
      "       0.049898  , 8.18668108, 0.15168735, 0.04704156, 0.1441434 ,\n",
      "       5.40256485, 0.1218747 , 5.19126875, 0.04388084, 0.14784206,\n",
      "       0.05253498, 0.11734209, 0.14735818, 0.07673046, 0.1527305 ,\n",
      "       0.04522333, 8.14543006, 0.11584136, 0.08314161, 0.15895486,\n",
      "       0.1351749 , 3.93751664, 3.42891363, 0.09402394, 7.9654399 ,\n",
      "       3.97428612, 6.19180336, 0.1102942 , 0.2278606 , 6.90162032,\n",
      "       0.08143491, 5.91860897, 0.20488621, 7.36241696, 7.45057563,\n",
      "       0.09726476, 0.07696257, 0.1413749 , 0.17044191, 0.1189381 ,\n",
      "       5.17241707, 0.05442016, 0.06236683, 8.4477627 , 0.09249006]), 'utility': array([0., 0., 0., 0., 0., 0., 0., 0., 0., 0., 0., 0., 0., 0., 0., 0., 0.,\n",
      "       0., 0., 0., 0., 0., 0., 0., 0., 0., 0., 0., 0., 0., 0., 0., 0., 0.,\n",
      "       0., 0., 0., 0., 0., 0., 0., 0., 0., 0., 0., 0., 0., 0., 0., 0., 0.,\n",
      "       0., 0., 0., 0., 0., 0., 0., 0., 0., 0., 0., 0., 0., 0., 0., 0., 0.,\n",
      "       0., 0., 0., 0., 0., 0., 0., 0., 0., 0., 0., 0., 0., 0., 0., 0., 0.,\n",
      "       0., 0., 0., 0., 0., 0., 0., 0., 0., 0., 0., 0., 0., 0., 0.]), 'inertia': array([0., 0., 0., 0., 0., 0., 0., 0., 0., 0., 0., 0., 0., 0., 0., 0., 0.,\n",
      "       0., 0., 0., 0., 0., 0., 0., 0., 0., 0., 0., 0., 0., 0., 0., 0., 0.,\n",
      "       0., 0., 0., 0., 0., 0., 0., 0., 0., 0., 0., 0., 0., 0., 0., 0., 0.,\n",
      "       0., 0., 0., 0., 0., 0., 0., 0., 0., 0., 0., 0., 0., 0., 0., 0., 0.,\n",
      "       0., 0., 0., 0., 0., 0., 0., 0., 0., 0., 0., 0., 0., 0., 0., 0., 0.,\n",
      "       0., 0., 0., 0., 0., 0., 0., 0., 0., 0., 0., 0., 0., 0., 0.]), 'reliability': array([1.    , 1.    , 0.1267, 1.    , 1.    , 1.    , 0.7113, 1.    ,\n",
      "       1.    , 1.    , 1.    , 1.    , 1.    , 1.    , 1.    , 1.    ,\n",
      "       1.    , 0.3614, 1.    , 1.    , 1.    , 1.    , 1.    , 0.1659,\n",
      "       0.3295, 1.    , 1.    , 1.    , 1.    , 1.    , 1.    , 1.    ,\n",
      "       1.    , 1.    , 1.    , 1.    , 1.    , 1.    , 1.    , 1.    ,\n",
      "       1.    , 1.    , 1.    , 1.    , 1.    , 1.    , 0.6192, 1.    ,\n",
      "       1.    , 1.    , 1.    , 1.    , 0.2922, 1.    , 1.    , 1.    ,\n",
      "       0.5819, 1.    , 1.    , 1.    , 0.295 , 1.    , 0.08  , 1.    ,\n",
      "       1.    , 1.    , 1.    , 1.    , 1.    , 1.    , 1.    , 0.0494,\n",
      "       1.    , 1.    , 1.    , 1.    , 0.352 , 0.395 , 1.    , 0.5073,\n",
      "       0.1808, 0.15  , 1.    , 1.    , 0.168 , 1.    , 0.4167, 1.    ,\n",
      "       0.0925, 0.058 , 1.    , 1.    , 1.    , 1.    , 1.    , 0.188 ,\n",
      "       1.    , 1.    , 0.5897, 1.    ])}\n"
     ]
    }
   ],
   "source": [
    "from ema_workbench import SequentialEvaluator\n",
    "\n",
    "with SequentialEvaluator(model) as evaluator:\n",
    "    experiments, outcomes = evaluator.perform_experiments(scenarios=100)\n",
    "print(outcomes)"
   ]
  },
  {
   "cell_type": "markdown",
   "metadata": {},
   "source": [
    "3. Explore the behavior of the system over 1000 scenarios for 4 randomly sampled candidate strategies.\n",
    "    * visualize the outcomes of interest\n",
    "    * what can you say about how the release decision influences the system?"
   ]
  },
  {
   "cell_type": "code",
   "execution_count": 3,
   "metadata": {},
   "outputs": [
    {
     "name": "stdout",
     "output_type": "stream",
     "text": [
      "dict_keys(['max_P', 'utility', 'inertia', 'reliability'])\n"
     ]
    },
    {
     "ename": "KeyError",
     "evalue": "'max_P'",
     "output_type": "error",
     "traceback": [
      "\u001b[1;31m---------------------------------------------------------------------------\u001b[0m",
      "\u001b[1;31mKeyError\u001b[0m                                  Traceback (most recent call last)",
      "\u001b[1;32m<ipython-input-3-c82956faef0a>\u001b[0m in \u001b[0;36m<module>\u001b[1;34m\u001b[0m\n\u001b[0;32m      7\u001b[0m \u001b[1;32mfor\u001b[0m \u001b[0moutcome\u001b[0m \u001b[1;32min\u001b[0m \u001b[0moutcomes\u001b[0m\u001b[1;33m.\u001b[0m\u001b[0mkeys\u001b[0m\u001b[1;33m(\u001b[0m\u001b[1;33m)\u001b[0m\u001b[1;33m:\u001b[0m\u001b[1;33m\u001b[0m\u001b[1;33m\u001b[0m\u001b[0m\n\u001b[0;32m      8\u001b[0m     plotting.lines(experiments, outcomes, outcomes_to_show=outcome, \n\u001b[1;32m----> 9\u001b[1;33m                    density=plotting_util.Density.HIST)\n\u001b[0m\u001b[0;32m     10\u001b[0m \u001b[0mplt\u001b[0m\u001b[1;33m.\u001b[0m\u001b[0mshow\u001b[0m\u001b[1;33m(\u001b[0m\u001b[1;33m)\u001b[0m\u001b[1;33m\u001b[0m\u001b[1;33m\u001b[0m\u001b[0m\n",
      "\u001b[1;32m~\\anaconda3\\envs\\gds\\lib\\site-packages\\ema_workbench\\analysis\\plotting.py\u001b[0m in \u001b[0;36mlines\u001b[1;34m(experiments, outcomes, outcomes_to_show, group_by, grouping_specifiers, density, legend, titles, ylabels, experiments_to_show, show_envelope, log)\u001b[0m\n\u001b[0;32m    364\u001b[0m         \u001b[1;32melse\u001b[0m\u001b[1;33m:\u001b[0m\u001b[1;33m\u001b[0m\u001b[1;33m\u001b[0m\u001b[0m\n\u001b[0;32m    365\u001b[0m             simple_lines(outcomes, outcome_to_plot, time, density,\n\u001b[1;32m--> 366\u001b[1;33m                          ax, ax_d, log)\n\u001b[0m\u001b[0;32m    367\u001b[0m         \u001b[0max\u001b[0m\u001b[1;33m.\u001b[0m\u001b[0mset_xlabel\u001b[0m\u001b[1;33m(\u001b[0m\u001b[0mTIME_LABEL\u001b[0m\u001b[1;33m)\u001b[0m\u001b[1;33m\u001b[0m\u001b[1;33m\u001b[0m\u001b[0m\n\u001b[0;32m    368\u001b[0m         \u001b[0mdo_ylabels\u001b[0m\u001b[1;33m(\u001b[0m\u001b[0max\u001b[0m\u001b[1;33m,\u001b[0m \u001b[0mylabels\u001b[0m\u001b[1;33m,\u001b[0m \u001b[0moutcome_to_plot\u001b[0m\u001b[1;33m)\u001b[0m\u001b[1;33m\u001b[0m\u001b[1;33m\u001b[0m\u001b[0m\n",
      "\u001b[1;32m~\\anaconda3\\envs\\gds\\lib\\site-packages\\ema_workbench\\analysis\\plotting.py\u001b[0m in \u001b[0;36msimple_lines\u001b[1;34m(outcomes, outcome_to_plot, time, density, ax, ax_d, log)\u001b[0m\n\u001b[0;32m    572\u001b[0m \u001b[1;33m\u001b[0m\u001b[0m\n\u001b[0;32m    573\u001b[0m     '''\n\u001b[1;32m--> 574\u001b[1;33m     \u001b[0mvalue\u001b[0m \u001b[1;33m=\u001b[0m \u001b[0moutcomes\u001b[0m\u001b[1;33m[\u001b[0m\u001b[0moutcome_to_plot\u001b[0m\u001b[1;33m]\u001b[0m\u001b[1;33m\u001b[0m\u001b[1;33m\u001b[0m\u001b[0m\n\u001b[0m\u001b[0;32m    575\u001b[0m     \u001b[0max\u001b[0m\u001b[1;33m.\u001b[0m\u001b[0mplot\u001b[0m\u001b[1;33m(\u001b[0m\u001b[0mtime\u001b[0m\u001b[1;33m.\u001b[0m\u001b[0mT\u001b[0m\u001b[1;33m,\u001b[0m \u001b[0mvalue\u001b[0m\u001b[1;33m.\u001b[0m\u001b[0mT\u001b[0m\u001b[1;33m)\u001b[0m\u001b[1;33m\u001b[0m\u001b[1;33m\u001b[0m\u001b[0m\n\u001b[0;32m    576\u001b[0m     \u001b[1;32mif\u001b[0m \u001b[0mdensity\u001b[0m\u001b[1;33m:\u001b[0m\u001b[1;33m\u001b[0m\u001b[1;33m\u001b[0m\u001b[0m\n",
      "\u001b[1;31mKeyError\u001b[0m: 'max_P'"
     ]
    },
    {
     "data": {
      "image/png": "[encoded data removed]",
      "text/plain": [
       "<Figure size 432x288 with 2 Axes>"
      ]
     },
     "metadata": {
      "needs_background": "light"
     },
     "output_type": "display_data"
    }
   ],
   "source": [
    "from ema_workbench.analysis import plotting, plotting_util\n",
    "import matplotlib.pyplot as plt\n",
    "from ema_workbench.analysis.plotting import lines\n",
    "\n",
    "print(outcomes.keys())\n",
    "\n",
    "for outcome in outcomes.keys():\n",
    "    plotting.lines(experiments, outcomes, outcomes_to_show=outcome, \n",
    "                   density=plotting_util.Density.HIST)\n",
    "plt.show()\n"
   ]
  },
  {
   "cell_type": "code",
   "execution_count": 4,
   "metadata": {},
   "outputs": [
    {
     "data": {
      "image/png": "[encoded data removed]",
      "text/plain": [
       "<Figure size 576x576 with 16 Axes>"
      ]
     },
     "metadata": {
      "needs_background": "light"
     },
     "output_type": "display_data"
    }
   ],
   "source": [
    "from ema_workbench.analysis import pairs_plotting\n",
    "\n",
    "fig, axes = pairs_plotting.pairs_scatter(experiments, outcomes, group_by='policy',\n",
    "                                         legend=False)\n",
    "fig.set_size_inches(8,8)\n",
    "plt.show()"
   ]
  },
  {
   "cell_type": "markdown",
   "metadata": {},
   "source": [
    "4. If you have not used parallelization in the foregoing, try to adapt your code to use parallelization. The workbench comes with two evaluators for parallelization. The `MultiProcessingingEvaluator` and the `IpyparallelEvaluator`. When can you use each? Adapt your code from above and sue the `MultiProcessingingEvaluator`. Use the time library to check how much faster the computation for 1000 scenarios completes. \n",
    "\n",
    "Using multiprocessing within a jupyter notebook is tricky. On linux it will work in general just fine. On mac it depends on the version of Mac OS and the version of Python. If you are on the latest version of Mac OS in combination with Python 3.8, it might work but no guarantees. On older versions of Python it should work fine. On Windows it is always a problem. \n",
    "\n",
    "The underlying explanation is quite technical. It has to do with how your operating system creates the additional python processes. On windows, and the latest version of Mac OS in combination with Python 3.8. A completely new Python process is spawned. This new process does **not** inherit what is defined in memory of the parent process. The new child process will try to replicate what is in memory of the parent process by executing many of the import statements that have also been executed within the python process. Thus, if you define a model in the main process, it is not guaranteed to be known in the child processes. This is in particular true if you define the model within a jupyter notebook. Then the child processes will **never** know this function. Within jupyter notebooks, therefore, the best practice is to define your model within a .py file and import this .py file into the notebook. Now, each of the child processes will also execute this import statement and thus know the function. \n"
   ]
  },
  {
   "cell_type": "code",
   "execution_count": null,
   "metadata": {},
   "outputs": [],
   "source": []
  }
 ],
 "metadata": {
  "anaconda-cloud": {},
  "kernelspec": {
   "display_name": "Python 3",
   "language": "python",
   "name": "python3"
  },
  "language_info": {
   "codemirror_mode": {
    "name": "ipython",
    "version": 3
   },
   "file_extension": ".py",
   "mimetype": "text/x-python",
   "name": "python",
   "nbconvert_exporter": "python",
   "pygments_lexer": "ipython3",
   "version": "3.7.8"
  },
  "latex_envs": {
   "LaTeX_envs_menu_present": true,
   "autocomplete": true,
   "bibliofile": "biblio.bib",
   "cite_by": "apalike",
   "current_citInitial": 1,
   "eqLabelWithNumbers": true,
   "eqNumInitial": 1,
   "hotkeys": {
    "equation": "Ctrl-E",
    "itemize": "Ctrl-I"
   },
   "labels_anchors": false,
   "latex_user_defs": false,
   "report_style_numbering": false,
   "user_envs_cfg": false
  }
 },
 "nbformat": 4,
 "nbformat_minor": 4
}
