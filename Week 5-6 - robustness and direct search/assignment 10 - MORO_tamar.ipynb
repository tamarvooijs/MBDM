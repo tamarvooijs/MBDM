{
 "cells": [
  {
   "cell_type": "markdown",
   "metadata": {},
   "source": [
    "# Multi-objective Robust Optimization (MORO)\n",
    "\n",
    "\n",
    "This exercise demostrates the application of MORO on the lake model. In contrast to the exercises in previous weeks, we will be using a slightly more sophisticated version of the problem. For details see the MORDM assignment for this week.\n",
    "\n",
    "## Setup MORO\n",
    "\n",
    "Many objective robust optimization aims at finding decisions that are robust with respect to the various deeply uncertain factors. For this, MORO evalues each candidate decision over a set of scenarios. For each outcome of interest, the robusntess over this set is calculated. A MOEA is used to maximize the robustness. \n",
    "\n",
    "For this assignment, we will be using a domain criterion as our robustness metric. The table below lists the rules that you should use for each outcome of interest.\n",
    "\n",
    "|Outcome of interest| threhsold  |\n",
    "|-------------------|------------|\n",
    "| Maximum pollution | $\\leq$ 0.75|\n",
    "| Inertia           | $\\geq$ 0.6 |\n",
    "| Reliability       | $\\geq$ 0.99|   \n",
    "| Utility           | $\\geq$ 0.75|\n",
    "\n",
    "**1) Implement a function for each outcome that takes a numpy array with results for the outcome of interest, and returns the robustness score**"
   ]
  },
  {
   "cell_type": "code",
   "execution_count": 29,
   "metadata": {},
   "outputs": [],
   "source": [
    "import functools\n",
    "\n",
    "def robustness(direction, threshold, data):\n",
    "    if direction == SMALLER:\n",
    "        return np.sum(data<=threshold)/data.shape[0]\n",
    "    else:\n",
    "        return np.sum(data>=threshold)/data.shape[0]\n",
    "\n",
    "def maxp(data):\n",
    "    return np.sum(data<=0.75)/data.shape[0]\n",
    "\n",
    "def inertia(data):\n",
    "    return np.sum(data>=0.6)/data.shape[0]\n",
    "\n",
    "def reliability(data):\n",
    "    return np.sum(data>=0.99)/data.shape[0]\n",
    "\n",
    "def utility(data):\n",
    "    return np.sum(data>=0.75)/data.shape[0]\n",
    "\n",
    "\n",
    "    \n",
    "SMALLER = 'SMALLER'\n",
    "LARGER = 'LARGER'\n",
    "\n",
    "maxp = functools.partial(robustness, SMALLER, 0.75)\n",
    "inertia = functools.partial(robustness, LARGER, 0.6)\n",
    "reliability = functools.partial(robustness, LARGER, 0.99)\n",
    "utility = functools.partial(robustness, LARGER, 0.75)"
   ]
  },
  {
   "cell_type": "markdown",
   "metadata": {},
   "source": [
    "**2) Generate 4 random release policies, and evaluate them over 500 scenarios. Sample the scenarios using Monte Carlo sampling. Next evaulate your robustness function for 1, 2, 3, ... 500 scenarios for each outcome and visualize this. What can you tell about the convergernce of the robusntess metric as a function of the number of scenarios?**"
   ]
  },
  {
   "cell_type": "code",
   "execution_count": 5,
   "metadata": {},
   "outputs": [],
   "source": [
    "from dps_lake_model import lake_model\n",
    "from ema_workbench import (Model, MultiprocessingEvaluator, RealParameter, ScalarOutcome, ema_logging, Constraint, perform_experiments, Policy)\n",
    "from ema_workbench.analysis import parcoords\n",
    "from ema_workbench.em_framework.optimization import (HyperVolume, EpsilonProgress)\n",
    "from dps_lake_model import lake_model"
   ]
  },
  {
   "cell_type": "code",
   "execution_count": 6,
   "metadata": {},
   "outputs": [],
   "source": [
    "model = Model('LAKE', function=lake_model)\n",
    "\n",
    "# Setting the model uncertainties\n",
    "model.uncertainties = [RealParameter('b', 0.1, 0.45),\n",
    "                       RealParameter('q', 2, 4.5),\n",
    "                       RealParameter('mean', 0.01, 0.05),\n",
    "                       RealParameter('stdev', 0.001, 0.005),\n",
    "                       RealParameter('delta', 0.93, 0.99)]\n",
    "\n",
    "# Assigning the model levers\n",
    "\n",
    "model.levers = [RealParameter(\"c1\", -2, 2),\n",
    "                RealParameter(\"c2\", -2, 2),\n",
    "                RealParameter(\"r1\", 0, 2),\n",
    "                RealParameter(\"r2\", 0, 2),\n",
    "                RealParameter(\"w1\", 0, 1)]\n",
    "\n",
    "# Deciding upon the outcomes\n",
    "model.outcomes = [ScalarOutcome('max_P', kind=ScalarOutcome.MINIMIZE, expected_range=(0,5)),\n",
    "                  ScalarOutcome('utility', kind=ScalarOutcome.MAXIMIZE, expected_range=(0,2)),\n",
    "                  ScalarOutcome('inertia', kind=ScalarOutcome.MAXIMIZE, expected_range=(0,1)),\n",
    "                  ScalarOutcome('reliability', kind=ScalarOutcome.MAXIMIZE, expected_range=(0,1))]"
   ]
  },
  {
   "cell_type": "code",
   "execution_count": 17,
   "metadata": {},
   "outputs": [],
   "source": [
    "from ema_workbench import (perform_experiments, ema_logging, save_results, load_results)\n",
    "from ema_workbench.em_framework import samplers\n",
    "from ema_workbench.em_framework import util\n",
    "\n",
    "ema_logging.log_to_stderr(ema_logging.INFO)\n",
    "\n",
    "n_scenarios = 500\n",
    "n_policies = 4\n",
    "fn = './results/{} scenarios {} policies.tar.gz'.format(n_scenarios, n_policies)\n",
    "\n",
    "counter = util.Counter()\n",
    "policies = samplers.sample_levers(model, n_policies, sampler = samplers.MonteCarloSampler())\n",
    "scenarios = samplers.sample_levers(model, n_scenarios, sampler = samplers.MonteCarloSampler())"
   ]
  },
  {
   "cell_type": "code",
   "execution_count": 18,
   "metadata": {},
   "outputs": [
    {
     "name": "stderr",
     "output_type": "stream",
     "text": [
      "[MainProcess/INFO] pool started\n",
      "[MainProcess/INFO] performing 500 scenarios * 4 policies * 1 model(s) = 2000 experiments\n",
      "[MainProcess/INFO] 200 cases completed\n",
      "[MainProcess/INFO] 400 cases completed\n",
      "[MainProcess/INFO] 600 cases completed\n",
      "[MainProcess/INFO] 800 cases completed\n",
      "[MainProcess/INFO] 1000 cases completed\n",
      "[MainProcess/INFO] 1200 cases completed\n",
      "[MainProcess/INFO] 1400 cases completed\n",
      "[MainProcess/INFO] 1600 cases completed\n",
      "[MainProcess/INFO] 1800 cases completed\n",
      "[MainProcess/INFO] 2000 cases completed\n",
      "[MainProcess/INFO] experiments finished\n",
      "[MainProcess/INFO] terminating pool\n",
      "[MainProcess/INFO] results saved successfully to C:\\Users\\hp\\Documents\\EPA\\Q4 2021\\EPA1361\\MBDM\\Week 5-6 - robustness and direct search\\results\\500 scenarios 4 policies.tar.gz\n"
     ]
    }
   ],
   "source": [
    "with MultiprocessingEvaluator(model) as evaluator:\n",
    "    results = evaluator.perform_experiments(scenarios, policies)\n",
    "save_results(results, fn)"
   ]
  },
  {
   "cell_type": "code",
   "execution_count": 27,
   "metadata": {},
   "outputs": [
    {
     "data": {
      "text/plain": [
       "4"
      ]
     },
     "execution_count": 27,
     "metadata": {},
     "output_type": "execute_result"
    }
   ],
   "source": [
    "len(results[0]['policy'].unique())"
   ]
  },
  {
   "cell_type": "code",
   "execution_count": 28,
   "metadata": {},
   "outputs": [
    {
     "data": {
      "text/plain": [
       "500"
      ]
     },
     "execution_count": 28,
     "metadata": {},
     "output_type": "execute_result"
    }
   ],
   "source": [
    "len(results[0]['scenario'].unique())"
   ]
  },
  {
   "cell_type": "code",
   "execution_count": 34,
   "metadata": {},
   "outputs": [
    {
     "data": {
      "text/plain": [
       "2000"
      ]
     },
     "execution_count": 34,
     "metadata": {},
     "output_type": "execute_result"
    }
   ],
   "source": [
    "len(results[1]['max_P'])"
   ]
  },
  {
   "cell_type": "code",
   "execution_count": null,
   "metadata": {},
   "outputs": [],
   "source": [
    "# max_p \n",
    "\n",
    "robustness_max_p = "
   ]
  },
  {
   "cell_type": "markdown",
   "metadata": {},
   "source": [
    "## Searching for candidate solutions\n",
    "Set up the robust optimization problem using the robustness functions you have specified. Assume that you will need 50 scenarios for estimating the robustness. Use $\\epsilon$-progress and hypervolume to track convergence. Solve the optimization problem. As $\\epsilon$ values, you can assume 0.05 for each of the four robustness metrics.\n",
    "\n",
    "*note: this optimization problem is computationally very expensive. Develop and test your code using a sequential evaluator, a low number of function evaluations (e.g., 200), and a low number of scenarios (e.g., 5). Once everything seems to be working replace the sequential evaluator with an multiprocessing or ipyparallel evaluator, and increase the number of nfe and scenarios*.\n"
   ]
  },
  {
   "cell_type": "code",
   "execution_count": null,
   "metadata": {},
   "outputs": [],
   "source": []
  },
  {
   "cell_type": "markdown",
   "metadata": {},
   "source": [
    "**Plot your $\\epsilon$-progress to evaluate convergergence, and visualize the trade-offs using parallel coordinate plots**"
   ]
  },
  {
   "cell_type": "code",
   "execution_count": 33,
   "metadata": {
    "collapsed": true,
    "jupyter": {
     "outputs_hidden": true
    }
   },
   "outputs": [],
   "source": []
  },
  {
   "cell_type": "markdown",
   "metadata": {},
   "source": [
    "**What does this plot tell us about the tradeoffs and conflicting objectives?**"
   ]
  },
  {
   "cell_type": "markdown",
   "metadata": {},
   "source": [
    "## Re-evaluate candidate solutions under uncertainty\n",
    "\n",
    "We have used only 50 scenarios for the optimization. Take the results and re-evaluate them over a larger set (assume 1000 scenarios). How different are your results? What does this imply for the assumption of 50 scenarios during robust optimization.\n",
    "\n",
    "*hint: use the to_dict method on a dataframe, next generate Policy objects in a list expression by iterating over the dicts returned by the to_dict method*"
   ]
  },
  {
   "cell_type": "code",
   "execution_count": null,
   "metadata": {
    "collapsed": true,
    "jupyter": {
     "outputs_hidden": true
    }
   },
   "outputs": [],
   "source": []
  },
  {
   "cell_type": "markdown",
   "metadata": {},
   "source": [
    "## Comparison\n",
    "If you have time, import your solutions found for MORDM and re-evaluate them over the same set of scnearios as used for re-evaluating the MORO results. Compare the robustness of MORDM and MORO, what do you observe?"
   ]
  },
  {
   "cell_type": "code",
   "execution_count": null,
   "metadata": {},
   "outputs": [],
   "source": []
  }
 ],
 "metadata": {
  "anaconda-cloud": {},
  "kernelspec": {
   "display_name": "Python 3",
   "language": "python",
   "name": "python3"
  },
  "language_info": {
   "codemirror_mode": {
    "name": "ipython",
    "version": 3
   },
   "file_extension": ".py",
   "mimetype": "text/x-python",
   "name": "python",
   "nbconvert_exporter": "python",
   "pygments_lexer": "ipython3",
   "version": "3.8.3"
  },
  "latex_envs": {
   "LaTeX_envs_menu_present": true,
   "autocomplete": true,
   "bibliofile": "biblio.bib",
   "cite_by": "apalike",
   "current_citInitial": 1,
   "eqLabelWithNumbers": true,
   "eqNumInitial": 1,
   "hotkeys": {
    "equation": "Ctrl-E",
    "itemize": "Ctrl-I"
   },
   "labels_anchors": false,
   "latex_user_defs": false,
   "report_style_numbering": false,
   "user_envs_cfg": false
  }
 },
 "nbformat": 4,
 "nbformat_minor": 4
}
