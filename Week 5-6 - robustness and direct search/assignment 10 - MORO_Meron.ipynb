{
 "cells": [
  {
   "cell_type": "markdown",
   "metadata": {},
   "source": [
    "# Multi-objective Robust Optimization (MORO)\n",
    "\n",
    "\n",
    "This exercise demostrates the application of MORO on the lake model. In contrast to the exercises in previous weeks, we will be using a slightly more sophisticated version of the problem. For details see the MORDM assignment for this week.\n",
    "\n",
    "## Setup MORO\n",
    "\n",
    "Many objective robust optimization aims at finding decisions that are robust with respect to the various deeply uncertain factors. For this, MORO evalues each candidate decision over a set of scenarios. For each outcome of interest, the robusntess over this set is calculated. A MOEA is used to maximize the robustness. \n",
    "\n",
    "For this assignment, we will be using a domain criterion as our robustness metric. The table below lists the rules that you should use for each outcome of interest.\n",
    "\n",
    "|Outcome of interest| threhsold  |\n",
    "|-------------------|------------|\n",
    "| Maximum pollution | $\\leq$ 0.75|\n",
    "| Inertia           | $\\geq$ 0.6 |\n",
    "| Reliability       | $\\geq$ 0.99|   \n",
    "| Utility           | $\\geq$ 0.75|\n",
    "\n",
    "**1) Implement a function for each outcome that takes a numpy array with results for the outcome of interest, and returns the robustness score**"
   ]
  },
  {
   "cell_type": "code",
   "execution_count": 1,
   "metadata": {},
   "outputs": [],
   "source": [
    "import functools\n",
    "\n",
    "def robustness(direction, threshold, data):\n",
    "    \n",
    "    if direction == SMALLER:\n",
    "        return np.sum(data<=threshold)/data.shape[0]\n",
    "    elif direction == LARGER:\n",
    "        return np.sum(data>=threshold)/data.shape[0]\n",
    "\n",
    "def maxp(data):\n",
    "    return np.sum(data<=0.75)/data.shape[0]\n",
    "\n",
    "def inertia(data):\n",
    "    return np.sum(data>=0.6)/data.shape[0]\n",
    "\n",
    "def reliability(data):\n",
    "    return np.sum(data>=0.99)/data.shape[0]\n",
    "\n",
    "def utility(data):\n",
    "    return np.sum(data>=0.75)/data.shape[0]\n",
    "\n",
    "\n",
    "    \n",
    "SMALLER = 'SMALLER'\n",
    "LARGER = 'LARGER'"
   ]
  },
  {
   "cell_type": "markdown",
   "metadata": {},
   "source": [
    "**2) Generate 4 random release policies, and evaluate them over 500 scenarios. Sample the scenarios using Monte Carlo sampling. Next evaulate your robustness function for 1, 2, 3, ... 500 scenarios for each outcome and visualize this. What can you tell about the convergernce of the robusntess metric as a function of the number of scenarios?**"
   ]
  },
  {
   "cell_type": "code",
   "execution_count": 2,
   "metadata": {},
   "outputs": [],
   "source": [
    "from dps_lake_model import lake_model\n",
    "from ema_workbench import (Model, MultiprocessingEvaluator, RealParameter, SequentialEvaluator, ScalarOutcome, ema_logging, Constraint, perform_experiments, Policy)\n",
    "from ema_workbench.analysis import parcoords\n",
    "from ema_workbench.em_framework.optimization import (HyperVolume, EpsilonProgress)\n",
    "from dps_lake_model import lake_model\n",
    "import numpy as np\n",
    "import pandas as pd"
   ]
  },
  {
   "cell_type": "code",
   "execution_count": 4,
   "metadata": {},
   "outputs": [],
   "source": [
    "model = Model('LAKE', function=lake_model)\n",
    "\n",
    "# Setting the model uncertainties\n",
    "model.uncertainties = [RealParameter('b', 0.1, 0.45),\n",
    "                       RealParameter('q', 2, 4.5),\n",
    "                       RealParameter('mean', 0.01, 0.05),\n",
    "                       RealParameter('stdev', 0.001, 0.005),\n",
    "                       RealParameter('delta', 0.93, 0.99)]\n",
    "\n",
    "# Assigning the model levers\n",
    "\n",
    "model.levers = [RealParameter(\"c1\", -2, 2),\n",
    "                RealParameter(\"c2\", -2, 2),\n",
    "                RealParameter(\"r1\", 0, 2),\n",
    "                RealParameter(\"r2\", 0, 2),\n",
    "                RealParameter(\"w1\", 0, 1)]\n",
    "\n",
    "# Deciding upon the outcomes\n",
    "model.outcomes = [ScalarOutcome('max_P', kind=ScalarOutcome.MINIMIZE, expected_range=(0,5)),\n",
    "                  ScalarOutcome('utility', kind=ScalarOutcome.MAXIMIZE, expected_range=(0,2)),\n",
    "                  ScalarOutcome('inertia', kind=ScalarOutcome.MAXIMIZE, expected_range=(0,1)),\n",
    "                  ScalarOutcome('reliability', kind=ScalarOutcome.MAXIMIZE, expected_range=(0,1))]"
   ]
  },
  {
   "cell_type": "code",
   "execution_count": 5,
   "metadata": {},
   "outputs": [],
   "source": [
    "from ema_workbench import (perform_experiments, ema_logging, save_results, load_results)\n",
    "from ema_workbench.em_framework import samplers\n",
    "from ema_workbench.em_framework import util\n",
    "\n",
    "ema_logging.log_to_stderr(ema_logging.INFO)\n",
    "\n",
    "n_scenarios = 500\n",
    "n_policies = 4\n",
    "fn = './results/{} scenarios {} policies.tar.gz'.format(n_scenarios, n_policies)\n",
    "\n",
    "counter = util.Counter()\n",
    "policies = samplers.sample_levers(model, n_policies, sampler = samplers.MonteCarloSampler())\n",
    "scenarios = samplers.sample_levers(model, n_scenarios, sampler = samplers.MonteCarloSampler())"
   ]
  },
  {
   "cell_type": "code",
   "execution_count": 7,
   "metadata": {},
   "outputs": [
    {
     "name": "stderr",
     "output_type": "stream",
     "text": [
      "[MainProcess/INFO] pool started\n",
      "[MainProcess/INFO] performing 500 scenarios * 4 policies * 1 model(s) = 2000 experiments\n",
      "[MainProcess/INFO] 200 cases completed\n",
      "[MainProcess/INFO] 400 cases completed\n",
      "[MainProcess/INFO] 600 cases completed\n",
      "[MainProcess/INFO] 800 cases completed\n",
      "[MainProcess/INFO] 1000 cases completed\n",
      "[MainProcess/INFO] 1200 cases completed\n",
      "[MainProcess/INFO] 1400 cases completed\n",
      "[MainProcess/INFO] 1600 cases completed\n",
      "[MainProcess/INFO] 1800 cases completed\n",
      "[MainProcess/INFO] 2000 cases completed\n",
      "[MainProcess/INFO] experiments finished\n",
      "[MainProcess/INFO] terminating pool\n",
      "[MainProcess/INFO] results saved successfully to C:\\Users\\Meron Znabei\\Desktop\\EPA\\Courses\\Model-based Decision-making\\epa1361_open-master\\Week 5-6 - robustness and direct search\\results\\500 scenarios 4 policies.tar.gz\n"
     ]
    }
   ],
   "source": [
    "with MultiprocessingEvaluator(model) as evaluator:\n",
    "     results = evaluator.perform_experiments(scenarios, policies)\n",
    "save_results(results, fn)\n",
    "experiments, outcomes=results"
   ]
  },
  {
   "cell_type": "code",
   "execution_count": 9,
   "metadata": {},
   "outputs": [],
   "source": [
    "policies_t = experiments['policy']\n",
    "for i, policy in enumerate(np.unique(policies_t)):\n",
    "    experiments.loc[policies_t==policy, 'policy'] = str(i)\n",
    "\n",
    "data = pd.DataFrame(outcomes)\n",
    "data['policy'] = policies_t"
   ]
  },
  {
   "cell_type": "code",
   "execution_count": 10,
   "metadata": {},
   "outputs": [
    {
     "data": {
      "text/html": [
       "<div>\n",
       "<style scoped>\n",
       "    .dataframe tbody tr th:only-of-type {\n",
       "        vertical-align: middle;\n",
       "    }\n",
       "\n",
       "    .dataframe tbody tr th {\n",
       "        vertical-align: top;\n",
       "    }\n",
       "\n",
       "    .dataframe thead th {\n",
       "        text-align: right;\n",
       "    }\n",
       "</style>\n",
       "<table border=\"1\" class=\"dataframe\">\n",
       "  <thead>\n",
       "    <tr style=\"text-align: right;\">\n",
       "      <th></th>\n",
       "      <th>max_P</th>\n",
       "      <th>utility</th>\n",
       "      <th>inertia</th>\n",
       "      <th>reliability</th>\n",
       "      <th>policy</th>\n",
       "    </tr>\n",
       "  </thead>\n",
       "  <tbody>\n",
       "    <tr>\n",
       "      <th>0</th>\n",
       "      <td>2.283788</td>\n",
       "      <td>1.734761</td>\n",
       "      <td>0.99</td>\n",
       "      <td>0.07</td>\n",
       "      <td>0</td>\n",
       "    </tr>\n",
       "    <tr>\n",
       "      <th>1</th>\n",
       "      <td>2.283845</td>\n",
       "      <td>1.734761</td>\n",
       "      <td>0.99</td>\n",
       "      <td>0.07</td>\n",
       "      <td>0</td>\n",
       "    </tr>\n",
       "    <tr>\n",
       "      <th>2</th>\n",
       "      <td>2.283816</td>\n",
       "      <td>1.734761</td>\n",
       "      <td>0.99</td>\n",
       "      <td>0.07</td>\n",
       "      <td>0</td>\n",
       "    </tr>\n",
       "    <tr>\n",
       "      <th>3</th>\n",
       "      <td>2.283946</td>\n",
       "      <td>1.734761</td>\n",
       "      <td>0.99</td>\n",
       "      <td>0.07</td>\n",
       "      <td>0</td>\n",
       "    </tr>\n",
       "    <tr>\n",
       "      <th>4</th>\n",
       "      <td>2.283726</td>\n",
       "      <td>1.734761</td>\n",
       "      <td>0.99</td>\n",
       "      <td>0.07</td>\n",
       "      <td>0</td>\n",
       "    </tr>\n",
       "  </tbody>\n",
       "</table>\n",
       "</div>"
      ],
      "text/plain": [
       "      max_P   utility  inertia  reliability policy\n",
       "0  2.283788  1.734761     0.99         0.07      0\n",
       "1  2.283845  1.734761     0.99         0.07      0\n",
       "2  2.283816  1.734761     0.99         0.07      0\n",
       "3  2.283946  1.734761     0.99         0.07      0\n",
       "4  2.283726  1.734761     0.99         0.07      0"
      ]
     },
     "execution_count": 10,
     "metadata": {},
     "output_type": "execute_result"
    }
   ],
   "source": [
    "data.head()"
   ]
  },
  {
   "cell_type": "markdown",
   "metadata": {},
   "source": [
    "## Robustness"
   ]
  },
  {
   "cell_type": "code",
   "execution_count": 11,
   "metadata": {},
   "outputs": [],
   "source": [
    "#max_P:\n",
    "robustness_max_p=robustness('SMALLER',0.75, data['max_P'])\n",
    "\n",
    "#utillity:\n",
    "robustness_utility=robustness('LARGER',0.75, data['utility'])\n",
    "\n",
    "#inertia:\n",
    "robustness_inertia=robustness('LARGER',0.6, data['inertia'])\n",
    "\n",
    "#reliability:\n",
    "robustness_reliability=robustness('LARGER',0.99, data['reliability'])\n",
    "\n",
    "robustness_metrics={'max_P': robustness_max_p, 'utility':robustness_utility, 'inertia': robustness_inertia, 'reliability': robustness_reliability}"
   ]
  },
  {
   "cell_type": "code",
   "execution_count": 12,
   "metadata": {},
   "outputs": [
    {
     "name": "stdout",
     "output_type": "stream",
     "text": [
      "{'max_P': 0.0, 'utility': 1.0, 'inertia': 1.0, 'reliability': 0.0}\n"
     ]
    }
   ],
   "source": [
    "print(robustness_metrics)"
   ]
  },
  {
   "cell_type": "markdown",
   "metadata": {},
   "source": [
    "As seen above, around 25% of scenarios fall within the threshold defined for max_P and reliability. Same holds for Inertia as within all scenarios, each of them was indeed higher than 0.6"
   ]
  },
  {
   "cell_type": "code",
   "execution_count": 13,
   "metadata": {},
   "outputs": [],
   "source": [
    "potential_solutions=data.loc[(data['max_P']<=0.75) & (data['inertia']>=0.6) & (data['reliability']>=0.25) &(data['utility']>=0.75)]"
   ]
  },
  {
   "cell_type": "code",
   "execution_count": 14,
   "metadata": {},
   "outputs": [
    {
     "data": {
      "text/html": [
       "<div>\n",
       "<style scoped>\n",
       "    .dataframe tbody tr th:only-of-type {\n",
       "        vertical-align: middle;\n",
       "    }\n",
       "\n",
       "    .dataframe tbody tr th {\n",
       "        vertical-align: top;\n",
       "    }\n",
       "\n",
       "    .dataframe thead th {\n",
       "        text-align: right;\n",
       "    }\n",
       "</style>\n",
       "<table border=\"1\" class=\"dataframe\">\n",
       "  <thead>\n",
       "    <tr style=\"text-align: right;\">\n",
       "      <th></th>\n",
       "      <th>max_P</th>\n",
       "      <th>utility</th>\n",
       "      <th>inertia</th>\n",
       "      <th>reliability</th>\n",
       "      <th>policy</th>\n",
       "    </tr>\n",
       "  </thead>\n",
       "  <tbody>\n",
       "  </tbody>\n",
       "</table>\n",
       "</div>"
      ],
      "text/plain": [
       "Empty DataFrame\n",
       "Columns: [max_P, utility, inertia, reliability, policy]\n",
       "Index: []"
      ]
     },
     "execution_count": 14,
     "metadata": {},
     "output_type": "execute_result"
    }
   ],
   "source": [
    "potential_solutions.head()"
   ]
  },
  {
   "cell_type": "markdown",
   "metadata": {},
   "source": [
    "However, as checked in the code above, no policy proposed for any scenario will end up satisfying all of these conditions. Threfore, even though policies might show to be robust for a specific metric, they do not ensure the expected behaviour in other variables. "
   ]
  },
  {
   "cell_type": "markdown",
   "metadata": {},
   "source": [
    "## Searching for candidate solutions\n",
    "Set up the robust optimization problem using the robustness functions you have specified. Assume that you will need 50 scenarios for estimating the robustness. Use $\\epsilon$-progress and hypervolume to track convergence. Solve the optimization problem. As $\\epsilon$ values, you can assume 0.05 for each of the four robustness metrics.\n",
    "\n",
    "*note: this optimization problem is computationally very expensive. Develop and test your code using a sequential evaluator, a low number of function evaluations (e.g., 200), and a low number of scenarios (e.g., 5). Once everything seems to be working replace the sequential evaluator with an multiprocessing or ipyparallel evaluator, and increase the number of nfe and scenarios*.\n"
   ]
  },
  {
   "cell_type": "code",
   "execution_count": 15,
   "metadata": {},
   "outputs": [],
   "source": [
    "maxp = functools.partial(robustness, SMALLER, 0.75)\n",
    "inertia = functools.partial(robustness, LARGER, 0.6)\n",
    "reliability = functools.partial(robustness, LARGER, 0.99)\n",
    "utility = functools.partial(robustness, LARGER, 0.75)\n",
    "\n",
    "\n",
    "MAXIMIZE = ScalarOutcome.MAXIMIZE\n",
    "MINIMIZE = ScalarOutcome.MINIMIZE\n",
    "robustness_functions = [ScalarOutcome('max_P', kind=MINIMIZE,\n",
    "                             variable_name='max_P', function=maxp),\n",
    "                       ScalarOutcome('reliability', kind=MAXIMIZE,\n",
    "                             variable_name='reliability', function=reliability),\n",
    "                       ScalarOutcome('inertia', kind=MAXIMIZE,\n",
    "                             variable_name='inertia', function=inertia),\n",
    "                       ScalarOutcome('utility', kind=MAXIMIZE,\n",
    "                             variable_name='utility', function=utility)]\n",
    "\n"
   ]
  },
  {
   "cell_type": "code",
   "execution_count": 133,
   "metadata": {},
   "outputs": [
    {
     "name": "stderr",
     "output_type": "stream",
     "text": [
      "[MainProcess/INFO] generation 0: 0/100 nfe\n",
      "[MainProcess/INFO] optimization completed, found 3 solutions\n"
     ]
    }
   ],
   "source": [
    "#Test if it is okay with Sequential\n",
    "nfe = 100\n",
    "\n",
    "with MultiprocessingEvaluator(model) as evaluator:\n",
    "    robust_results = evaluator.robust_optimize(robustness_functions, scenarios=5,\n",
    "                            nfe=nfe, epsilons=[0.05,]*len(robustness_functions))"
   ]
  },
  {
   "cell_type": "code",
   "execution_count": 135,
   "metadata": {},
   "outputs": [
    {
     "data": {
      "text/html": [
       "<div>\n",
       "<style scoped>\n",
       "    .dataframe tbody tr th:only-of-type {\n",
       "        vertical-align: middle;\n",
       "    }\n",
       "\n",
       "    .dataframe tbody tr th {\n",
       "        vertical-align: top;\n",
       "    }\n",
       "\n",
       "    .dataframe thead th {\n",
       "        text-align: right;\n",
       "    }\n",
       "</style>\n",
       "<table border=\"1\" class=\"dataframe\">\n",
       "  <thead>\n",
       "    <tr style=\"text-align: right;\">\n",
       "      <th></th>\n",
       "      <th>c1</th>\n",
       "      <th>c2</th>\n",
       "      <th>r1</th>\n",
       "      <th>r2</th>\n",
       "      <th>w1</th>\n",
       "      <th>max_P</th>\n",
       "      <th>reliability</th>\n",
       "      <th>inertia</th>\n",
       "      <th>utility</th>\n",
       "    </tr>\n",
       "  </thead>\n",
       "  <tbody>\n",
       "    <tr>\n",
       "      <th>0</th>\n",
       "      <td>0.615827</td>\n",
       "      <td>0.526637</td>\n",
       "      <td>0.338544</td>\n",
       "      <td>0.199520</td>\n",
       "      <td>0.047851</td>\n",
       "      <td>0.6</td>\n",
       "      <td>0.6</td>\n",
       "      <td>0.8</td>\n",
       "      <td>0.6</td>\n",
       "    </tr>\n",
       "    <tr>\n",
       "      <th>1</th>\n",
       "      <td>1.486632</td>\n",
       "      <td>0.512686</td>\n",
       "      <td>1.222985</td>\n",
       "      <td>0.765167</td>\n",
       "      <td>0.098271</td>\n",
       "      <td>0.4</td>\n",
       "      <td>0.4</td>\n",
       "      <td>1.0</td>\n",
       "      <td>0.8</td>\n",
       "    </tr>\n",
       "    <tr>\n",
       "      <th>2</th>\n",
       "      <td>1.382518</td>\n",
       "      <td>0.574980</td>\n",
       "      <td>1.359751</td>\n",
       "      <td>1.039776</td>\n",
       "      <td>0.039161</td>\n",
       "      <td>0.6</td>\n",
       "      <td>0.6</td>\n",
       "      <td>1.0</td>\n",
       "      <td>0.4</td>\n",
       "    </tr>\n",
       "  </tbody>\n",
       "</table>\n",
       "</div>"
      ],
      "text/plain": [
       "         c1        c2        r1        r2        w1  max_P  reliability  \\\n",
       "0  0.615827  0.526637  0.338544  0.199520  0.047851    0.6          0.6   \n",
       "1  1.486632  0.512686  1.222985  0.765167  0.098271    0.4          0.4   \n",
       "2  1.382518  0.574980  1.359751  1.039776  0.039161    0.6          0.6   \n",
       "\n",
       "   inertia  utility  \n",
       "0      0.8      0.6  \n",
       "1      1.0      0.8  \n",
       "2      1.0      0.4  "
      ]
     },
     "execution_count": 135,
     "metadata": {},
     "output_type": "execute_result"
    }
   ],
   "source": [
    "robust_results.head()"
   ]
  },
  {
   "cell_type": "code",
   "execution_count": 18,
   "metadata": {},
   "outputs": [],
   "source": [
    "#Actual, could not run it because my computer is way to slow \n",
    "nfe = 200\n",
    "n_scenarios = 50\n",
    "scenarios = samplers.sample_levers(model, n_scenarios, sampler = samplers.MonteCarloSampler())"
   ]
  },
  {
   "cell_type": "code",
   "execution_count": 23,
   "metadata": {},
   "outputs": [],
   "source": [
    "convergence_metrics = [HyperVolume.from_outcomes(model.outcomes),\n",
    "                       EpsilonProgress()]"
   ]
  },
  {
   "cell_type": "code",
   "execution_count": 24,
   "metadata": {},
   "outputs": [
    {
     "name": "stderr",
     "output_type": "stream",
     "text": [
      "[MainProcess/INFO] generation 0: 0/200 nfe\n",
      "[MainProcess/INFO] optimization completed, found 2 solutions\n"
     ]
    }
   ],
   "source": [
    "with MultiprocessingEvaluator(model) as evaluator:\n",
    "    robust_results, convergence= evaluator.robust_optimize(robustness_functions, scenarios=scenarios,\n",
    "                                    nfe=nfe, epsilons=[0.05,]*len(robustness_functions),\n",
    "                                    convergence=convergence_metrics)\n",
    "    \n",
    "#takes too much time but cant make it run"
   ]
  },
  {
   "cell_type": "markdown",
   "metadata": {},
   "source": [
    "**Plot your $\\epsilon$-progress to evaluate convergergence, and visualize the trade-offs using parallel coordinate plots**"
   ]
  },
  {
   "cell_type": "code",
   "execution_count": 25,
   "metadata": {},
   "outputs": [
    {
     "data": {
      "image/png": "[encoded data removed]",
      "text/plain": [
       "<Figure size 720x288 with 2 Axes>"
      ]
     },
     "metadata": {
      "needs_background": "light"
     },
     "output_type": "display_data"
    }
   ],
   "source": [
    "import matplotlib.pyplot as plt\n",
    "fig, (ax1, ax2) = plt.subplots(ncols=2, sharex=True, figsize=(10,4))\n",
    "ax1.plot(convergence.nfe, convergence.epsilon_progress)\n",
    "ax1.set_ylabel('$\\epsilon$-progress')\n",
    "ax2.plot(convergence.nfe, convergence.hypervolume)\n",
    "ax2.set_ylabel('hypervolume')\n",
    "\n",
    "ax1.set_xlabel('number of function evaluations')\n",
    "ax2.set_xlabel('number of function evaluations')\n",
    "plt.show()"
   ]
  },
  {
   "cell_type": "markdown",
   "metadata": {},
   "source": [
    "**What does this plot tell us about the tradeoffs and conflicting objectives?**"
   ]
  },
  {
   "cell_type": "markdown",
   "metadata": {},
   "source": [
    "## Re-evaluate candidate solutions under uncertainty\n",
    "\n",
    "We have used only 50 scenarios for the optimization. Take the results and re-evaluate them over a larger set (assume 1000 scenarios). How different are your results? What does this imply for the assumption of 50 scenarios during robust optimization.\n",
    "\n",
    "*hint: use the to_dict method on a dataframe, next generate Policy objects in a list expression by iterating over the dicts returned by the to_dict method*"
   ]
  },
  {
   "cell_type": "code",
   "execution_count": 29,
   "metadata": {
    "jupyter": {
     "outputs_hidden": true
    }
   },
   "outputs": [
    {
     "data": {
      "text/html": [
       "<div>\n",
       "<style scoped>\n",
       "    .dataframe tbody tr th:only-of-type {\n",
       "        vertical-align: middle;\n",
       "    }\n",
       "\n",
       "    .dataframe tbody tr th {\n",
       "        vertical-align: top;\n",
       "    }\n",
       "\n",
       "    .dataframe thead th {\n",
       "        text-align: right;\n",
       "    }\n",
       "</style>\n",
       "<table border=\"1\" class=\"dataframe\">\n",
       "  <thead>\n",
       "    <tr style=\"text-align: right;\">\n",
       "      <th></th>\n",
       "      <th>c1</th>\n",
       "      <th>c2</th>\n",
       "      <th>r1</th>\n",
       "      <th>r2</th>\n",
       "      <th>w1</th>\n",
       "      <th>max_P</th>\n",
       "      <th>reliability</th>\n",
       "      <th>inertia</th>\n",
       "      <th>utility</th>\n",
       "    </tr>\n",
       "  </thead>\n",
       "  <tbody>\n",
       "    <tr>\n",
       "      <th>0</th>\n",
       "      <td>0.647306</td>\n",
       "      <td>-0.345284</td>\n",
       "      <td>0.351236</td>\n",
       "      <td>1.116517</td>\n",
       "      <td>0.781251</td>\n",
       "      <td>0.0</td>\n",
       "      <td>0.0</td>\n",
       "      <td>1.0</td>\n",
       "      <td>1.0</td>\n",
       "    </tr>\n",
       "    <tr>\n",
       "      <th>1</th>\n",
       "      <td>-0.992994</td>\n",
       "      <td>-0.237063</td>\n",
       "      <td>1.981247</td>\n",
       "      <td>1.814472</td>\n",
       "      <td>0.035278</td>\n",
       "      <td>1.0</td>\n",
       "      <td>1.0</td>\n",
       "      <td>1.0</td>\n",
       "      <td>0.0</td>\n",
       "    </tr>\n",
       "  </tbody>\n",
       "</table>\n",
       "</div>"
      ],
      "text/plain": [
       "         c1        c2        r1        r2        w1  max_P  reliability  \\\n",
       "0  0.647306 -0.345284  0.351236  1.116517  0.781251    0.0          0.0   \n",
       "1 -0.992994 -0.237063  1.981247  1.814472  0.035278    1.0          1.0   \n",
       "\n",
       "   inertia  utility  \n",
       "0      1.0      1.0  \n",
       "1      1.0      0.0  "
      ]
     },
     "execution_count": 29,
     "metadata": {},
     "output_type": "execute_result"
    }
   ],
   "source": [
    "robust_results"
   ]
  },
  {
   "cell_type": "code",
   "execution_count": 57,
   "metadata": {},
   "outputs": [
    {
     "name": "stdout",
     "output_type": "stream",
     "text": [
      "{'c1': 0.6473056801397927, 'c2': -0.3452842576546593, 'r1': 0.3512361976830016, 'r2': 1.116517002756133, 'w1': 0.7812509037278185, 'max_P': 0.0, 'reliability': 0.0, 'inertia': 1.0, 'utility': 1.0}\n",
      "{'c1': -0.9929941927089017, 'c2': -0.2370633407268521, 'r1': 1.9812466908308826, 'r2': 1.8144721148995877, 'w1': 0.035278390831138484, 'max_P': 1.0, 'reliability': 1.0, 'inertia': 1.0, 'utility': 0.0}\n"
     ]
    }
   ],
   "source": [
    "policies = []\n",
    "for i in range(len(robust_results)):\n",
    "    policy_dict = robust_results.loc[i].to_dict()\n",
    "    print(policy_dict)\n",
    "    name = \"Policy \" + str(i)\n",
    "    policies.append(Policy(name, **policy_dict))"
   ]
  },
  {
   "cell_type": "code",
   "execution_count": 58,
   "metadata": {},
   "outputs": [
    {
     "data": {
      "text/plain": [
       "[Policy({'c1': 0.6473056801397927, 'c2': -0.3452842576546593, 'r1': 0.3512361976830016, 'r2': 1.116517002756133, 'w1': 0.7812509037278185, 'max_P': 0.0, 'reliability': 0.0, 'inertia': 1.0, 'utility': 1.0}),\n",
       " Policy({'c1': -0.9929941927089017, 'c2': -0.2370633407268521, 'r1': 1.9812466908308826, 'r2': 1.8144721148995877, 'w1': 0.035278390831138484, 'max_P': 1.0, 'reliability': 1.0, 'inertia': 1.0, 'utility': 0.0})]"
      ]
     },
     "execution_count": 58,
     "metadata": {},
     "output_type": "execute_result"
    }
   ],
   "source": [
    "policies"
   ]
  },
  {
   "cell_type": "code",
   "execution_count": 60,
   "metadata": {},
   "outputs": [
    {
     "name": "stderr",
     "output_type": "stream",
     "text": [
      "[MainProcess/INFO] results saved successfully to C:\\Users\\Meron Znabei\\Desktop\\EPA\\Courses\\Model-based Decision-making\\epa1361_open-master\\Week 5-6 - robustness and direct search\\results\\500 scenarios 4 policies.tar.gz\n"
     ]
    }
   ],
   "source": [
    "n_scenarios = 1000\n",
    "scenarios = samplers.sample_levers(model, n_scenarios, sampler = samplers.MonteCarloSampler())\n",
    "\n",
    "with MultiprocessingEvaluator(model) as evaluator:\n",
    "     results_reavalution = evaluator.perform_experiments(scenarios, policies)\n",
    "save_results(results_reavalution, fn)\n",
    "experiments, outcomes=results_reavalution"
   ]
  },
  {
   "cell_type": "code",
   "execution_count": 61,
   "metadata": {},
   "outputs": [],
   "source": [
    "policies_t = experiments['policy']\n",
    "for i, policy in enumerate(np.unique(policies_t)):\n",
    "    experiments.loc[policies_t==policy, 'policy'] = str(i)\n",
    "\n",
    "data = pd.DataFrame(outcomes)\n",
    "data['policy'] = policies_t"
   ]
  },
  {
   "cell_type": "code",
   "execution_count": 62,
   "metadata": {},
   "outputs": [
    {
     "name": "stdout",
     "output_type": "stream",
     "text": [
      "{'max_P': 0.5, 'utility': 0.5, 'inertia': 1.0, 'reliability': 0.5}\n"
     ]
    }
   ],
   "source": [
    "#max_P:\n",
    "robustness_max_p=robustness('SMALLER',0.75, data['max_P'])\n",
    "\n",
    "#utillity:\n",
    "robustness_utility=robustness('LARGER',0.75, data['utility'])\n",
    "\n",
    "#inertia:\n",
    "robustness_inertia=robustness('LARGER',0.6, data['inertia'])\n",
    "\n",
    "#reliability:\n",
    "robustness_reliability=robustness('LARGER',0.99, data['reliability'])\n",
    "\n",
    "robustness_metrics={'max_P': robustness_max_p, 'utility':robustness_utility, 'inertia': robustness_inertia, 'reliability': robustness_reliability}\n",
    "print(robustness_metrics)"
   ]
  },
  {
   "cell_type": "markdown",
   "metadata": {},
   "source": [
    "## Comparison\n",
    "If you have time, import your solutions found for MORDM and re-evaluate them over the same set of scnearios as used for re-evaluating the MORO results. Compare the robustness of MORDM and MORO, what do you observe?"
   ]
  },
  {
   "cell_type": "code",
   "execution_count": null,
   "metadata": {},
   "outputs": [],
   "source": []
  }
 ],
 "metadata": {
  "anaconda-cloud": {},
  "kernelspec": {
   "display_name": "Python 3",
   "language": "python",
   "name": "python3"
  },
  "language_info": {
   "codemirror_mode": {
    "name": "ipython",
    "version": 3
   },
   "file_extension": ".py",
   "mimetype": "text/x-python",
   "name": "python",
   "nbconvert_exporter": "python",
   "pygments_lexer": "ipython3",
   "version": "3.7.10"
  },
  "latex_envs": {
   "LaTeX_envs_menu_present": true,
   "autocomplete": true,
   "bibliofile": "biblio.bib",
   "cite_by": "apalike",
   "current_citInitial": 1,
   "eqLabelWithNumbers": true,
   "eqNumInitial": 1,
   "hotkeys": {
    "equation": "Ctrl-E",
    "itemize": "Ctrl-I"
   },
   "labels_anchors": false,
   "latex_user_defs": false,
   "report_style_numbering": false,
   "user_envs_cfg": false
  }
 },
 "nbformat": 4,
 "nbformat_minor": 4
}
