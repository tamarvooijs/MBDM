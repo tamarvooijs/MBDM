{
 "cells": [
  {
   "cell_type": "markdown",
   "metadata": {},
   "source": [
    "# Multi-Scenario MORDM\n",
    "\n",
    "Multi-scenario MORMD is an extension of normal MORDM to better include robustness considerations within the search phase. It starts from the scenario discovery results resulting from MORDM. Next, from the experiments within this box, a set of scenarios is selected. \n",
    "\n",
    "There are many ways of selecting the additional scenarios. The original paper which introduced multi-scenario MORMD [Watson and Kaspzryk (2017)](https://doi.org/10.1016/j.envsoft.2016.12.001) did it in a more or less adhoc manner. [Eker and Kwakkel (2018)](https://doi.org/10.1016/j.envsoft.2018.03.029) introduced a more formal selection approach, the code of which can be found on [GitHub](https://github.com/sibeleker/MORDM---Multi-scenario-search). \n",
    "\n",
    "For this assignment, make an informed selection of 4 scenarios, using an approach of your choice. Motivate carefully your selection procedure. \n"
   ]
  },
  {
   "cell_type": "code",
   "execution_count": 40,
   "metadata": {},
   "outputs": [],
   "source": [
    "from dps_lake_model import (lake_model, get_antropogenic_release)\n",
    "\n",
    "import matplotlib.pyplot as plt\n",
    "import pandas as pd\n",
    "import numpy as np\n",
    "import seaborn as sns\n",
    "\n",
    "from ema_workbench import (Model, RealParameter, ScalarOutcome, MultiprocessingEvaluator, ema_logging, util)\n",
    "\n",
    "from ema_workbench import save_results, load_results\n",
    "\n",
    "\n",
    "from ema_workbench.analysis import parcoords\n",
    "\n",
    "from ema_workbench import Policy\n",
    "\n",
    "from ema_workbench import perform_experiments\n",
    "\n",
    "from ema_workbench.util import ema_logging\n",
    "\n",
    "import os\n",
    "\n"
   ]
  },
  {
   "cell_type": "code",
   "execution_count": 46,
   "metadata": {},
   "outputs": [],
   "source": [
    "fn = './results/selected_results.tar.gz'\n",
    "\n",
    "results = load_results(fn)\n",
    "experiments, outcomes = results"
   ]
  },
  {
   "cell_type": "code",
   "execution_count": 42,
   "metadata": {},
   "outputs": [],
   "source": [
    "results1 = results[1]['utility']\n",
    "worst_four = sorted(results1)[0:4]"
   ]
  },
  {
   "cell_type": "code",
   "execution_count": 43,
   "metadata": {},
   "outputs": [
    {
     "data": {
      "text/plain": [
       "[0.11908014661644528,\n",
       " 0.11950013756373498,\n",
       " 0.12132070044824292,\n",
       " 0.12167693909145302]"
      ]
     },
     "execution_count": 43,
     "metadata": {},
     "output_type": "execute_result"
    }
   ],
   "source": [
    "worst_four"
   ]
  },
  {
   "cell_type": "code",
   "execution_count": 44,
   "metadata": {},
   "outputs": [
    {
     "data": {
      "text/plain": [
       "(             b     delta      mean         q     stdev        c1        c2  \\\n",
       " 0     0.273515  0.977410  0.045615  3.786011  0.001710  0.125158  0.272257   \n",
       " 1     0.247986  0.971721  0.037351  4.209994  0.004012  0.125158  0.272257   \n",
       " 2     0.133090  0.965256  0.010909  4.053383  0.003768  0.125158  0.272257   \n",
       " 3     0.204798  0.972639  0.032819  3.917798  0.003090  0.125158  0.272257   \n",
       " 4     0.366422  0.931671  0.036192  2.414730  0.001717  0.125158  0.272257   \n",
       " ...        ...       ...       ...       ...       ...       ...       ...   \n",
       " 5429  0.131182  0.947625  0.013143  4.179405  0.001012 -0.013216  0.241165   \n",
       " 5430  0.108070  0.934070  0.016255  3.323201  0.002825 -0.013216  0.241165   \n",
       " 5431  0.119168  0.938522  0.023876  4.092952  0.002137 -0.013216  0.241165   \n",
       " 5432  0.184394  0.932155  0.035866  4.491360  0.001152 -0.013216  0.241165   \n",
       " 5433  0.286991  0.955982  0.049906  4.255987  0.003639 -0.013216  0.241165   \n",
       " \n",
       "             r1        r2        w1  scenario     policy        model  \n",
       " 0     0.701874  0.231414  0.944503         4   Policy 0  lakeproblem  \n",
       " 1     0.701874  0.231414  0.944503         5   Policy 0  lakeproblem  \n",
       " 2     0.701874  0.231414  0.944503         7   Policy 0  lakeproblem  \n",
       " 3     0.701874  0.231414  0.944503        12   Policy 0  lakeproblem  \n",
       " 4     0.701874  0.231414  0.944503        14   Policy 0  lakeproblem  \n",
       " ...        ...       ...       ...       ...        ...          ...  \n",
       " 5429  1.658826  0.077515  0.346776       930  Policy 51  lakeproblem  \n",
       " 5430  1.658826  0.077515  0.346776       935  Policy 51  lakeproblem  \n",
       " 5431  1.658826  0.077515  0.346776       942  Policy 51  lakeproblem  \n",
       " 5432  1.658826  0.077515  0.346776       959  Policy 51  lakeproblem  \n",
       " 5433  1.658826  0.077515  0.346776       967  Policy 51  lakeproblem  \n",
       " \n",
       " [5434 rows x 13 columns],\n",
       " {'max_P': array([0.21442301, 0.1960995 , 0.16405545, ..., 9.42978972, 6.1585791 ,\n",
       "         0.37579898]),\n",
       "  'utility': array([0.22863154, 0.20349124, 0.18755998, ..., 0.51439835, 0.3148187 ,\n",
       "         0.23513505]),\n",
       "  'inertia': array([0.99  , 0.99  , 0.99  , ..., 0.9736, 0.9753, 0.9848]),\n",
       "  'reliability': array([1.    , 1.    , 1.    , ..., 0.1022, 0.2211, 0.9647])})"
      ]
     },
     "execution_count": 44,
     "metadata": {},
     "output_type": "execute_result"
    }
   ],
   "source": [
    "results"
   ]
  },
  {
   "cell_type": "code",
   "execution_count": 36,
   "metadata": {},
   "outputs": [
    {
     "data": {
      "text/plain": [
       "0.1341146479525404"
      ]
     },
     "execution_count": 36,
     "metadata": {},
     "output_type": "execute_result"
    }
   ],
   "source": [
    "results[1]['utility'][0]"
   ]
  },
  {
   "cell_type": "code",
   "execution_count": 47,
   "metadata": {},
   "outputs": [],
   "source": [
    "#for policy in results[0].policy.unique():\n",
    "\n",
    "    \n",
    "x=results[0].groupby(['scenario']).mean()"
   ]
  },
  {
   "cell_type": "code",
   "execution_count": 56,
   "metadata": {},
   "outputs": [],
   "source": [
    "utility_dict = {}\n",
    "for i in experiments[\"scenario\"].unique():\n",
    "    temp_df = experiments[experiments[\"scenario\"] == i]\n",
    "    temp_dict = {k:v[temp_df.index] for k,v in outcomes.items()}\n",
    "\n",
    "    utility_mean = temp_dict[\"utility\"].mean()\n",
    "    utility_dict[i] = utility_mean"
   ]
  },
  {
   "cell_type": "code",
   "execution_count": 58,
   "metadata": {},
   "outputs": [
    {
     "data": {
      "text/plain": [
       "444"
      ]
     },
     "execution_count": 58,
     "metadata": {},
     "output_type": "execute_result"
    }
   ],
   "source": [
    "len(experiments['scenario'].unique())"
   ]
  },
  {
   "cell_type": "code",
   "execution_count": 55,
   "metadata": {},
   "outputs": [],
   "source": [
    "len(utility_dict)"
   ]
  },
  {
   "cell_type": "code",
   "execution_count": 59,
   "metadata": {},
   "outputs": [],
   "source": [
    "a = sorted(utility_dict.items(), key=lambda x: x[1]) "
   ]
  },
  {
   "cell_type": "code",
   "execution_count": null,
   "metadata": {},
   "outputs": [],
   "source": []
  },
  {
   "cell_type": "code",
   "execution_count": 88,
   "metadata": {},
   "outputs": [],
   "source": [
    "worst_four = a[0:4]"
   ]
  },
  {
   "cell_type": "code",
   "execution_count": 100,
   "metadata": {},
   "outputs": [
    {
     "name": "stderr",
     "output_type": "stream",
     "text": [
      "C:\\Users\\hp\\anaconda3\\envs\\gds\\lib\\site-packages\\ipykernel_launcher.py:2: SettingWithCopyWarning: \n",
      "A value is trying to be set on a copy of a slice from a DataFrame\n",
      "\n",
      "See the caveats in the documentation: https://pandas.pydata.org/pandas-docs/stable/user_guide/indexing.html#returning-a-view-versus-a-copy\n",
      "  \n"
     ]
    }
   ],
   "source": [
    "left_over = experiments.loc[experiments[\"scenario\"].isin([563,151,984,194])]\n",
    "left_over.drop_duplicates(inplace=True, subset=['scenario'])"
   ]
  },
  {
   "cell_type": "code",
   "execution_count": 104,
   "metadata": {},
   "outputs": [],
   "source": [
    "left_over = left_over[['b', 'delta', 'mean', 'q', 'stdev']]"
   ]
  },
  {
   "cell_type": "code",
   "execution_count": 105,
   "metadata": {},
   "outputs": [
    {
     "data": {
      "text/html": [
       "<div>\n",
       "<style scoped>\n",
       "    .dataframe tbody tr th:only-of-type {\n",
       "        vertical-align: middle;\n",
       "    }\n",
       "\n",
       "    .dataframe tbody tr th {\n",
       "        vertical-align: top;\n",
       "    }\n",
       "\n",
       "    .dataframe thead th {\n",
       "        text-align: right;\n",
       "    }\n",
       "</style>\n",
       "<table border=\"1\" class=\"dataframe\">\n",
       "  <thead>\n",
       "    <tr style=\"text-align: right;\">\n",
       "      <th></th>\n",
       "      <th>b</th>\n",
       "      <th>delta</th>\n",
       "      <th>mean</th>\n",
       "      <th>q</th>\n",
       "      <th>stdev</th>\n",
       "    </tr>\n",
       "  </thead>\n",
       "  <tbody>\n",
       "    <tr>\n",
       "      <th>699</th>\n",
       "      <td>0.433739</td>\n",
       "      <td>0.941348</td>\n",
       "      <td>0.046417</td>\n",
       "      <td>4.463404</td>\n",
       "      <td>0.002574</td>\n",
       "    </tr>\n",
       "    <tr>\n",
       "      <th>864</th>\n",
       "      <td>0.422010</td>\n",
       "      <td>0.936846</td>\n",
       "      <td>0.041228</td>\n",
       "      <td>4.363879</td>\n",
       "      <td>0.002887</td>\n",
       "    </tr>\n",
       "    <tr>\n",
       "      <th>3677</th>\n",
       "      <td>0.139863</td>\n",
       "      <td>0.936962</td>\n",
       "      <td>0.016815</td>\n",
       "      <td>3.860961</td>\n",
       "      <td>0.004577</td>\n",
       "    </tr>\n",
       "    <tr>\n",
       "      <th>4197</th>\n",
       "      <td>0.268890</td>\n",
       "      <td>0.939461</td>\n",
       "      <td>0.013027</td>\n",
       "      <td>2.254826</td>\n",
       "      <td>0.002868</td>\n",
       "    </tr>\n",
       "  </tbody>\n",
       "</table>\n",
       "</div>"
      ],
      "text/plain": [
       "             b     delta      mean         q     stdev\n",
       "699   0.433739  0.941348  0.046417  4.463404  0.002574\n",
       "864   0.422010  0.936846  0.041228  4.363879  0.002887\n",
       "3677  0.139863  0.936962  0.016815  3.860961  0.004577\n",
       "4197  0.268890  0.939461  0.013027  2.254826  0.002868"
      ]
     },
     "execution_count": 105,
     "metadata": {},
     "output_type": "execute_result"
    }
   ],
   "source": [
    "left_over"
   ]
  },
  {
   "cell_type": "code",
   "execution_count": 107,
   "metadata": {},
   "outputs": [],
   "source": [
    "uncertainties = left_over.to_dict(orient='records')\n",
    "\n",
    "from ema_workbench import Scenario\n",
    "\n",
    "reference = []\n",
    "for i in range(len(uncertainties)):\n",
    "    reference.append(Scenario(str(i), **uncertainties[i]))"
   ]
  },
  {
   "cell_type": "raw",
   "metadata": {},
   "source": [
    "reference = []\n",
    "\n",
    "for i,uncertainty in uncertainties.iterrows():\n",
    "\n",
    "    reference.append(Scenario(str(i),**uncertainty.to_dict()))\n",
    "    \n",
    "    "
   ]
  },
  {
   "cell_type": "markdown",
   "metadata": {},
   "source": [
    "###### Found lowest values for utility"
   ]
  },
  {
   "cell_type": "markdown",
   "metadata": {},
   "source": [
    "## Search for each scenario\n",
    "\n",
    "For each of the four selected scenarios, use many-objective optimization to find a pareto approximate set using the same approach as for assignment 8. Remember to check for convergence (and time permitting, seed analysis), and be careful in what epsilon values to use (not to coarse, not too small). \n",
    "\n",
    "Store the resulting set of pareto solutions in a smart way for subsequent analysis.\n"
   ]
  },
  {
   "cell_type": "code",
   "execution_count": 64,
   "metadata": {},
   "outputs": [],
   "source": [
    "#import math\n",
    "import numpy as np\n",
    "import seaborn as sns\n",
    "import pandas as pd \n",
    "import matplotlib.pyplot as plt\n",
    "\n",
    "#from scipy.optimize import brentq\n",
    "#from ema_workbench import SequentialEvaluator, perform_experiments, TimeSeriesOutcome\n",
    "#from ema_workbench.analysis import plotting, plotting_util, pairs_plotting\n",
    "from ema_workbench import (Model, MultiprocessingEvaluator, RealParameter, ScalarOutcome, ema_logging, Constraint, perform_experiments, Policy)\n",
    "from ema_workbench.analysis import parcoords\n",
    "from ema_workbench.em_framework.optimization import (HyperVolume, EpsilonProgress)\n",
    "from dps_lake_model import lake_model"
   ]
  },
  {
   "cell_type": "code",
   "execution_count": 72,
   "metadata": {},
   "outputs": [],
   "source": [
    "model = Model('LAKE', function=lake_model)\n",
    "\n",
    "# Setting the model uncertainties\n",
    "model.uncertainties = [RealParameter('b', 0.1, 0.45),\n",
    "                       RealParameter('q', 2, 4.5),\n",
    "                       RealParameter('mean', 0.01, 0.05),\n",
    "                       RealParameter('stdev', 0.001, 0.005),\n",
    "                       RealParameter('delta', 0.93, 0.99)]\n",
    "\n",
    "# Assigning the model levers\n",
    "\n",
    "model.levers = [RealParameter(\"c1\", -2, 2),\n",
    "                RealParameter(\"c2\", -2, 2),\n",
    "                RealParameter(\"r1\", 0, 2),\n",
    "                RealParameter(\"r2\", 0, 2),\n",
    "                RealParameter(\"w1\", 0, 1)]\n",
    "\n",
    "# Deciding upon the outcomes\n",
    "model.outcomes = [ScalarOutcome('max_P', kind=ScalarOutcome.MINIMIZE, expected_range=(0,5)),\n",
    "                  ScalarOutcome('utility', kind=ScalarOutcome.MAXIMIZE, expected_range=(0,2)),\n",
    "                  ScalarOutcome('inertia', kind=ScalarOutcome.MAXIMIZE, expected_range=(0,1)),\n",
    "                  ScalarOutcome('reliability', kind=ScalarOutcome.MAXIMIZE, expected_range=(0,1))]\n",
    "\n",
    "convergence_metrics = [HyperVolume.from_outcomes(model.outcomes),\n",
    "                       EpsilonProgress()]\n",
    "\n",
    "#constraints = [Constraint(\"max_utility\", outcome_names=\"utility\",\n",
    "#                          function=lambda x:max(0, x-0.14710789615136866))]\n",
    "\n",
    "convergence_metrics = [EpsilonProgress()]"
   ]
  },
  {
   "cell_type": "code",
   "execution_count": 110,
   "metadata": {},
   "outputs": [
    {
     "name": "stderr",
     "output_type": "stream",
     "text": [
      "[MainProcess/INFO] generation 0: 0/1000 nfe\n",
      "[MainProcess/INFO] generation 5: 494/1000 nfe\n",
      "[MainProcess/INFO] generation 10: 992/1000 nfe\n",
      "[MainProcess/INFO] optimization completed, found 24 solutions\n"
     ]
    }
   ],
   "source": [
    "ema_logging.log_to_stderr(ema_logging.INFO)\n",
    "\n",
    "with MultiprocessingEvaluator(model) as evaluator:\n",
    "    results, convergence = evaluator.optimize(nfe=1000, searchover='levers', convergence = convergence_metrics, reference=reference[0],\n",
    "                                 epsilons=[0.01,]*len(model.outcomes))"
   ]
  },
  {
   "cell_type": "code",
   "execution_count": 112,
   "metadata": {},
   "outputs": [
    {
     "data": {
      "image/png": "[encoded data removed]",
      "text/plain": [
       "<Figure size 576x288 with 1 Axes>"
      ]
     },
     "metadata": {
      "needs_background": "light"
     },
     "output_type": "display_data"
    }
   ],
   "source": [
    "fig, ax = plt.subplots(figsize=(8,4))\n",
    "ax.plot( convergence.epsilon_progress)\n",
    "ax.set_ylabel('$\\epsilon$-progress')\n",
    "\n",
    "ax.set_xlabel('number of function evaluations')\n",
    "plt.show()"
   ]
  },
  {
   "cell_type": "markdown",
   "metadata": {},
   "source": [
    "ema_logging.log_to_stderr(ema_logging.INFO)\n",
    "\n",
    "with MultiprocessingEvaluator(model) as evaluator:\n",
    "    results = evaluator.optimize(nfe=1000, searchover='levers', convergence = convergence_metrics,\n",
    "                                 epsilons=[0.01,]*len(model.outcomes))"
   ]
  },
  {
   "cell_type": "markdown",
   "metadata": {},
   "source": [
    "## Re-evaluate under deep uncertainty\n",
    "\n",
    "Combine the pareto set of solutions found for each scenario. Next, turn each solution into a policy object. If you have a very large number of policies, you can choose to down sample your policies in some reasoned way (*e.g.*, picking min and max on each objective, slicing across the pareto front with a particular step size). As a rule of thumb, try to limit the set of policies to at most 50. \n",
    "\n",
    "Re-evaluate the combined set of solutions over 1000 scenarios sampled using LHS.\n"
   ]
  },
  {
   "cell_type": "code",
   "execution_count": null,
   "metadata": {},
   "outputs": [],
   "source": []
  },
  {
   "cell_type": "markdown",
   "metadata": {},
   "source": [
    "Calculate both the maximum regret, and the domain criterion using the values provided in [Bartholomew and Kwakkel (2020)](https://doi.org/10.1016/j.envsoft.2020.104699). Ignore the max_P objective.\n",
    "\n",
    "visualize the results in parallel coordinate plot. \n",
    "\n",
    "Are there any promising compromise solutions which balance performance in both the reference scenarios as well as in terms of their robustness?\n"
   ]
  },
  {
   "cell_type": "code",
   "execution_count": null,
   "metadata": {},
   "outputs": [],
   "source": []
  },
  {
   "cell_type": "code",
   "execution_count": null,
   "metadata": {},
   "outputs": [],
   "source": []
  }
 ],
 "metadata": {
  "anaconda-cloud": {},
  "kernelspec": {
   "display_name": "Python 3",
   "language": "python",
   "name": "python3"
  },
  "language_info": {
   "codemirror_mode": {
    "name": "ipython",
    "version": 3
   },
   "file_extension": ".py",
   "mimetype": "text/x-python",
   "name": "python",
   "nbconvert_exporter": "python",
   "pygments_lexer": "ipython3",
   "version": "3.7.8"
  },
  "latex_envs": {
   "LaTeX_envs_menu_present": true,
   "autocomplete": true,
   "bibliofile": "biblio.bib",
   "cite_by": "apalike",
   "current_citInitial": 1,
   "eqLabelWithNumbers": true,
   "eqNumInitial": 1,
   "hotkeys": {
    "equation": "Ctrl-E",
    "itemize": "Ctrl-I"
   },
   "labels_anchors": false,
   "latex_user_defs": false,
   "report_style_numbering": false,
   "user_envs_cfg": false
  }
 },
 "nbformat": 4,
 "nbformat_minor": 4
}
